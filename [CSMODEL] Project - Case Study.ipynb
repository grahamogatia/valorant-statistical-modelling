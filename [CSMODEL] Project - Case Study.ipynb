{
 "cells": [
  {
   "cell_type": "markdown",
   "source": [
    "# Valorant Statistics"
   ],
   "attachments": {},
   "metadata": {
    "datalore": {
     "node_id": "Valorant Statistics",
     "type": "MD",
     "hide_input_from_viewers": false,
     "hide_output_from_viewers": false,
     "sheet_delimiter": true
    }
   }
  },
  {
   "cell_type": "markdown",
   "source": [
    "# Case Study - Group 11 (S11)\n",
    "\n",
    "### Group Members\n",
    "- **Darylle Xander Calugtong**\n",
    "- **Graham Joshua Ogatia**\n",
    "- **Joshua Permito**\n",
    "- **Shem Matthew Salih**"
   ],
   "attachments": {},
   "metadata": {
    "datalore": {
     "node_id": "MMEng583v5yJ3kt61mitFD",
     "type": "MD",
     "hide_input_from_viewers": false,
     "hide_output_from_viewers": false,
     "report_properties": {
      "rowId": "7Pvkmuo8757U8ajEKNMuMw"
     }
    }
   }
  },
  {
   "cell_type": "markdown",
   "source": [
    "## Dataset Information\n",
    "Our chosen dataset is the [Valorant Leaderboard Statistics](https://www.kaggle.com/datasets/aliibrahim10/valorant-stats).\n",
    "This dataset contains [tracker.gg](https://tracker.gg/) statistics with 80,000+ observations and 38 variables\n",
    "from **Episode 4: Act 3** (April 2022) of the game **Valorant**.\n",
    "### Important\n",
    "The observations in the dataset only contain players who are **Immortal** and **Radiant** rank except for a few players\n",
    "who were demoted at the time of data collection.\n",
    "Additionally, only those who consent for the platform [tracker.gg](https://tracker.gg) to gather their statistics have their data in the dataset.\n",
    "### Collection\n",
    "The platform [tracker.gg](https://tracker.gg/) collects the data from the game **Valorant**.\n",
    "This site is a third-party platform that tracks the statistics of players in the game.\n",
    "It is a third-party platform that is not affiliated with the game developers."
   ],
   "attachments": {},
   "metadata": {
    "datalore": {
     "node_id": "kI1KSPM72vOwyJT7AnYBUU",
     "type": "MD",
     "hide_input_from_viewers": false,
     "hide_output_from_viewers": false,
     "report_properties": {
      "rowId": "6AQ9fyjuMfLxTeu0ySYby3"
     }
    }
   }
  },
  {
   "cell_type": "markdown",
   "source": [
    "## Dataset Structure\n",
    "Each row represents a player's statistics in the game **Valorant**.\n",
    "Each column represents a variable that describes the player's statistics.\n",
    "\n",
    "### Variables\n",
    "- `region` - The region of the player.\n",
    "- `name` - The name of the player. (used together with `tag`)\n",
    "- `tag` - The tag of the player. (used together with `name`)\n",
    "- `rating` - The rank of the player.\n",
    "- `damage_round` - The average damage per round of the player in all matches.\n",
    "- `headshots` - Total number of headshots of the player in all matches.\n",
    "- `headshot_percent` - Percentage of total hit shots that are headshots of the player in all matches.\n",
    "- `aces` - Total number of aces of the player in all matches. An ace is when a player kills all 5 players in the enemy team in a single round.\n",
    "- `clutches` - Total number of clutches of the player in all matches. A clutch is when a player wins a round when they are the last player alive in their team.\n",
    "- `flawless` - Total number of flawless rounds of the player in all matches. A flawless round is when a team wins a round without any of their players dying.\n",
    "- `first_bloods` - Total number of first bloods of the player in all matches.\n",
    "- `kills` - Total number of kills of the player in all matches.\n",
    "- `deaths` - Total number of deaths of the player in all matches.\n",
    "- `assists` - Total number of assists of the player in all matches.\n",
    "- `kd_ratio` - The kill-death ratio of the player in all matches.\n",
    "- `kills_round` - Average number of kills per round of the player in all matches.\n",
    "- `most_kills` - Most number of kills in a single match of the player in all matches.\n",
    "- `score_round` - Average score per round of the player in all matches.\n",
    "- `wins` - Total number of wins of the player in all matches.\n",
    "- `win_percent` - Percentage of total matches won of the player in all matches.\n",
    "- `agent_1` - Most played agent of the player in all matches based on hours.\n",
    "- `agent_2` - Second most played agent of the player in all matches based on hours.\n",
    "- `agent_3` - Third most played agent of the player in all matches based on hours.\n",
    "- `gun1_name` - Player's best gun in all matches based on kills.\n",
    "- `gun1_head` - Percentage of total hit shots that are headshots of the player using `gun1_name` in all matches.\n",
    "- `gun1_body` - Percentage of total hit shots that are body shots of the player using `gun1_name` in all matches.\n",
    "- `gun1_legs` - Percentage of total hit shots that are leg shots of the player using `gun1_name` in all matches.\n",
    "- `gun1_kills` - Total number of kills of the player using `gun1_name` in all matches.\n",
    "- `gun2_name` - Player's second-best gun in all matches based on kills.\n",
    "- `gun2_head` - Percentage of total hit shots that are headshots of the player using `gun2_name` in all matches.\n",
    "- `gun2_body` - Percentage of total hit shots that are body shots of the player using `gun2_name` in all matches.\n",
    "- `gun2_legs` - Percentage of total hit shots that are leg shots of the player using `gun2_name` in all matches.\n",
    "- `gun2_kills` - Total number of kills of the player using `gun2_name` in all matches.\n",
    "- `gun3_name` - Player's third-best gun in all matches based on kills.\n",
    "- `gun3_head` - Percentage of total hit shots that are headshots of the player using `gun3_name` in all matches.\n",
    "- `gun3_body` - Percentage of total hit shots that are body shots of the player using `gun3_name` in all matches.\n",
    "- `gun3_legs` - Percentage of total hit shots that are leg shots of the player using `gun3_name` in all matches.\n",
    "- `gun3_kills` - Total number of kills of the player using `gun3_name` in all matches."
   ],
   "attachments": {},
   "metadata": {
    "datalore": {
     "node_id": "0amwMcsXTg6v0vxXDZ6ojt",
     "type": "MD",
     "hide_input_from_viewers": false,
     "hide_output_from_viewers": false,
     "report_properties": {
      "rowId": "sFQ87eNTy14BwpeD8FNml5"
     }
    }
   }
  },
  {
   "cell_type": "markdown",
   "source": [
    "## Preprocessing"
   ],
   "attachments": {},
   "metadata": {
    "datalore": {
     "node_id": "48QHov8NYrGJ0U3iaOslrr",
     "type": "MD",
     "hide_input_from_viewers": false,
     "hide_output_from_viewers": false,
     "report_properties": {
      "rowId": "LkoZsVcmIGkdmhzWBI9mgJ"
     }
    }
   }
  },
  {
   "cell_type": "markdown",
   "source": [
    "### Import Libraries\n",
    "First, we need to import the necessary libraries.\n",
    "\n",
    "We will be using the following libraries:\n",
    "- `pandas` - for data manipulation\n",
    "- `numpy` - for mathematical operations\n",
    "- `matplotlib` - for data visualization"
   ],
   "attachments": {},
   "metadata": {
    "datalore": {
     "node_id": "t87VFUtb79JRHgJu8FoDVD",
     "type": "MD",
     "hide_input_from_viewers": false,
     "hide_output_from_viewers": false,
     "report_properties": {
      "rowId": "lmZ4LmfOMKrFzLAAFQ4h4I"
     }
    }
   }
  },
  {
   "cell_type": "code",
   "source": [
    "import pandas as pd\n",
    "import numpy as np\n",
    "import matplotlib.pyplot as plt"
   ],
   "execution_count": 59,
   "outputs": [],
   "metadata": {
    "datalore": {
     "node_id": "PQ3gIkUG0YqBMDHcmxv0iF",
     "type": "CODE",
     "hide_input_from_viewers": false,
     "hide_output_from_viewers": false,
     "report_properties": {
      "rowId": "ac9Vzws2lOzQzeiJHVoIgs"
     }
    },
    "ExecuteTime": {
     "end_time": "2023-10-04T10:41:07.945169Z",
     "start_time": "2023-10-04T10:41:07.782147Z"
    }
   }
  },
  {
   "cell_type": "markdown",
   "source": [
    "### Importing the Dataset"
   ],
   "attachments": {},
   "metadata": {
    "datalore": {
     "node_id": "fe6wuE2tCPtDNRcReFqMgj",
     "type": "MD",
     "hide_input_from_viewers": false,
     "hide_output_from_viewers": false,
     "report_properties": {
      "rowId": "QtFmV2AZMDoo7m8nWW5zRR"
     }
    }
   }
  },
  {
   "cell_type": "code",
   "source": [
    "# Only consider blank cells as NA, and thousands to specify the thousands separator\n",
    "val_df = pd.read_csv('val_stats.csv', thousands=',', keep_default_na=False, na_values=[''],\n",
    "                     dtype={'region':'category', 'rating':'category'})\n",
    "val_df"
   ],
   "execution_count": 60,
   "outputs": [
    {
     "data": {
      "text/plain": "      region            name     tag      rating  damage_round  headshots  \\\n0         NA        ShimmyXD    #NA1     Radiant         135.8        992   \n1         NA       XSET Cryo  #cells     Radiant         170.3        879   \n2         NA   PuRelittleone  #yoruW     Radiant         147.5        720   \n3         NA            Boba   #0068     Radiant         178.2        856   \n4         NA     i love mina  #kelly     Radiant         149.8        534   \n...      ...             ...     ...         ...           ...        ...   \n85673    LAT        Kazutora  #img0d     Radiant         138.2        342   \n85674    LAT  el lobo marino  #uthur     Radiant         182.9        650   \n85675    LAT          p9pzet   #666x     Radiant         158.8        613   \n85676    LAT  EZ4TGD EnSBuwu  #kmeve  Immortal 3         155.9        132   \n85677    LAT            Neon    #SSJ     Radiant         164.4       1127   \n\n       headshot_percent  aces  clutches  flawless  ...  gun2_name  gun2_head  \\\n0                  24.9     0       140        80  ...    Phantom         33   \n1                  28.3     2       122        94  ...   Operator          8   \n2                  24.0     3       117        59  ...    Phantom         36   \n3                  37.3     3        83        49  ...    Sheriff         48   \n4                  24.4     2        71        38  ...    Spectre         21   \n...                 ...   ...       ...       ...  ...        ...        ...   \n85673              21.4     0        58        54  ...     Vandal         28   \n85674              30.1     4        77        42  ...     Vandal         40   \n85675              30.2     0        70        54  ...    Phantom         40   \n85676              22.2     0        23        18  ...    Phantom         39   \n85677              20.7     3       136        82  ...   Operator          9   \n\n       gun2_body  gun2_legs  gun2_kills  gun3_name  gun3_head  gun3_body  \\\n0             62          5         220    Classic         36         60   \n1             91          0         226    Phantom         32         63   \n2             61          3         231   Operator          8         91   \n3             51          1          48    Phantom         44         56   \n4             71          8          65   Operator          8         92   \n...          ...        ...         ...        ...        ...        ...   \n85673         69          2         175    Classic         39         59   \n85674         57          3         212    Spectre         33         63   \n85675         56          4         159   Operator         10         89   \n85676         57          3          37    Spectre         27         69   \n85677         88          2         132    Spectre         27         70   \n\n       gun3_legs  gun3_kills  \n0              3         147  \n1              5         137  \n2              1         102  \n3              0          36  \n4              0          64  \n...          ...         ...  \n85673          2          71  \n85674          5         139  \n85675          1          87  \n85676          4          17  \n85677          2         108  \n\n[85678 rows x 38 columns]",
      "text/html": "<div>\n<style scoped>\n    .dataframe tbody tr th:only-of-type {\n        vertical-align: middle;\n    }\n\n    .dataframe tbody tr th {\n        vertical-align: top;\n    }\n\n    .dataframe thead th {\n        text-align: right;\n    }\n</style>\n<table border=\"1\" class=\"dataframe\">\n  <thead>\n    <tr style=\"text-align: right;\">\n      <th></th>\n      <th>region</th>\n      <th>name</th>\n      <th>tag</th>\n      <th>rating</th>\n      <th>damage_round</th>\n      <th>headshots</th>\n      <th>headshot_percent</th>\n      <th>aces</th>\n      <th>clutches</th>\n      <th>flawless</th>\n      <th>...</th>\n      <th>gun2_name</th>\n      <th>gun2_head</th>\n      <th>gun2_body</th>\n      <th>gun2_legs</th>\n      <th>gun2_kills</th>\n      <th>gun3_name</th>\n      <th>gun3_head</th>\n      <th>gun3_body</th>\n      <th>gun3_legs</th>\n      <th>gun3_kills</th>\n    </tr>\n  </thead>\n  <tbody>\n    <tr>\n      <th>0</th>\n      <td>NA</td>\n      <td>ShimmyXD</td>\n      <td>#NA1</td>\n      <td>Radiant</td>\n      <td>135.8</td>\n      <td>992</td>\n      <td>24.9</td>\n      <td>0</td>\n      <td>140</td>\n      <td>80</td>\n      <td>...</td>\n      <td>Phantom</td>\n      <td>33</td>\n      <td>62</td>\n      <td>5</td>\n      <td>220</td>\n      <td>Classic</td>\n      <td>36</td>\n      <td>60</td>\n      <td>3</td>\n      <td>147</td>\n    </tr>\n    <tr>\n      <th>1</th>\n      <td>NA</td>\n      <td>XSET Cryo</td>\n      <td>#cells</td>\n      <td>Radiant</td>\n      <td>170.3</td>\n      <td>879</td>\n      <td>28.3</td>\n      <td>2</td>\n      <td>122</td>\n      <td>94</td>\n      <td>...</td>\n      <td>Operator</td>\n      <td>8</td>\n      <td>91</td>\n      <td>0</td>\n      <td>226</td>\n      <td>Phantom</td>\n      <td>32</td>\n      <td>63</td>\n      <td>5</td>\n      <td>137</td>\n    </tr>\n    <tr>\n      <th>2</th>\n      <td>NA</td>\n      <td>PuRelittleone</td>\n      <td>#yoruW</td>\n      <td>Radiant</td>\n      <td>147.5</td>\n      <td>720</td>\n      <td>24.0</td>\n      <td>3</td>\n      <td>117</td>\n      <td>59</td>\n      <td>...</td>\n      <td>Phantom</td>\n      <td>36</td>\n      <td>61</td>\n      <td>3</td>\n      <td>231</td>\n      <td>Operator</td>\n      <td>8</td>\n      <td>91</td>\n      <td>1</td>\n      <td>102</td>\n    </tr>\n    <tr>\n      <th>3</th>\n      <td>NA</td>\n      <td>Boba</td>\n      <td>#0068</td>\n      <td>Radiant</td>\n      <td>178.2</td>\n      <td>856</td>\n      <td>37.3</td>\n      <td>3</td>\n      <td>83</td>\n      <td>49</td>\n      <td>...</td>\n      <td>Sheriff</td>\n      <td>48</td>\n      <td>51</td>\n      <td>1</td>\n      <td>48</td>\n      <td>Phantom</td>\n      <td>44</td>\n      <td>56</td>\n      <td>0</td>\n      <td>36</td>\n    </tr>\n    <tr>\n      <th>4</th>\n      <td>NA</td>\n      <td>i love mina</td>\n      <td>#kelly</td>\n      <td>Radiant</td>\n      <td>149.8</td>\n      <td>534</td>\n      <td>24.4</td>\n      <td>2</td>\n      <td>71</td>\n      <td>38</td>\n      <td>...</td>\n      <td>Spectre</td>\n      <td>21</td>\n      <td>71</td>\n      <td>8</td>\n      <td>65</td>\n      <td>Operator</td>\n      <td>8</td>\n      <td>92</td>\n      <td>0</td>\n      <td>64</td>\n    </tr>\n    <tr>\n      <th>...</th>\n      <td>...</td>\n      <td>...</td>\n      <td>...</td>\n      <td>...</td>\n      <td>...</td>\n      <td>...</td>\n      <td>...</td>\n      <td>...</td>\n      <td>...</td>\n      <td>...</td>\n      <td>...</td>\n      <td>...</td>\n      <td>...</td>\n      <td>...</td>\n      <td>...</td>\n      <td>...</td>\n      <td>...</td>\n      <td>...</td>\n      <td>...</td>\n      <td>...</td>\n      <td>...</td>\n    </tr>\n    <tr>\n      <th>85673</th>\n      <td>LAT</td>\n      <td>Kazutora</td>\n      <td>#img0d</td>\n      <td>Radiant</td>\n      <td>138.2</td>\n      <td>342</td>\n      <td>21.4</td>\n      <td>0</td>\n      <td>58</td>\n      <td>54</td>\n      <td>...</td>\n      <td>Vandal</td>\n      <td>28</td>\n      <td>69</td>\n      <td>2</td>\n      <td>175</td>\n      <td>Classic</td>\n      <td>39</td>\n      <td>59</td>\n      <td>2</td>\n      <td>71</td>\n    </tr>\n    <tr>\n      <th>85674</th>\n      <td>LAT</td>\n      <td>el lobo marino</td>\n      <td>#uthur</td>\n      <td>Radiant</td>\n      <td>182.9</td>\n      <td>650</td>\n      <td>30.1</td>\n      <td>4</td>\n      <td>77</td>\n      <td>42</td>\n      <td>...</td>\n      <td>Vandal</td>\n      <td>40</td>\n      <td>57</td>\n      <td>3</td>\n      <td>212</td>\n      <td>Spectre</td>\n      <td>33</td>\n      <td>63</td>\n      <td>5</td>\n      <td>139</td>\n    </tr>\n    <tr>\n      <th>85675</th>\n      <td>LAT</td>\n      <td>p9pzet</td>\n      <td>#666x</td>\n      <td>Radiant</td>\n      <td>158.8</td>\n      <td>613</td>\n      <td>30.2</td>\n      <td>0</td>\n      <td>70</td>\n      <td>54</td>\n      <td>...</td>\n      <td>Phantom</td>\n      <td>40</td>\n      <td>56</td>\n      <td>4</td>\n      <td>159</td>\n      <td>Operator</td>\n      <td>10</td>\n      <td>89</td>\n      <td>1</td>\n      <td>87</td>\n    </tr>\n    <tr>\n      <th>85676</th>\n      <td>LAT</td>\n      <td>EZ4TGD EnSBuwu</td>\n      <td>#kmeve</td>\n      <td>Immortal 3</td>\n      <td>155.9</td>\n      <td>132</td>\n      <td>22.2</td>\n      <td>0</td>\n      <td>23</td>\n      <td>18</td>\n      <td>...</td>\n      <td>Phantom</td>\n      <td>39</td>\n      <td>57</td>\n      <td>3</td>\n      <td>37</td>\n      <td>Spectre</td>\n      <td>27</td>\n      <td>69</td>\n      <td>4</td>\n      <td>17</td>\n    </tr>\n    <tr>\n      <th>85677</th>\n      <td>LAT</td>\n      <td>Neon</td>\n      <td>#SSJ</td>\n      <td>Radiant</td>\n      <td>164.4</td>\n      <td>1127</td>\n      <td>20.7</td>\n      <td>3</td>\n      <td>136</td>\n      <td>82</td>\n      <td>...</td>\n      <td>Operator</td>\n      <td>9</td>\n      <td>88</td>\n      <td>2</td>\n      <td>132</td>\n      <td>Spectre</td>\n      <td>27</td>\n      <td>70</td>\n      <td>2</td>\n      <td>108</td>\n    </tr>\n  </tbody>\n</table>\n<p>85678 rows × 38 columns</p>\n</div>"
     },
     "execution_count": 60,
     "metadata": {},
     "output_type": "execute_result"
    }
   ],
   "metadata": {
    "datalore": {
     "node_id": "qh97s2e7yiFcdyidpMoHJO",
     "type": "CODE",
     "hide_input_from_viewers": false,
     "hide_output_from_viewers": false,
     "report_properties": {
      "rowId": "7GdCGxHdaCpgvlShcJp0Bw"
     }
    },
    "ExecuteTime": {
     "end_time": "2023-10-04T10:41:08.171490Z",
     "start_time": "2023-10-04T10:41:07.786071Z"
    }
   }
  },
  {
   "cell_type": "markdown",
   "source": [
    "### List of all variables"
   ],
   "attachments": {},
   "metadata": {
    "datalore": {
     "node_id": "YEWRf5HOPwFLz0yS1ZiI2I",
     "type": "MD",
     "hide_input_from_viewers": false,
     "hide_output_from_viewers": false,
     "report_properties": {
      "rowId": "DdGlnc2P6ELiKVfagZV0Nb"
     }
    }
   }
  },
  {
   "cell_type": "code",
   "source": [
    "[col for col in val_df.columns]"
   ],
   "execution_count": 61,
   "outputs": [
    {
     "data": {
      "text/plain": "['region',\n 'name',\n 'tag',\n 'rating',\n 'damage_round',\n 'headshots',\n 'headshot_percent',\n 'aces',\n 'clutches',\n 'flawless',\n 'first_bloods',\n 'kills',\n 'deaths',\n 'assists',\n 'kd_ratio',\n 'kills_round',\n 'most_kills',\n 'score_round',\n 'wins',\n 'win_percent',\n 'agent_1',\n 'agent_2',\n 'agent_3',\n 'gun1_name',\n 'gun1_head',\n 'gun1_body',\n 'gun1_legs',\n 'gun1_kills',\n 'gun2_name',\n 'gun2_head',\n 'gun2_body',\n 'gun2_legs',\n 'gun2_kills',\n 'gun3_name',\n 'gun3_head',\n 'gun3_body',\n 'gun3_legs',\n 'gun3_kills']"
     },
     "execution_count": 61,
     "metadata": {},
     "output_type": "execute_result"
    }
   ],
   "metadata": {
    "datalore": {
     "node_id": "AI9SqX5E53D7wbhFCCB2Ie",
     "type": "CODE",
     "hide_input_from_viewers": false,
     "hide_output_from_viewers": false,
     "report_properties": {
      "rowId": "l8D4E01aMRNsOY6oEMFkP2"
     }
    },
    "ExecuteTime": {
     "end_time": "2023-10-04T10:41:08.176417Z",
     "start_time": "2023-10-04T10:41:08.173054Z"
    }
   }
  },
  {
   "cell_type": "markdown",
   "source": [
    "## Data Cleaning"
   ],
   "attachments": {},
   "metadata": {
    "datalore": {
     "node_id": "eEuJUBdfFruA1UITJECBpl",
     "type": "MD",
     "hide_input_from_viewers": false,
     "hide_output_from_viewers": false,
     "report_properties": {
      "rowId": "GajwRRmCuu5qNUe7T3YTYq"
     }
    }
   }
  },
  {
   "cell_type": "markdown",
   "source": [
    "### Check for Missing Values\n",
    "Let us check the size of the dataset before cleaning missing values."
   ],
   "attachments": {},
   "metadata": {
    "datalore": {
     "node_id": "v9s74wJ3VQPaO6yvfKHW6S",
     "type": "MD",
     "hide_input_from_viewers": false,
     "hide_output_from_viewers": false,
     "report_properties": {
      "rowId": "3O0u9JGPxq77RKSw1VxAnS"
     }
    }
   }
  },
  {
   "cell_type": "code",
   "source": [
    "val_df.shape"
   ],
   "execution_count": 62,
   "outputs": [
    {
     "data": {
      "text/plain": "(85678, 38)"
     },
     "execution_count": 62,
     "metadata": {},
     "output_type": "execute_result"
    }
   ],
   "metadata": {
    "datalore": {
     "node_id": "CuWfcfa13IGQ0jhgOl1Q9N",
     "type": "CODE",
     "hide_input_from_viewers": false,
     "hide_output_from_viewers": false,
     "report_properties": {
      "rowId": "HOITW405zHxeVJdVIFCAw5"
     }
    },
    "ExecuteTime": {
     "end_time": "2023-10-04T10:41:08.185025Z",
     "start_time": "2023-10-04T10:41:08.179184Z"
    }
   }
  },
  {
   "cell_type": "markdown",
   "source": [
    "There are 85678 rows and 38 columns.\n",
    "\n",
    "We can now begin checking for missing values."
   ],
   "attachments": {},
   "metadata": {
    "datalore": {
     "node_id": "2cU5e0ktnXNZnhKCbWfOF9",
     "type": "MD",
     "hide_input_from_viewers": false,
     "hide_output_from_viewers": false,
     "report_properties": {
      "rowId": "vz6WxOW1j9h1yGR30h2ZsE"
     }
    }
   }
  },
  {
   "cell_type": "code",
   "source": [
    "missing_df = val_df.isnull().sum()\n",
    "missing_df[missing_df > 0]"
   ],
   "execution_count": 63,
   "outputs": [
    {
     "data": {
      "text/plain": "name          2\ntag         320\nagent_2    1987\nagent_3    5217\ndtype: int64"
     },
     "execution_count": 63,
     "metadata": {},
     "output_type": "execute_result"
    }
   ],
   "metadata": {
    "datalore": {
     "node_id": "PELWDZVCDm5mk35bgQMLDd",
     "type": "CODE",
     "hide_input_from_viewers": false,
     "hide_output_from_viewers": false,
     "report_properties": {
      "rowId": "YA7ynHsAWJUQILRG8B0ZuS"
     }
    },
    "ExecuteTime": {
     "end_time": "2023-10-04T10:41:08.292952Z",
     "start_time": "2023-10-04T10:41:08.184529Z"
    }
   }
  },
  {
   "cell_type": "markdown",
   "source": [
    "There is something suspicious with the `tag` column. There are a lot of \"missing values\"."
   ],
   "attachments": {},
   "metadata": {
    "datalore": {
     "node_id": "WNotH5Cc3CTzajUuVCiL7O",
     "type": "MD",
     "hide_input_from_viewers": false,
     "hide_output_from_viewers": false,
     "report_properties": {
      "rowId": "OGuM5H6iGuzfc6194Qz5wB"
     }
    }
   }
  },
  {
   "cell_type": "code",
   "source": [
    "null_df = val_df[val_df['tag'].isnull()]\n",
    "null_df"
   ],
   "execution_count": 64,
   "outputs": [
    {
     "data": {
      "text/plain": "      region                 name  tag      rating  damage_round  headshots  \\\n304       NA  Wilma Caukfit#fk no  NaN  Immortal 3         117.8        372   \n1005      NA          ylang#Luv U  NaN  Immortal 1         136.9       1135   \n1059      NA            pup#ARI G  NaN  Immortal 1         134.1        398   \n1371      NA        jawniss#luv u  NaN  Immortal 1         195.6         56   \n1581      NA       LFT Comfy#NA 1  NaN  Immortal 1         136.8        273   \n...      ...                  ...  ...         ...           ...        ...   \n83617    LAT   RVN FroxeKzz#EZ GG  NaN  Immortal 1         143.6        874   \n83630    LAT        TriggeR#One T  NaN  Immortal 1         146.5        381   \n84040    LAT         Maniex#on ig  NaN  Immortal 2         148.5        731   \n84289    LAT           keii#on ig  NaN  Immortal 2         164.3        685   \n84649    LAT  bife ãƒ„#ãƒ„ å¼·åŠ›  NaN  Immortal 2         138.2        346   \n\n       headshot_percent  aces  clutches  flawless  ...  gun2_name  gun2_head  \\\n304                25.6     0        63        26  ...     Vandal         38   \n1005               24.2     3       135        92  ...     Vandal         40   \n1059               21.6     1        78        43  ...    Phantom         31   \n1371               26.9     0         4         3  ...   Operator          0   \n1581               17.9     0        47        27  ...    Phantom         22   \n...                 ...   ...       ...       ...  ...        ...        ...   \n83617              21.4     1       110        72  ...     Vandal         30   \n83630              15.6     1        65        35  ...     Vandal         26   \n84040              24.9     0        91        61  ...    Phantom         28   \n84289              25.1     6        74        68  ...    Phantom         27   \n84649              18.3     1        52        35  ...    Phantom         25   \n\n       gun2_body  gun2_legs  gun2_kills  gun3_name  gun3_head  gun3_body  \\\n304           59          3         161    Spectre         27         70   \n1005          55          5         397    Spectre         22         71   \n1059          66          3         161      Ghost         40         55   \n1371         100          0          14    Spectre         14         86   \n1581          73          4         108    Classic         26         71   \n...          ...        ...         ...        ...        ...        ...   \n83617         64          6         300    Spectre         24         71   \n83630         68          5         199    Spectre         11         76   \n84040         67          6         211    Spectre         26         68   \n84289         68          5         132      Ghost         32         65   \n84649         66          9          90    Spectre         16         69   \n\n       gun3_legs  gun3_kills  \n304            3          39  \n1005           7          84  \n1059           6          53  \n1371           0           4  \n1581           3          37  \n...          ...         ...  \n83617          5         148  \n83630         13         122  \n84040          6          86  \n84289          3          58  \n84649         15          47  \n\n[320 rows x 38 columns]",
      "text/html": "<div>\n<style scoped>\n    .dataframe tbody tr th:only-of-type {\n        vertical-align: middle;\n    }\n\n    .dataframe tbody tr th {\n        vertical-align: top;\n    }\n\n    .dataframe thead th {\n        text-align: right;\n    }\n</style>\n<table border=\"1\" class=\"dataframe\">\n  <thead>\n    <tr style=\"text-align: right;\">\n      <th></th>\n      <th>region</th>\n      <th>name</th>\n      <th>tag</th>\n      <th>rating</th>\n      <th>damage_round</th>\n      <th>headshots</th>\n      <th>headshot_percent</th>\n      <th>aces</th>\n      <th>clutches</th>\n      <th>flawless</th>\n      <th>...</th>\n      <th>gun2_name</th>\n      <th>gun2_head</th>\n      <th>gun2_body</th>\n      <th>gun2_legs</th>\n      <th>gun2_kills</th>\n      <th>gun3_name</th>\n      <th>gun3_head</th>\n      <th>gun3_body</th>\n      <th>gun3_legs</th>\n      <th>gun3_kills</th>\n    </tr>\n  </thead>\n  <tbody>\n    <tr>\n      <th>304</th>\n      <td>NA</td>\n      <td>Wilma Caukfit#fk no</td>\n      <td>NaN</td>\n      <td>Immortal 3</td>\n      <td>117.8</td>\n      <td>372</td>\n      <td>25.6</td>\n      <td>0</td>\n      <td>63</td>\n      <td>26</td>\n      <td>...</td>\n      <td>Vandal</td>\n      <td>38</td>\n      <td>59</td>\n      <td>3</td>\n      <td>161</td>\n      <td>Spectre</td>\n      <td>27</td>\n      <td>70</td>\n      <td>3</td>\n      <td>39</td>\n    </tr>\n    <tr>\n      <th>1005</th>\n      <td>NA</td>\n      <td>ylang#Luv U</td>\n      <td>NaN</td>\n      <td>Immortal 1</td>\n      <td>136.9</td>\n      <td>1135</td>\n      <td>24.2</td>\n      <td>3</td>\n      <td>135</td>\n      <td>92</td>\n      <td>...</td>\n      <td>Vandal</td>\n      <td>40</td>\n      <td>55</td>\n      <td>5</td>\n      <td>397</td>\n      <td>Spectre</td>\n      <td>22</td>\n      <td>71</td>\n      <td>7</td>\n      <td>84</td>\n    </tr>\n    <tr>\n      <th>1059</th>\n      <td>NA</td>\n      <td>pup#ARI G</td>\n      <td>NaN</td>\n      <td>Immortal 1</td>\n      <td>134.1</td>\n      <td>398</td>\n      <td>21.6</td>\n      <td>1</td>\n      <td>78</td>\n      <td>43</td>\n      <td>...</td>\n      <td>Phantom</td>\n      <td>31</td>\n      <td>66</td>\n      <td>3</td>\n      <td>161</td>\n      <td>Ghost</td>\n      <td>40</td>\n      <td>55</td>\n      <td>6</td>\n      <td>53</td>\n    </tr>\n    <tr>\n      <th>1371</th>\n      <td>NA</td>\n      <td>jawniss#luv u</td>\n      <td>NaN</td>\n      <td>Immortal 1</td>\n      <td>195.6</td>\n      <td>56</td>\n      <td>26.9</td>\n      <td>0</td>\n      <td>4</td>\n      <td>3</td>\n      <td>...</td>\n      <td>Operator</td>\n      <td>0</td>\n      <td>100</td>\n      <td>0</td>\n      <td>14</td>\n      <td>Spectre</td>\n      <td>14</td>\n      <td>86</td>\n      <td>0</td>\n      <td>4</td>\n    </tr>\n    <tr>\n      <th>1581</th>\n      <td>NA</td>\n      <td>LFT Comfy#NA 1</td>\n      <td>NaN</td>\n      <td>Immortal 1</td>\n      <td>136.8</td>\n      <td>273</td>\n      <td>17.9</td>\n      <td>0</td>\n      <td>47</td>\n      <td>27</td>\n      <td>...</td>\n      <td>Phantom</td>\n      <td>22</td>\n      <td>73</td>\n      <td>4</td>\n      <td>108</td>\n      <td>Classic</td>\n      <td>26</td>\n      <td>71</td>\n      <td>3</td>\n      <td>37</td>\n    </tr>\n    <tr>\n      <th>...</th>\n      <td>...</td>\n      <td>...</td>\n      <td>...</td>\n      <td>...</td>\n      <td>...</td>\n      <td>...</td>\n      <td>...</td>\n      <td>...</td>\n      <td>...</td>\n      <td>...</td>\n      <td>...</td>\n      <td>...</td>\n      <td>...</td>\n      <td>...</td>\n      <td>...</td>\n      <td>...</td>\n      <td>...</td>\n      <td>...</td>\n      <td>...</td>\n      <td>...</td>\n      <td>...</td>\n    </tr>\n    <tr>\n      <th>83617</th>\n      <td>LAT</td>\n      <td>RVN FroxeKzz#EZ GG</td>\n      <td>NaN</td>\n      <td>Immortal 1</td>\n      <td>143.6</td>\n      <td>874</td>\n      <td>21.4</td>\n      <td>1</td>\n      <td>110</td>\n      <td>72</td>\n      <td>...</td>\n      <td>Vandal</td>\n      <td>30</td>\n      <td>64</td>\n      <td>6</td>\n      <td>300</td>\n      <td>Spectre</td>\n      <td>24</td>\n      <td>71</td>\n      <td>5</td>\n      <td>148</td>\n    </tr>\n    <tr>\n      <th>83630</th>\n      <td>LAT</td>\n      <td>TriggeR#One T</td>\n      <td>NaN</td>\n      <td>Immortal 1</td>\n      <td>146.5</td>\n      <td>381</td>\n      <td>15.6</td>\n      <td>1</td>\n      <td>65</td>\n      <td>35</td>\n      <td>...</td>\n      <td>Vandal</td>\n      <td>26</td>\n      <td>68</td>\n      <td>5</td>\n      <td>199</td>\n      <td>Spectre</td>\n      <td>11</td>\n      <td>76</td>\n      <td>13</td>\n      <td>122</td>\n    </tr>\n    <tr>\n      <th>84040</th>\n      <td>LAT</td>\n      <td>Maniex#on ig</td>\n      <td>NaN</td>\n      <td>Immortal 2</td>\n      <td>148.5</td>\n      <td>731</td>\n      <td>24.9</td>\n      <td>0</td>\n      <td>91</td>\n      <td>61</td>\n      <td>...</td>\n      <td>Phantom</td>\n      <td>28</td>\n      <td>67</td>\n      <td>6</td>\n      <td>211</td>\n      <td>Spectre</td>\n      <td>26</td>\n      <td>68</td>\n      <td>6</td>\n      <td>86</td>\n    </tr>\n    <tr>\n      <th>84289</th>\n      <td>LAT</td>\n      <td>keii#on ig</td>\n      <td>NaN</td>\n      <td>Immortal 2</td>\n      <td>164.3</td>\n      <td>685</td>\n      <td>25.1</td>\n      <td>6</td>\n      <td>74</td>\n      <td>68</td>\n      <td>...</td>\n      <td>Phantom</td>\n      <td>27</td>\n      <td>68</td>\n      <td>5</td>\n      <td>132</td>\n      <td>Ghost</td>\n      <td>32</td>\n      <td>65</td>\n      <td>3</td>\n      <td>58</td>\n    </tr>\n    <tr>\n      <th>84649</th>\n      <td>LAT</td>\n      <td>bife ãƒ„#ãƒ„ å¼·åŠ›</td>\n      <td>NaN</td>\n      <td>Immortal 2</td>\n      <td>138.2</td>\n      <td>346</td>\n      <td>18.3</td>\n      <td>1</td>\n      <td>52</td>\n      <td>35</td>\n      <td>...</td>\n      <td>Phantom</td>\n      <td>25</td>\n      <td>66</td>\n      <td>9</td>\n      <td>90</td>\n      <td>Spectre</td>\n      <td>16</td>\n      <td>69</td>\n      <td>15</td>\n      <td>47</td>\n    </tr>\n  </tbody>\n</table>\n<p>320 rows × 38 columns</p>\n</div>"
     },
     "execution_count": 64,
     "metadata": {},
     "output_type": "execute_result"
    }
   ],
   "metadata": {
    "datalore": {
     "node_id": "G1tobtMslAat4PKO8A5U1r",
     "type": "CODE",
     "hide_input_from_viewers": false,
     "hide_output_from_viewers": false,
     "report_properties": {
      "rowId": "u4mKzscS8kNuXp1BoEasbh"
     }
    },
    "ExecuteTime": {
     "end_time": "2023-10-04T10:41:08.293905Z",
     "start_time": "2023-10-04T10:41:08.271537Z"
    }
   }
  },
  {
   "cell_type": "markdown",
   "source": [
    "It looks like the tag was appended to the name. We will fix this by splitting the `name` column into two columns."
   ],
   "attachments": {},
   "metadata": {
    "datalore": {
     "node_id": "5iDlRInZOusXMjHfDWrUp0",
     "type": "MD",
     "hide_input_from_viewers": false,
     "hide_output_from_viewers": false,
     "report_properties": {
      "rowId": "IaLdBNO4iDCr9nnpBFy4jj"
     }
    }
   }
  },
  {
   "cell_type": "code",
   "source": [
    "# Split the name column into two columns\n",
    "null_df = null_df['name'].str.split('#', expand=True)\n",
    "null_df = null_df.rename(columns={0:'name', 1:'tag'})\n",
    "null_df.loc[:, 'tag'] = '#' + null_df['tag']\n",
    "null_df"
   ],
   "execution_count": 65,
   "outputs": [
    {
     "data": {
      "text/plain": "                name          tag\n304    Wilma Caukfit       #fk no\n1005           ylang       #Luv U\n1059             pup       #ARI G\n1371         jawniss       #luv u\n1581       LFT Comfy        #NA 1\n...              ...          ...\n83617   RVN FroxeKzz       #EZ GG\n83630        TriggeR       #One T\n84040         Maniex       #on ig\n84289           keii       #on ig\n84649       bife ãƒ„  #ãƒ„ å¼·åŠ›\n\n[320 rows x 2 columns]",
      "text/html": "<div>\n<style scoped>\n    .dataframe tbody tr th:only-of-type {\n        vertical-align: middle;\n    }\n\n    .dataframe tbody tr th {\n        vertical-align: top;\n    }\n\n    .dataframe thead th {\n        text-align: right;\n    }\n</style>\n<table border=\"1\" class=\"dataframe\">\n  <thead>\n    <tr style=\"text-align: right;\">\n      <th></th>\n      <th>name</th>\n      <th>tag</th>\n    </tr>\n  </thead>\n  <tbody>\n    <tr>\n      <th>304</th>\n      <td>Wilma Caukfit</td>\n      <td>#fk no</td>\n    </tr>\n    <tr>\n      <th>1005</th>\n      <td>ylang</td>\n      <td>#Luv U</td>\n    </tr>\n    <tr>\n      <th>1059</th>\n      <td>pup</td>\n      <td>#ARI G</td>\n    </tr>\n    <tr>\n      <th>1371</th>\n      <td>jawniss</td>\n      <td>#luv u</td>\n    </tr>\n    <tr>\n      <th>1581</th>\n      <td>LFT Comfy</td>\n      <td>#NA 1</td>\n    </tr>\n    <tr>\n      <th>...</th>\n      <td>...</td>\n      <td>...</td>\n    </tr>\n    <tr>\n      <th>83617</th>\n      <td>RVN FroxeKzz</td>\n      <td>#EZ GG</td>\n    </tr>\n    <tr>\n      <th>83630</th>\n      <td>TriggeR</td>\n      <td>#One T</td>\n    </tr>\n    <tr>\n      <th>84040</th>\n      <td>Maniex</td>\n      <td>#on ig</td>\n    </tr>\n    <tr>\n      <th>84289</th>\n      <td>keii</td>\n      <td>#on ig</td>\n    </tr>\n    <tr>\n      <th>84649</th>\n      <td>bife ãƒ„</td>\n      <td>#ãƒ„ å¼·åŠ›</td>\n    </tr>\n  </tbody>\n</table>\n<p>320 rows × 2 columns</p>\n</div>"
     },
     "execution_count": 65,
     "metadata": {},
     "output_type": "execute_result"
    }
   ],
   "metadata": {
    "datalore": {
     "node_id": "z6gCCZ5TanFkwSlHMsGdQr",
     "type": "CODE",
     "hide_input_from_viewers": false,
     "hide_output_from_viewers": false,
     "report_properties": {
      "rowId": "yPpjGelS85iJR6Q0B4P78V"
     }
    },
    "ExecuteTime": {
     "end_time": "2023-10-04T10:41:08.313515Z",
     "start_time": "2023-10-04T10:41:08.302064Z"
    }
   }
  },
  {
   "cell_type": "markdown",
   "source": [
    "Now it looks like the `tag` column is fixed. We will replace the `tag` column in the original dataframe with the fixed `tag` column."
   ],
   "attachments": {},
   "metadata": {
    "datalore": {
     "node_id": "K18TkenMsV1SuESGvYidhh",
     "type": "MD",
     "hide_input_from_viewers": false,
     "hide_output_from_viewers": false,
     "report_properties": {
      "rowId": "tAOUxRJrcSDbLwJtndAMqj"
     }
    }
   }
  },
  {
   "cell_type": "code",
   "source": [
    "# Replace the name and tag column in the original dataframe with the fixed tag column\n",
    "val_df.loc[val_df['tag'].isnull(), ['name', 'tag']] = null_df\n",
    "val_df"
   ],
   "execution_count": 66,
   "outputs": [
    {
     "data": {
      "text/plain": "      region            name     tag      rating  damage_round  headshots  \\\n0         NA        ShimmyXD    #NA1     Radiant         135.8        992   \n1         NA       XSET Cryo  #cells     Radiant         170.3        879   \n2         NA   PuRelittleone  #yoruW     Radiant         147.5        720   \n3         NA            Boba   #0068     Radiant         178.2        856   \n4         NA     i love mina  #kelly     Radiant         149.8        534   \n...      ...             ...     ...         ...           ...        ...   \n85673    LAT        Kazutora  #img0d     Radiant         138.2        342   \n85674    LAT  el lobo marino  #uthur     Radiant         182.9        650   \n85675    LAT          p9pzet   #666x     Radiant         158.8        613   \n85676    LAT  EZ4TGD EnSBuwu  #kmeve  Immortal 3         155.9        132   \n85677    LAT            Neon    #SSJ     Radiant         164.4       1127   \n\n       headshot_percent  aces  clutches  flawless  ...  gun2_name  gun2_head  \\\n0                  24.9     0       140        80  ...    Phantom         33   \n1                  28.3     2       122        94  ...   Operator          8   \n2                  24.0     3       117        59  ...    Phantom         36   \n3                  37.3     3        83        49  ...    Sheriff         48   \n4                  24.4     2        71        38  ...    Spectre         21   \n...                 ...   ...       ...       ...  ...        ...        ...   \n85673              21.4     0        58        54  ...     Vandal         28   \n85674              30.1     4        77        42  ...     Vandal         40   \n85675              30.2     0        70        54  ...    Phantom         40   \n85676              22.2     0        23        18  ...    Phantom         39   \n85677              20.7     3       136        82  ...   Operator          9   \n\n       gun2_body  gun2_legs  gun2_kills  gun3_name  gun3_head  gun3_body  \\\n0             62          5         220    Classic         36         60   \n1             91          0         226    Phantom         32         63   \n2             61          3         231   Operator          8         91   \n3             51          1          48    Phantom         44         56   \n4             71          8          65   Operator          8         92   \n...          ...        ...         ...        ...        ...        ...   \n85673         69          2         175    Classic         39         59   \n85674         57          3         212    Spectre         33         63   \n85675         56          4         159   Operator         10         89   \n85676         57          3          37    Spectre         27         69   \n85677         88          2         132    Spectre         27         70   \n\n       gun3_legs  gun3_kills  \n0              3         147  \n1              5         137  \n2              1         102  \n3              0          36  \n4              0          64  \n...          ...         ...  \n85673          2          71  \n85674          5         139  \n85675          1          87  \n85676          4          17  \n85677          2         108  \n\n[85678 rows x 38 columns]",
      "text/html": "<div>\n<style scoped>\n    .dataframe tbody tr th:only-of-type {\n        vertical-align: middle;\n    }\n\n    .dataframe tbody tr th {\n        vertical-align: top;\n    }\n\n    .dataframe thead th {\n        text-align: right;\n    }\n</style>\n<table border=\"1\" class=\"dataframe\">\n  <thead>\n    <tr style=\"text-align: right;\">\n      <th></th>\n      <th>region</th>\n      <th>name</th>\n      <th>tag</th>\n      <th>rating</th>\n      <th>damage_round</th>\n      <th>headshots</th>\n      <th>headshot_percent</th>\n      <th>aces</th>\n      <th>clutches</th>\n      <th>flawless</th>\n      <th>...</th>\n      <th>gun2_name</th>\n      <th>gun2_head</th>\n      <th>gun2_body</th>\n      <th>gun2_legs</th>\n      <th>gun2_kills</th>\n      <th>gun3_name</th>\n      <th>gun3_head</th>\n      <th>gun3_body</th>\n      <th>gun3_legs</th>\n      <th>gun3_kills</th>\n    </tr>\n  </thead>\n  <tbody>\n    <tr>\n      <th>0</th>\n      <td>NA</td>\n      <td>ShimmyXD</td>\n      <td>#NA1</td>\n      <td>Radiant</td>\n      <td>135.8</td>\n      <td>992</td>\n      <td>24.9</td>\n      <td>0</td>\n      <td>140</td>\n      <td>80</td>\n      <td>...</td>\n      <td>Phantom</td>\n      <td>33</td>\n      <td>62</td>\n      <td>5</td>\n      <td>220</td>\n      <td>Classic</td>\n      <td>36</td>\n      <td>60</td>\n      <td>3</td>\n      <td>147</td>\n    </tr>\n    <tr>\n      <th>1</th>\n      <td>NA</td>\n      <td>XSET Cryo</td>\n      <td>#cells</td>\n      <td>Radiant</td>\n      <td>170.3</td>\n      <td>879</td>\n      <td>28.3</td>\n      <td>2</td>\n      <td>122</td>\n      <td>94</td>\n      <td>...</td>\n      <td>Operator</td>\n      <td>8</td>\n      <td>91</td>\n      <td>0</td>\n      <td>226</td>\n      <td>Phantom</td>\n      <td>32</td>\n      <td>63</td>\n      <td>5</td>\n      <td>137</td>\n    </tr>\n    <tr>\n      <th>2</th>\n      <td>NA</td>\n      <td>PuRelittleone</td>\n      <td>#yoruW</td>\n      <td>Radiant</td>\n      <td>147.5</td>\n      <td>720</td>\n      <td>24.0</td>\n      <td>3</td>\n      <td>117</td>\n      <td>59</td>\n      <td>...</td>\n      <td>Phantom</td>\n      <td>36</td>\n      <td>61</td>\n      <td>3</td>\n      <td>231</td>\n      <td>Operator</td>\n      <td>8</td>\n      <td>91</td>\n      <td>1</td>\n      <td>102</td>\n    </tr>\n    <tr>\n      <th>3</th>\n      <td>NA</td>\n      <td>Boba</td>\n      <td>#0068</td>\n      <td>Radiant</td>\n      <td>178.2</td>\n      <td>856</td>\n      <td>37.3</td>\n      <td>3</td>\n      <td>83</td>\n      <td>49</td>\n      <td>...</td>\n      <td>Sheriff</td>\n      <td>48</td>\n      <td>51</td>\n      <td>1</td>\n      <td>48</td>\n      <td>Phantom</td>\n      <td>44</td>\n      <td>56</td>\n      <td>0</td>\n      <td>36</td>\n    </tr>\n    <tr>\n      <th>4</th>\n      <td>NA</td>\n      <td>i love mina</td>\n      <td>#kelly</td>\n      <td>Radiant</td>\n      <td>149.8</td>\n      <td>534</td>\n      <td>24.4</td>\n      <td>2</td>\n      <td>71</td>\n      <td>38</td>\n      <td>...</td>\n      <td>Spectre</td>\n      <td>21</td>\n      <td>71</td>\n      <td>8</td>\n      <td>65</td>\n      <td>Operator</td>\n      <td>8</td>\n      <td>92</td>\n      <td>0</td>\n      <td>64</td>\n    </tr>\n    <tr>\n      <th>...</th>\n      <td>...</td>\n      <td>...</td>\n      <td>...</td>\n      <td>...</td>\n      <td>...</td>\n      <td>...</td>\n      <td>...</td>\n      <td>...</td>\n      <td>...</td>\n      <td>...</td>\n      <td>...</td>\n      <td>...</td>\n      <td>...</td>\n      <td>...</td>\n      <td>...</td>\n      <td>...</td>\n      <td>...</td>\n      <td>...</td>\n      <td>...</td>\n      <td>...</td>\n      <td>...</td>\n    </tr>\n    <tr>\n      <th>85673</th>\n      <td>LAT</td>\n      <td>Kazutora</td>\n      <td>#img0d</td>\n      <td>Radiant</td>\n      <td>138.2</td>\n      <td>342</td>\n      <td>21.4</td>\n      <td>0</td>\n      <td>58</td>\n      <td>54</td>\n      <td>...</td>\n      <td>Vandal</td>\n      <td>28</td>\n      <td>69</td>\n      <td>2</td>\n      <td>175</td>\n      <td>Classic</td>\n      <td>39</td>\n      <td>59</td>\n      <td>2</td>\n      <td>71</td>\n    </tr>\n    <tr>\n      <th>85674</th>\n      <td>LAT</td>\n      <td>el lobo marino</td>\n      <td>#uthur</td>\n      <td>Radiant</td>\n      <td>182.9</td>\n      <td>650</td>\n      <td>30.1</td>\n      <td>4</td>\n      <td>77</td>\n      <td>42</td>\n      <td>...</td>\n      <td>Vandal</td>\n      <td>40</td>\n      <td>57</td>\n      <td>3</td>\n      <td>212</td>\n      <td>Spectre</td>\n      <td>33</td>\n      <td>63</td>\n      <td>5</td>\n      <td>139</td>\n    </tr>\n    <tr>\n      <th>85675</th>\n      <td>LAT</td>\n      <td>p9pzet</td>\n      <td>#666x</td>\n      <td>Radiant</td>\n      <td>158.8</td>\n      <td>613</td>\n      <td>30.2</td>\n      <td>0</td>\n      <td>70</td>\n      <td>54</td>\n      <td>...</td>\n      <td>Phantom</td>\n      <td>40</td>\n      <td>56</td>\n      <td>4</td>\n      <td>159</td>\n      <td>Operator</td>\n      <td>10</td>\n      <td>89</td>\n      <td>1</td>\n      <td>87</td>\n    </tr>\n    <tr>\n      <th>85676</th>\n      <td>LAT</td>\n      <td>EZ4TGD EnSBuwu</td>\n      <td>#kmeve</td>\n      <td>Immortal 3</td>\n      <td>155.9</td>\n      <td>132</td>\n      <td>22.2</td>\n      <td>0</td>\n      <td>23</td>\n      <td>18</td>\n      <td>...</td>\n      <td>Phantom</td>\n      <td>39</td>\n      <td>57</td>\n      <td>3</td>\n      <td>37</td>\n      <td>Spectre</td>\n      <td>27</td>\n      <td>69</td>\n      <td>4</td>\n      <td>17</td>\n    </tr>\n    <tr>\n      <th>85677</th>\n      <td>LAT</td>\n      <td>Neon</td>\n      <td>#SSJ</td>\n      <td>Radiant</td>\n      <td>164.4</td>\n      <td>1127</td>\n      <td>20.7</td>\n      <td>3</td>\n      <td>136</td>\n      <td>82</td>\n      <td>...</td>\n      <td>Operator</td>\n      <td>9</td>\n      <td>88</td>\n      <td>2</td>\n      <td>132</td>\n      <td>Spectre</td>\n      <td>27</td>\n      <td>70</td>\n      <td>2</td>\n      <td>108</td>\n    </tr>\n  </tbody>\n</table>\n<p>85678 rows × 38 columns</p>\n</div>"
     },
     "execution_count": 66,
     "metadata": {},
     "output_type": "execute_result"
    }
   ],
   "metadata": {
    "datalore": {
     "node_id": "7bzCp0v7PCKrdWAQqQnU73",
     "type": "CODE",
     "hide_input_from_viewers": false,
     "hide_output_from_viewers": false,
     "report_properties": {
      "rowId": "HFjCwqKS9rbKYhllxAeyea"
     }
    },
    "ExecuteTime": {
     "end_time": "2023-10-04T10:41:08.372604Z",
     "start_time": "2023-10-04T10:41:08.310414Z"
    }
   }
  },
  {
   "cell_type": "markdown",
   "source": [
    "Let's check again for missing values."
   ],
   "attachments": {},
   "metadata": {
    "datalore": {
     "node_id": "ARm4pY0v8ScPoraVLzR1m0",
     "type": "MD",
     "hide_input_from_viewers": false,
     "hide_output_from_viewers": false,
     "report_properties": {
      "rowId": "xJGLfVT6h9QgWM9vBX3d4Y"
     }
    }
   }
  },
  {
   "cell_type": "code",
   "source": [
    "missing_df = val_df.isnull().sum()\n",
    "missing_df[missing_df > 0]"
   ],
   "execution_count": 67,
   "outputs": [
    {
     "data": {
      "text/plain": "name          2\ntag           2\nagent_2    1987\nagent_3    5217\ndtype: int64"
     },
     "execution_count": 67,
     "metadata": {},
     "output_type": "execute_result"
    }
   ],
   "metadata": {
    "datalore": {
     "node_id": "fW305fAKHIbYz7gXDzbZQs",
     "type": "CODE",
     "hide_input_from_viewers": false,
     "hide_output_from_viewers": false,
     "report_properties": {
      "rowId": "3nmaNOW0RMrzwbwCCLzo0l"
     }
    },
    "ExecuteTime": {
     "end_time": "2023-10-04T10:41:08.431539Z",
     "start_time": "2023-10-04T10:41:08.345820Z"
    }
   }
  },
  {
   "cell_type": "markdown",
   "source": [
    "There are still missing values in `name` and `tag`. Let's check the rows with missing values.\n",
    "\n",
    "First, we will check the rows with missing values in `name`."
   ],
   "attachments": {},
   "metadata": {
    "datalore": {
     "node_id": "DE3n57A5JAAQXKk4ap1P75",
     "type": "MD",
     "hide_input_from_viewers": false,
     "hide_output_from_viewers": false,
     "report_properties": {
      "rowId": "VquZvayYRS8eBPX8BEX71V"
     }
    }
   }
  },
  {
   "cell_type": "code",
   "source": [
    "null_df = val_df[val_df['name'].isnull()]\n",
    "null_df"
   ],
   "execution_count": 68,
   "outputs": [
    {
     "data": {
      "text/plain": "      region name  tag      rating  damage_round  headshots  headshot_percent  \\\n24453     EU  NaN  NaN  Immortal 1         152.2         17              22.5   \n63603     AP  NaN  NaN      Gold 3         115.7        257              18.2   \n\n       aces  clutches  flawless  ...  gun2_name  gun2_head  gun2_body  \\\n24453     0         4         1  ...      Ghost         60         20   \n63603     0        52        28  ...    Classic         39         58   \n\n       gun2_legs  gun2_kills  gun3_name  gun3_head  gun3_body  gun3_legs  \\\n24453         20           3    Spectre          8         85          8   \n63603          3          47    Phantom         24         68          8   \n\n       gun3_kills  \n24453           3  \n63603          39  \n\n[2 rows x 38 columns]",
      "text/html": "<div>\n<style scoped>\n    .dataframe tbody tr th:only-of-type {\n        vertical-align: middle;\n    }\n\n    .dataframe tbody tr th {\n        vertical-align: top;\n    }\n\n    .dataframe thead th {\n        text-align: right;\n    }\n</style>\n<table border=\"1\" class=\"dataframe\">\n  <thead>\n    <tr style=\"text-align: right;\">\n      <th></th>\n      <th>region</th>\n      <th>name</th>\n      <th>tag</th>\n      <th>rating</th>\n      <th>damage_round</th>\n      <th>headshots</th>\n      <th>headshot_percent</th>\n      <th>aces</th>\n      <th>clutches</th>\n      <th>flawless</th>\n      <th>...</th>\n      <th>gun2_name</th>\n      <th>gun2_head</th>\n      <th>gun2_body</th>\n      <th>gun2_legs</th>\n      <th>gun2_kills</th>\n      <th>gun3_name</th>\n      <th>gun3_head</th>\n      <th>gun3_body</th>\n      <th>gun3_legs</th>\n      <th>gun3_kills</th>\n    </tr>\n  </thead>\n  <tbody>\n    <tr>\n      <th>24453</th>\n      <td>EU</td>\n      <td>NaN</td>\n      <td>NaN</td>\n      <td>Immortal 1</td>\n      <td>152.2</td>\n      <td>17</td>\n      <td>22.5</td>\n      <td>0</td>\n      <td>4</td>\n      <td>1</td>\n      <td>...</td>\n      <td>Ghost</td>\n      <td>60</td>\n      <td>20</td>\n      <td>20</td>\n      <td>3</td>\n      <td>Spectre</td>\n      <td>8</td>\n      <td>85</td>\n      <td>8</td>\n      <td>3</td>\n    </tr>\n    <tr>\n      <th>63603</th>\n      <td>AP</td>\n      <td>NaN</td>\n      <td>NaN</td>\n      <td>Gold 3</td>\n      <td>115.7</td>\n      <td>257</td>\n      <td>18.2</td>\n      <td>0</td>\n      <td>52</td>\n      <td>28</td>\n      <td>...</td>\n      <td>Classic</td>\n      <td>39</td>\n      <td>58</td>\n      <td>3</td>\n      <td>47</td>\n      <td>Phantom</td>\n      <td>24</td>\n      <td>68</td>\n      <td>8</td>\n      <td>39</td>\n    </tr>\n  </tbody>\n</table>\n<p>2 rows × 38 columns</p>\n</div>"
     },
     "execution_count": 68,
     "metadata": {},
     "output_type": "execute_result"
    }
   ],
   "metadata": {
    "datalore": {
     "node_id": "feDHsxHcC2YQrfeN9NtQfY",
     "type": "CODE",
     "hide_input_from_viewers": false,
     "hide_output_from_viewers": false,
     "report_properties": {
      "rowId": "395jQPXYKCKgMsWv3TboVG"
     }
    },
    "ExecuteTime": {
     "end_time": "2023-10-04T10:41:08.459690Z",
     "start_time": "2023-10-04T10:41:08.434266Z"
    }
   }
  },
  {
   "cell_type": "markdown",
   "source": [
    "There is at least one row with a missing `name` and `tag`.\n",
    "We will fill the missing names with the value \"(No Name)\" and the missing tags with a string with format `#n` where n is the index of the row."
   ],
   "attachments": {},
   "metadata": {
    "datalore": {
     "node_id": "6bJTvCieMu6ZV6sNyJFYhc",
     "type": "MD",
     "hide_input_from_viewers": false,
     "hide_output_from_viewers": false,
     "report_properties": {
      "rowId": "bNXsn5jZVmCUmFwmPHbD6n"
     }
    }
   }
  },
  {
   "cell_type": "code",
   "source": [
    "# Iterate through the rows and fill the missing names and tags\n",
    "for i, row in null_df.iterrows():\n",
    "    val_df.loc[i, 'name'] = f'(No Name)'\n",
    "    val_df.loc[i, 'tag'] = f'#{i}'\n",
    "val_df"
   ],
   "execution_count": 69,
   "outputs": [
    {
     "data": {
      "text/plain": "      region            name     tag      rating  damage_round  headshots  \\\n0         NA        ShimmyXD    #NA1     Radiant         135.8        992   \n1         NA       XSET Cryo  #cells     Radiant         170.3        879   \n2         NA   PuRelittleone  #yoruW     Radiant         147.5        720   \n3         NA            Boba   #0068     Radiant         178.2        856   \n4         NA     i love mina  #kelly     Radiant         149.8        534   \n...      ...             ...     ...         ...           ...        ...   \n85673    LAT        Kazutora  #img0d     Radiant         138.2        342   \n85674    LAT  el lobo marino  #uthur     Radiant         182.9        650   \n85675    LAT          p9pzet   #666x     Radiant         158.8        613   \n85676    LAT  EZ4TGD EnSBuwu  #kmeve  Immortal 3         155.9        132   \n85677    LAT            Neon    #SSJ     Radiant         164.4       1127   \n\n       headshot_percent  aces  clutches  flawless  ...  gun2_name  gun2_head  \\\n0                  24.9     0       140        80  ...    Phantom         33   \n1                  28.3     2       122        94  ...   Operator          8   \n2                  24.0     3       117        59  ...    Phantom         36   \n3                  37.3     3        83        49  ...    Sheriff         48   \n4                  24.4     2        71        38  ...    Spectre         21   \n...                 ...   ...       ...       ...  ...        ...        ...   \n85673              21.4     0        58        54  ...     Vandal         28   \n85674              30.1     4        77        42  ...     Vandal         40   \n85675              30.2     0        70        54  ...    Phantom         40   \n85676              22.2     0        23        18  ...    Phantom         39   \n85677              20.7     3       136        82  ...   Operator          9   \n\n       gun2_body  gun2_legs  gun2_kills  gun3_name  gun3_head  gun3_body  \\\n0             62          5         220    Classic         36         60   \n1             91          0         226    Phantom         32         63   \n2             61          3         231   Operator          8         91   \n3             51          1          48    Phantom         44         56   \n4             71          8          65   Operator          8         92   \n...          ...        ...         ...        ...        ...        ...   \n85673         69          2         175    Classic         39         59   \n85674         57          3         212    Spectre         33         63   \n85675         56          4         159   Operator         10         89   \n85676         57          3          37    Spectre         27         69   \n85677         88          2         132    Spectre         27         70   \n\n       gun3_legs  gun3_kills  \n0              3         147  \n1              5         137  \n2              1         102  \n3              0          36  \n4              0          64  \n...          ...         ...  \n85673          2          71  \n85674          5         139  \n85675          1          87  \n85676          4          17  \n85677          2         108  \n\n[85678 rows x 38 columns]",
      "text/html": "<div>\n<style scoped>\n    .dataframe tbody tr th:only-of-type {\n        vertical-align: middle;\n    }\n\n    .dataframe tbody tr th {\n        vertical-align: top;\n    }\n\n    .dataframe thead th {\n        text-align: right;\n    }\n</style>\n<table border=\"1\" class=\"dataframe\">\n  <thead>\n    <tr style=\"text-align: right;\">\n      <th></th>\n      <th>region</th>\n      <th>name</th>\n      <th>tag</th>\n      <th>rating</th>\n      <th>damage_round</th>\n      <th>headshots</th>\n      <th>headshot_percent</th>\n      <th>aces</th>\n      <th>clutches</th>\n      <th>flawless</th>\n      <th>...</th>\n      <th>gun2_name</th>\n      <th>gun2_head</th>\n      <th>gun2_body</th>\n      <th>gun2_legs</th>\n      <th>gun2_kills</th>\n      <th>gun3_name</th>\n      <th>gun3_head</th>\n      <th>gun3_body</th>\n      <th>gun3_legs</th>\n      <th>gun3_kills</th>\n    </tr>\n  </thead>\n  <tbody>\n    <tr>\n      <th>0</th>\n      <td>NA</td>\n      <td>ShimmyXD</td>\n      <td>#NA1</td>\n      <td>Radiant</td>\n      <td>135.8</td>\n      <td>992</td>\n      <td>24.9</td>\n      <td>0</td>\n      <td>140</td>\n      <td>80</td>\n      <td>...</td>\n      <td>Phantom</td>\n      <td>33</td>\n      <td>62</td>\n      <td>5</td>\n      <td>220</td>\n      <td>Classic</td>\n      <td>36</td>\n      <td>60</td>\n      <td>3</td>\n      <td>147</td>\n    </tr>\n    <tr>\n      <th>1</th>\n      <td>NA</td>\n      <td>XSET Cryo</td>\n      <td>#cells</td>\n      <td>Radiant</td>\n      <td>170.3</td>\n      <td>879</td>\n      <td>28.3</td>\n      <td>2</td>\n      <td>122</td>\n      <td>94</td>\n      <td>...</td>\n      <td>Operator</td>\n      <td>8</td>\n      <td>91</td>\n      <td>0</td>\n      <td>226</td>\n      <td>Phantom</td>\n      <td>32</td>\n      <td>63</td>\n      <td>5</td>\n      <td>137</td>\n    </tr>\n    <tr>\n      <th>2</th>\n      <td>NA</td>\n      <td>PuRelittleone</td>\n      <td>#yoruW</td>\n      <td>Radiant</td>\n      <td>147.5</td>\n      <td>720</td>\n      <td>24.0</td>\n      <td>3</td>\n      <td>117</td>\n      <td>59</td>\n      <td>...</td>\n      <td>Phantom</td>\n      <td>36</td>\n      <td>61</td>\n      <td>3</td>\n      <td>231</td>\n      <td>Operator</td>\n      <td>8</td>\n      <td>91</td>\n      <td>1</td>\n      <td>102</td>\n    </tr>\n    <tr>\n      <th>3</th>\n      <td>NA</td>\n      <td>Boba</td>\n      <td>#0068</td>\n      <td>Radiant</td>\n      <td>178.2</td>\n      <td>856</td>\n      <td>37.3</td>\n      <td>3</td>\n      <td>83</td>\n      <td>49</td>\n      <td>...</td>\n      <td>Sheriff</td>\n      <td>48</td>\n      <td>51</td>\n      <td>1</td>\n      <td>48</td>\n      <td>Phantom</td>\n      <td>44</td>\n      <td>56</td>\n      <td>0</td>\n      <td>36</td>\n    </tr>\n    <tr>\n      <th>4</th>\n      <td>NA</td>\n      <td>i love mina</td>\n      <td>#kelly</td>\n      <td>Radiant</td>\n      <td>149.8</td>\n      <td>534</td>\n      <td>24.4</td>\n      <td>2</td>\n      <td>71</td>\n      <td>38</td>\n      <td>...</td>\n      <td>Spectre</td>\n      <td>21</td>\n      <td>71</td>\n      <td>8</td>\n      <td>65</td>\n      <td>Operator</td>\n      <td>8</td>\n      <td>92</td>\n      <td>0</td>\n      <td>64</td>\n    </tr>\n    <tr>\n      <th>...</th>\n      <td>...</td>\n      <td>...</td>\n      <td>...</td>\n      <td>...</td>\n      <td>...</td>\n      <td>...</td>\n      <td>...</td>\n      <td>...</td>\n      <td>...</td>\n      <td>...</td>\n      <td>...</td>\n      <td>...</td>\n      <td>...</td>\n      <td>...</td>\n      <td>...</td>\n      <td>...</td>\n      <td>...</td>\n      <td>...</td>\n      <td>...</td>\n      <td>...</td>\n      <td>...</td>\n    </tr>\n    <tr>\n      <th>85673</th>\n      <td>LAT</td>\n      <td>Kazutora</td>\n      <td>#img0d</td>\n      <td>Radiant</td>\n      <td>138.2</td>\n      <td>342</td>\n      <td>21.4</td>\n      <td>0</td>\n      <td>58</td>\n      <td>54</td>\n      <td>...</td>\n      <td>Vandal</td>\n      <td>28</td>\n      <td>69</td>\n      <td>2</td>\n      <td>175</td>\n      <td>Classic</td>\n      <td>39</td>\n      <td>59</td>\n      <td>2</td>\n      <td>71</td>\n    </tr>\n    <tr>\n      <th>85674</th>\n      <td>LAT</td>\n      <td>el lobo marino</td>\n      <td>#uthur</td>\n      <td>Radiant</td>\n      <td>182.9</td>\n      <td>650</td>\n      <td>30.1</td>\n      <td>4</td>\n      <td>77</td>\n      <td>42</td>\n      <td>...</td>\n      <td>Vandal</td>\n      <td>40</td>\n      <td>57</td>\n      <td>3</td>\n      <td>212</td>\n      <td>Spectre</td>\n      <td>33</td>\n      <td>63</td>\n      <td>5</td>\n      <td>139</td>\n    </tr>\n    <tr>\n      <th>85675</th>\n      <td>LAT</td>\n      <td>p9pzet</td>\n      <td>#666x</td>\n      <td>Radiant</td>\n      <td>158.8</td>\n      <td>613</td>\n      <td>30.2</td>\n      <td>0</td>\n      <td>70</td>\n      <td>54</td>\n      <td>...</td>\n      <td>Phantom</td>\n      <td>40</td>\n      <td>56</td>\n      <td>4</td>\n      <td>159</td>\n      <td>Operator</td>\n      <td>10</td>\n      <td>89</td>\n      <td>1</td>\n      <td>87</td>\n    </tr>\n    <tr>\n      <th>85676</th>\n      <td>LAT</td>\n      <td>EZ4TGD EnSBuwu</td>\n      <td>#kmeve</td>\n      <td>Immortal 3</td>\n      <td>155.9</td>\n      <td>132</td>\n      <td>22.2</td>\n      <td>0</td>\n      <td>23</td>\n      <td>18</td>\n      <td>...</td>\n      <td>Phantom</td>\n      <td>39</td>\n      <td>57</td>\n      <td>3</td>\n      <td>37</td>\n      <td>Spectre</td>\n      <td>27</td>\n      <td>69</td>\n      <td>4</td>\n      <td>17</td>\n    </tr>\n    <tr>\n      <th>85677</th>\n      <td>LAT</td>\n      <td>Neon</td>\n      <td>#SSJ</td>\n      <td>Radiant</td>\n      <td>164.4</td>\n      <td>1127</td>\n      <td>20.7</td>\n      <td>3</td>\n      <td>136</td>\n      <td>82</td>\n      <td>...</td>\n      <td>Operator</td>\n      <td>9</td>\n      <td>88</td>\n      <td>2</td>\n      <td>132</td>\n      <td>Spectre</td>\n      <td>27</td>\n      <td>70</td>\n      <td>2</td>\n      <td>108</td>\n    </tr>\n  </tbody>\n</table>\n<p>85678 rows × 38 columns</p>\n</div>"
     },
     "execution_count": 69,
     "metadata": {},
     "output_type": "execute_result"
    }
   ],
   "metadata": {
    "datalore": {
     "node_id": "E7FoH0se4T5Ivw7o4OQkuG",
     "type": "CODE",
     "hide_input_from_viewers": false,
     "hide_output_from_viewers": false,
     "report_properties": {
      "rowId": "P6NzURYb2qbe9w3fi1y5iy"
     }
    },
    "ExecuteTime": {
     "end_time": "2023-10-04T10:41:08.516088Z",
     "start_time": "2023-10-04T10:41:08.437623Z"
    }
   }
  },
  {
   "cell_type": "markdown",
   "source": [
    "Let's check again for missing values."
   ],
   "attachments": {},
   "metadata": {
    "datalore": {
     "node_id": "O7mOYNW6L2d1zzeV8sKAt5",
     "type": "MD",
     "hide_input_from_viewers": false,
     "hide_output_from_viewers": false,
     "report_properties": {
      "rowId": "dGt2BkaRKfrRG5cHJQtPCu"
     }
    }
   }
  },
  {
   "cell_type": "code",
   "source": [
    "missing_df = val_df.isnull().sum()\n",
    "missing_df[missing_df > 0]"
   ],
   "execution_count": 70,
   "outputs": [
    {
     "data": {
      "text/plain": "agent_2    1987\nagent_3    5217\ndtype: int64"
     },
     "execution_count": 70,
     "metadata": {},
     "output_type": "execute_result"
    }
   ],
   "metadata": {
    "datalore": {
     "node_id": "Ib1RhtgsYz5f1GcAnnlPrh",
     "type": "CODE",
     "hide_input_from_viewers": false,
     "hide_output_from_viewers": false,
     "report_properties": {
      "rowId": "SZ1vcvExH09EF9TQ6ZQ7aN"
     }
    },
    "ExecuteTime": {
     "end_time": "2023-10-04T10:41:08.583043Z",
     "start_time": "2023-10-04T10:41:08.473824Z"
    }
   }
  },
  {
   "cell_type": "markdown",
   "source": [
    "Looks like that's it! The current missing values are in the `agent_2` and `agent_3` columns.\n",
    "These are acceptable because they may be players who only played one agent.\n",
    "\n",
    "After cleaning the missing values, let's check the size of the dataset again."
   ],
   "attachments": {},
   "metadata": {
    "datalore": {
     "node_id": "eFAr6TGUa4IXhnCtUzxkn1",
     "type": "MD",
     "hide_input_from_viewers": false,
     "hide_output_from_viewers": false,
     "report_properties": {
      "rowId": "Z7JQeJcErsmCqfbf3j4Fsi"
     }
    }
   }
  },
  {
   "cell_type": "code",
   "source": [
    "val_df.shape"
   ],
   "execution_count": 71,
   "outputs": [
    {
     "data": {
      "text/plain": "(85678, 38)"
     },
     "execution_count": 71,
     "metadata": {},
     "output_type": "execute_result"
    }
   ],
   "metadata": {
    "datalore": {
     "node_id": "zT9f3JVQ6K1y7P5026xPhb",
     "type": "CODE",
     "hide_input_from_viewers": false,
     "hide_output_from_viewers": false,
     "report_properties": {
      "rowId": "ShKn6LRCFFZiRxWNnnh9ul"
     }
    },
    "ExecuteTime": {
     "end_time": "2023-10-04T10:41:08.583238Z",
     "start_time": "2023-10-04T10:41:08.546209Z"
    }
   }
  },
  {
   "cell_type": "markdown",
   "source": [
    "There are 85678 rows and 38 columns.\n",
    "\n",
    "Here is the cleaned dataset."
   ],
   "attachments": {},
   "metadata": {
    "datalore": {
     "node_id": "xHvNoXJikaDwwlANh2ikBx",
     "type": "MD",
     "hide_input_from_viewers": false,
     "hide_output_from_viewers": false,
     "report_properties": {
      "rowId": "Q8i4Xd4Bj0tV4kHkd94m81"
     }
    }
   }
  },
  {
   "cell_type": "code",
   "source": [
    "val_df"
   ],
   "execution_count": 72,
   "outputs": [
    {
     "data": {
      "text/plain": "      region            name     tag      rating  damage_round  headshots  \\\n0         NA        ShimmyXD    #NA1     Radiant         135.8        992   \n1         NA       XSET Cryo  #cells     Radiant         170.3        879   \n2         NA   PuRelittleone  #yoruW     Radiant         147.5        720   \n3         NA            Boba   #0068     Radiant         178.2        856   \n4         NA     i love mina  #kelly     Radiant         149.8        534   \n...      ...             ...     ...         ...           ...        ...   \n85673    LAT        Kazutora  #img0d     Radiant         138.2        342   \n85674    LAT  el lobo marino  #uthur     Radiant         182.9        650   \n85675    LAT          p9pzet   #666x     Radiant         158.8        613   \n85676    LAT  EZ4TGD EnSBuwu  #kmeve  Immortal 3         155.9        132   \n85677    LAT            Neon    #SSJ     Radiant         164.4       1127   \n\n       headshot_percent  aces  clutches  flawless  ...  gun2_name  gun2_head  \\\n0                  24.9     0       140        80  ...    Phantom         33   \n1                  28.3     2       122        94  ...   Operator          8   \n2                  24.0     3       117        59  ...    Phantom         36   \n3                  37.3     3        83        49  ...    Sheriff         48   \n4                  24.4     2        71        38  ...    Spectre         21   \n...                 ...   ...       ...       ...  ...        ...        ...   \n85673              21.4     0        58        54  ...     Vandal         28   \n85674              30.1     4        77        42  ...     Vandal         40   \n85675              30.2     0        70        54  ...    Phantom         40   \n85676              22.2     0        23        18  ...    Phantom         39   \n85677              20.7     3       136        82  ...   Operator          9   \n\n       gun2_body  gun2_legs  gun2_kills  gun3_name  gun3_head  gun3_body  \\\n0             62          5         220    Classic         36         60   \n1             91          0         226    Phantom         32         63   \n2             61          3         231   Operator          8         91   \n3             51          1          48    Phantom         44         56   \n4             71          8          65   Operator          8         92   \n...          ...        ...         ...        ...        ...        ...   \n85673         69          2         175    Classic         39         59   \n85674         57          3         212    Spectre         33         63   \n85675         56          4         159   Operator         10         89   \n85676         57          3          37    Spectre         27         69   \n85677         88          2         132    Spectre         27         70   \n\n       gun3_legs  gun3_kills  \n0              3         147  \n1              5         137  \n2              1         102  \n3              0          36  \n4              0          64  \n...          ...         ...  \n85673          2          71  \n85674          5         139  \n85675          1          87  \n85676          4          17  \n85677          2         108  \n\n[85678 rows x 38 columns]",
      "text/html": "<div>\n<style scoped>\n    .dataframe tbody tr th:only-of-type {\n        vertical-align: middle;\n    }\n\n    .dataframe tbody tr th {\n        vertical-align: top;\n    }\n\n    .dataframe thead th {\n        text-align: right;\n    }\n</style>\n<table border=\"1\" class=\"dataframe\">\n  <thead>\n    <tr style=\"text-align: right;\">\n      <th></th>\n      <th>region</th>\n      <th>name</th>\n      <th>tag</th>\n      <th>rating</th>\n      <th>damage_round</th>\n      <th>headshots</th>\n      <th>headshot_percent</th>\n      <th>aces</th>\n      <th>clutches</th>\n      <th>flawless</th>\n      <th>...</th>\n      <th>gun2_name</th>\n      <th>gun2_head</th>\n      <th>gun2_body</th>\n      <th>gun2_legs</th>\n      <th>gun2_kills</th>\n      <th>gun3_name</th>\n      <th>gun3_head</th>\n      <th>gun3_body</th>\n      <th>gun3_legs</th>\n      <th>gun3_kills</th>\n    </tr>\n  </thead>\n  <tbody>\n    <tr>\n      <th>0</th>\n      <td>NA</td>\n      <td>ShimmyXD</td>\n      <td>#NA1</td>\n      <td>Radiant</td>\n      <td>135.8</td>\n      <td>992</td>\n      <td>24.9</td>\n      <td>0</td>\n      <td>140</td>\n      <td>80</td>\n      <td>...</td>\n      <td>Phantom</td>\n      <td>33</td>\n      <td>62</td>\n      <td>5</td>\n      <td>220</td>\n      <td>Classic</td>\n      <td>36</td>\n      <td>60</td>\n      <td>3</td>\n      <td>147</td>\n    </tr>\n    <tr>\n      <th>1</th>\n      <td>NA</td>\n      <td>XSET Cryo</td>\n      <td>#cells</td>\n      <td>Radiant</td>\n      <td>170.3</td>\n      <td>879</td>\n      <td>28.3</td>\n      <td>2</td>\n      <td>122</td>\n      <td>94</td>\n      <td>...</td>\n      <td>Operator</td>\n      <td>8</td>\n      <td>91</td>\n      <td>0</td>\n      <td>226</td>\n      <td>Phantom</td>\n      <td>32</td>\n      <td>63</td>\n      <td>5</td>\n      <td>137</td>\n    </tr>\n    <tr>\n      <th>2</th>\n      <td>NA</td>\n      <td>PuRelittleone</td>\n      <td>#yoruW</td>\n      <td>Radiant</td>\n      <td>147.5</td>\n      <td>720</td>\n      <td>24.0</td>\n      <td>3</td>\n      <td>117</td>\n      <td>59</td>\n      <td>...</td>\n      <td>Phantom</td>\n      <td>36</td>\n      <td>61</td>\n      <td>3</td>\n      <td>231</td>\n      <td>Operator</td>\n      <td>8</td>\n      <td>91</td>\n      <td>1</td>\n      <td>102</td>\n    </tr>\n    <tr>\n      <th>3</th>\n      <td>NA</td>\n      <td>Boba</td>\n      <td>#0068</td>\n      <td>Radiant</td>\n      <td>178.2</td>\n      <td>856</td>\n      <td>37.3</td>\n      <td>3</td>\n      <td>83</td>\n      <td>49</td>\n      <td>...</td>\n      <td>Sheriff</td>\n      <td>48</td>\n      <td>51</td>\n      <td>1</td>\n      <td>48</td>\n      <td>Phantom</td>\n      <td>44</td>\n      <td>56</td>\n      <td>0</td>\n      <td>36</td>\n    </tr>\n    <tr>\n      <th>4</th>\n      <td>NA</td>\n      <td>i love mina</td>\n      <td>#kelly</td>\n      <td>Radiant</td>\n      <td>149.8</td>\n      <td>534</td>\n      <td>24.4</td>\n      <td>2</td>\n      <td>71</td>\n      <td>38</td>\n      <td>...</td>\n      <td>Spectre</td>\n      <td>21</td>\n      <td>71</td>\n      <td>8</td>\n      <td>65</td>\n      <td>Operator</td>\n      <td>8</td>\n      <td>92</td>\n      <td>0</td>\n      <td>64</td>\n    </tr>\n    <tr>\n      <th>...</th>\n      <td>...</td>\n      <td>...</td>\n      <td>...</td>\n      <td>...</td>\n      <td>...</td>\n      <td>...</td>\n      <td>...</td>\n      <td>...</td>\n      <td>...</td>\n      <td>...</td>\n      <td>...</td>\n      <td>...</td>\n      <td>...</td>\n      <td>...</td>\n      <td>...</td>\n      <td>...</td>\n      <td>...</td>\n      <td>...</td>\n      <td>...</td>\n      <td>...</td>\n      <td>...</td>\n    </tr>\n    <tr>\n      <th>85673</th>\n      <td>LAT</td>\n      <td>Kazutora</td>\n      <td>#img0d</td>\n      <td>Radiant</td>\n      <td>138.2</td>\n      <td>342</td>\n      <td>21.4</td>\n      <td>0</td>\n      <td>58</td>\n      <td>54</td>\n      <td>...</td>\n      <td>Vandal</td>\n      <td>28</td>\n      <td>69</td>\n      <td>2</td>\n      <td>175</td>\n      <td>Classic</td>\n      <td>39</td>\n      <td>59</td>\n      <td>2</td>\n      <td>71</td>\n    </tr>\n    <tr>\n      <th>85674</th>\n      <td>LAT</td>\n      <td>el lobo marino</td>\n      <td>#uthur</td>\n      <td>Radiant</td>\n      <td>182.9</td>\n      <td>650</td>\n      <td>30.1</td>\n      <td>4</td>\n      <td>77</td>\n      <td>42</td>\n      <td>...</td>\n      <td>Vandal</td>\n      <td>40</td>\n      <td>57</td>\n      <td>3</td>\n      <td>212</td>\n      <td>Spectre</td>\n      <td>33</td>\n      <td>63</td>\n      <td>5</td>\n      <td>139</td>\n    </tr>\n    <tr>\n      <th>85675</th>\n      <td>LAT</td>\n      <td>p9pzet</td>\n      <td>#666x</td>\n      <td>Radiant</td>\n      <td>158.8</td>\n      <td>613</td>\n      <td>30.2</td>\n      <td>0</td>\n      <td>70</td>\n      <td>54</td>\n      <td>...</td>\n      <td>Phantom</td>\n      <td>40</td>\n      <td>56</td>\n      <td>4</td>\n      <td>159</td>\n      <td>Operator</td>\n      <td>10</td>\n      <td>89</td>\n      <td>1</td>\n      <td>87</td>\n    </tr>\n    <tr>\n      <th>85676</th>\n      <td>LAT</td>\n      <td>EZ4TGD EnSBuwu</td>\n      <td>#kmeve</td>\n      <td>Immortal 3</td>\n      <td>155.9</td>\n      <td>132</td>\n      <td>22.2</td>\n      <td>0</td>\n      <td>23</td>\n      <td>18</td>\n      <td>...</td>\n      <td>Phantom</td>\n      <td>39</td>\n      <td>57</td>\n      <td>3</td>\n      <td>37</td>\n      <td>Spectre</td>\n      <td>27</td>\n      <td>69</td>\n      <td>4</td>\n      <td>17</td>\n    </tr>\n    <tr>\n      <th>85677</th>\n      <td>LAT</td>\n      <td>Neon</td>\n      <td>#SSJ</td>\n      <td>Radiant</td>\n      <td>164.4</td>\n      <td>1127</td>\n      <td>20.7</td>\n      <td>3</td>\n      <td>136</td>\n      <td>82</td>\n      <td>...</td>\n      <td>Operator</td>\n      <td>9</td>\n      <td>88</td>\n      <td>2</td>\n      <td>132</td>\n      <td>Spectre</td>\n      <td>27</td>\n      <td>70</td>\n      <td>2</td>\n      <td>108</td>\n    </tr>\n  </tbody>\n</table>\n<p>85678 rows × 38 columns</p>\n</div>"
     },
     "execution_count": 72,
     "metadata": {},
     "output_type": "execute_result"
    }
   ],
   "metadata": {
    "datalore": {
     "node_id": "4PfaerH6l6xDrbNLRw8y93",
     "type": "CODE",
     "hide_input_from_viewers": false,
     "hide_output_from_viewers": false,
     "report_properties": {
      "rowId": "sCaYpGcU415iYAqW8KiBm2"
     }
    },
    "ExecuteTime": {
     "end_time": "2023-10-04T10:41:08.588067Z",
     "start_time": "2023-10-04T10:41:08.549906Z"
    }
   }
  },
  {
   "cell_type": "markdown",
   "source": [
    "### Remove Duplicate Rows\n",
    "Let us check for duplicate rows."
   ],
   "attachments": {},
   "metadata": {
    "datalore": {
     "node_id": "NYakq59Wl60h6F24eJEglL",
     "type": "MD",
     "hide_input_from_viewers": false,
     "hide_output_from_viewers": false,
     "report_properties": {
      "rowId": "rn06MqGyey9930wADFiT9f"
     }
    }
   }
  },
  {
   "cell_type": "code",
   "source": [
    "val_df[val_df.duplicated()]"
   ],
   "execution_count": 73,
   "outputs": [
    {
     "data": {
      "text/plain": "      region              name    tag      rating  damage_round  headshots  \\\n327       NA            WRE Px  #1TAP  Immortal 3         133.8        368   \n471       NA               mer  #goat  Immortal 2         148.9        295   \n1828      NA           Misssso   #NA1  Immortal 1         149.9        512   \n1839      NA         OnionBean   #NA1  Immortal 1         136.6        450   \n2034      NA  OryxTheMadHatter   #NA1  Immortal 1         152.4       1120   \n...      ...               ...    ...         ...           ...        ...   \n83999    LAT              fraZ  #PENA  Immortal 1         157.2        395   \n84062    LAT              crip  #2858  Immortal 2         140.7        180   \n84064    LAT         Nicobass1   #LAN  Immortal 2         207.9        105   \n84541    LAT           sshinko   #huh  Immortal 2         135.7        324   \n84967    LAT        blablayost   #LAN  Immortal 3         150.2        383   \n\n       headshot_percent  aces  clutches  flawless  ...  gun2_name  gun2_head  \\\n327                38.0     1        52        17  ...     Vandal         50   \n471                26.6     0        29        20  ...    Phantom         40   \n1828               17.3     1        75        48  ...     Vandal         29   \n1839               19.3     1        56        36  ...    Classic         28   \n2034               21.5     2       151        88  ...    Phantom         30   \n...                 ...   ...       ...       ...  ...        ...        ...   \n83999              25.8     0        51        20  ...    Phantom         31   \n84062              28.5     0        21        14  ...    Phantom         34   \n84064              18.2     0        15         4  ...    Spectre         12   \n84541              20.5     2        58        33  ...    Phantom         28   \n84967              27.3     0        43        40  ...    Phantom         41   \n\n       gun2_body  gun2_legs  gun2_kills  gun3_name  gun3_head  gun3_body  \\\n327           48          3         141    Spectre         39         58   \n471           57          3          90    Spectre         29         68   \n1828          66          4         260    Spectre         19         73   \n1839          67          5          79    Spectre         19         72   \n2034          64          6         388    Spectre         20         70   \n...          ...        ...         ...        ...        ...        ...   \n83999         66          3          60      Ghost         37         59   \n84062         64          3          68      Ghost         29         66   \n84064         78         10          25      Ghost         63         31   \n84541         66          6         161    Spectre         17         77   \n84967         56          2          73   Operator          6         94   \n\n       gun3_legs  gun3_kills  \n327            4          55  \n471            3          44  \n1828           8          77  \n1839           9          56  \n2034          10         137  \n...          ...         ...  \n83999          4          45  \n84062          6          15  \n84064          6          10  \n84541          6          53  \n84967          0          50  \n\n[1084 rows x 38 columns]",
      "text/html": "<div>\n<style scoped>\n    .dataframe tbody tr th:only-of-type {\n        vertical-align: middle;\n    }\n\n    .dataframe tbody tr th {\n        vertical-align: top;\n    }\n\n    .dataframe thead th {\n        text-align: right;\n    }\n</style>\n<table border=\"1\" class=\"dataframe\">\n  <thead>\n    <tr style=\"text-align: right;\">\n      <th></th>\n      <th>region</th>\n      <th>name</th>\n      <th>tag</th>\n      <th>rating</th>\n      <th>damage_round</th>\n      <th>headshots</th>\n      <th>headshot_percent</th>\n      <th>aces</th>\n      <th>clutches</th>\n      <th>flawless</th>\n      <th>...</th>\n      <th>gun2_name</th>\n      <th>gun2_head</th>\n      <th>gun2_body</th>\n      <th>gun2_legs</th>\n      <th>gun2_kills</th>\n      <th>gun3_name</th>\n      <th>gun3_head</th>\n      <th>gun3_body</th>\n      <th>gun3_legs</th>\n      <th>gun3_kills</th>\n    </tr>\n  </thead>\n  <tbody>\n    <tr>\n      <th>327</th>\n      <td>NA</td>\n      <td>WRE Px</td>\n      <td>#1TAP</td>\n      <td>Immortal 3</td>\n      <td>133.8</td>\n      <td>368</td>\n      <td>38.0</td>\n      <td>1</td>\n      <td>52</td>\n      <td>17</td>\n      <td>...</td>\n      <td>Vandal</td>\n      <td>50</td>\n      <td>48</td>\n      <td>3</td>\n      <td>141</td>\n      <td>Spectre</td>\n      <td>39</td>\n      <td>58</td>\n      <td>4</td>\n      <td>55</td>\n    </tr>\n    <tr>\n      <th>471</th>\n      <td>NA</td>\n      <td>mer</td>\n      <td>#goat</td>\n      <td>Immortal 2</td>\n      <td>148.9</td>\n      <td>295</td>\n      <td>26.6</td>\n      <td>0</td>\n      <td>29</td>\n      <td>20</td>\n      <td>...</td>\n      <td>Phantom</td>\n      <td>40</td>\n      <td>57</td>\n      <td>3</td>\n      <td>90</td>\n      <td>Spectre</td>\n      <td>29</td>\n      <td>68</td>\n      <td>3</td>\n      <td>44</td>\n    </tr>\n    <tr>\n      <th>1828</th>\n      <td>NA</td>\n      <td>Misssso</td>\n      <td>#NA1</td>\n      <td>Immortal 1</td>\n      <td>149.9</td>\n      <td>512</td>\n      <td>17.3</td>\n      <td>1</td>\n      <td>75</td>\n      <td>48</td>\n      <td>...</td>\n      <td>Vandal</td>\n      <td>29</td>\n      <td>66</td>\n      <td>4</td>\n      <td>260</td>\n      <td>Spectre</td>\n      <td>19</td>\n      <td>73</td>\n      <td>8</td>\n      <td>77</td>\n    </tr>\n    <tr>\n      <th>1839</th>\n      <td>NA</td>\n      <td>OnionBean</td>\n      <td>#NA1</td>\n      <td>Immortal 1</td>\n      <td>136.6</td>\n      <td>450</td>\n      <td>19.3</td>\n      <td>1</td>\n      <td>56</td>\n      <td>36</td>\n      <td>...</td>\n      <td>Classic</td>\n      <td>28</td>\n      <td>67</td>\n      <td>5</td>\n      <td>79</td>\n      <td>Spectre</td>\n      <td>19</td>\n      <td>72</td>\n      <td>9</td>\n      <td>56</td>\n    </tr>\n    <tr>\n      <th>2034</th>\n      <td>NA</td>\n      <td>OryxTheMadHatter</td>\n      <td>#NA1</td>\n      <td>Immortal 1</td>\n      <td>152.4</td>\n      <td>1120</td>\n      <td>21.5</td>\n      <td>2</td>\n      <td>151</td>\n      <td>88</td>\n      <td>...</td>\n      <td>Phantom</td>\n      <td>30</td>\n      <td>64</td>\n      <td>6</td>\n      <td>388</td>\n      <td>Spectre</td>\n      <td>20</td>\n      <td>70</td>\n      <td>10</td>\n      <td>137</td>\n    </tr>\n    <tr>\n      <th>...</th>\n      <td>...</td>\n      <td>...</td>\n      <td>...</td>\n      <td>...</td>\n      <td>...</td>\n      <td>...</td>\n      <td>...</td>\n      <td>...</td>\n      <td>...</td>\n      <td>...</td>\n      <td>...</td>\n      <td>...</td>\n      <td>...</td>\n      <td>...</td>\n      <td>...</td>\n      <td>...</td>\n      <td>...</td>\n      <td>...</td>\n      <td>...</td>\n      <td>...</td>\n      <td>...</td>\n    </tr>\n    <tr>\n      <th>83999</th>\n      <td>LAT</td>\n      <td>fraZ</td>\n      <td>#PENA</td>\n      <td>Immortal 1</td>\n      <td>157.2</td>\n      <td>395</td>\n      <td>25.8</td>\n      <td>0</td>\n      <td>51</td>\n      <td>20</td>\n      <td>...</td>\n      <td>Phantom</td>\n      <td>31</td>\n      <td>66</td>\n      <td>3</td>\n      <td>60</td>\n      <td>Ghost</td>\n      <td>37</td>\n      <td>59</td>\n      <td>4</td>\n      <td>45</td>\n    </tr>\n    <tr>\n      <th>84062</th>\n      <td>LAT</td>\n      <td>crip</td>\n      <td>#2858</td>\n      <td>Immortal 2</td>\n      <td>140.7</td>\n      <td>180</td>\n      <td>28.5</td>\n      <td>0</td>\n      <td>21</td>\n      <td>14</td>\n      <td>...</td>\n      <td>Phantom</td>\n      <td>34</td>\n      <td>64</td>\n      <td>3</td>\n      <td>68</td>\n      <td>Ghost</td>\n      <td>29</td>\n      <td>66</td>\n      <td>6</td>\n      <td>15</td>\n    </tr>\n    <tr>\n      <th>84064</th>\n      <td>LAT</td>\n      <td>Nicobass1</td>\n      <td>#LAN</td>\n      <td>Immortal 2</td>\n      <td>207.9</td>\n      <td>105</td>\n      <td>18.2</td>\n      <td>0</td>\n      <td>15</td>\n      <td>4</td>\n      <td>...</td>\n      <td>Spectre</td>\n      <td>12</td>\n      <td>78</td>\n      <td>10</td>\n      <td>25</td>\n      <td>Ghost</td>\n      <td>63</td>\n      <td>31</td>\n      <td>6</td>\n      <td>10</td>\n    </tr>\n    <tr>\n      <th>84541</th>\n      <td>LAT</td>\n      <td>sshinko</td>\n      <td>#huh</td>\n      <td>Immortal 2</td>\n      <td>135.7</td>\n      <td>324</td>\n      <td>20.5</td>\n      <td>2</td>\n      <td>58</td>\n      <td>33</td>\n      <td>...</td>\n      <td>Phantom</td>\n      <td>28</td>\n      <td>66</td>\n      <td>6</td>\n      <td>161</td>\n      <td>Spectre</td>\n      <td>17</td>\n      <td>77</td>\n      <td>6</td>\n      <td>53</td>\n    </tr>\n    <tr>\n      <th>84967</th>\n      <td>LAT</td>\n      <td>blablayost</td>\n      <td>#LAN</td>\n      <td>Immortal 3</td>\n      <td>150.2</td>\n      <td>383</td>\n      <td>27.3</td>\n      <td>0</td>\n      <td>43</td>\n      <td>40</td>\n      <td>...</td>\n      <td>Phantom</td>\n      <td>41</td>\n      <td>56</td>\n      <td>2</td>\n      <td>73</td>\n      <td>Operator</td>\n      <td>6</td>\n      <td>94</td>\n      <td>0</td>\n      <td>50</td>\n    </tr>\n  </tbody>\n</table>\n<p>1084 rows × 38 columns</p>\n</div>"
     },
     "execution_count": 73,
     "metadata": {},
     "output_type": "execute_result"
    }
   ],
   "metadata": {
    "datalore": {
     "node_id": "ujNN7kurX6kepmgvajvvzZ",
     "type": "CODE",
     "hide_input_from_viewers": false,
     "hide_output_from_viewers": false,
     "report_properties": {
      "rowId": "jaI1CdxhevoNAAzIuunDGh"
     }
    },
    "ExecuteTime": {
     "end_time": "2023-10-04T10:41:08.688623Z",
     "start_time": "2023-10-04T10:41:08.590461Z"
    }
   }
  },
  {
   "cell_type": "markdown",
   "source": [
    "We will remove duplicate rows based on the `name` and `tag` columns. These columns are used to identify a player.\n",
    "Then, we will keep the first row of the duplicate rows. "
   ],
   "attachments": {},
   "metadata": {
    "datalore": {
     "node_id": "mhb5ZV7w5LjErUpVH7ZN2N",
     "type": "MD",
     "hide_input_from_viewers": false,
     "hide_output_from_viewers": false,
     "report_properties": {
      "rowId": "7Wx8nYPb1Zrbd6xRqKsy0P"
     }
    }
   }
  },
  {
   "cell_type": "code",
   "source": [
    "# Use loc indexer to avoid SettingWithCopyWarning\n",
    "val_df = val_df.loc[~val_df.duplicated(subset=['name', 'tag'], keep='first')]\n",
    "val_df"
   ],
   "execution_count": 74,
   "outputs": [
    {
     "data": {
      "text/plain": "      region            name     tag      rating  damage_round  headshots  \\\n0         NA        ShimmyXD    #NA1     Radiant         135.8        992   \n1         NA       XSET Cryo  #cells     Radiant         170.3        879   \n2         NA   PuRelittleone  #yoruW     Radiant         147.5        720   \n3         NA            Boba   #0068     Radiant         178.2        856   \n4         NA     i love mina  #kelly     Radiant         149.8        534   \n...      ...             ...     ...         ...           ...        ...   \n85673    LAT        Kazutora  #img0d     Radiant         138.2        342   \n85674    LAT  el lobo marino  #uthur     Radiant         182.9        650   \n85675    LAT          p9pzet   #666x     Radiant         158.8        613   \n85676    LAT  EZ4TGD EnSBuwu  #kmeve  Immortal 3         155.9        132   \n85677    LAT            Neon    #SSJ     Radiant         164.4       1127   \n\n       headshot_percent  aces  clutches  flawless  ...  gun2_name  gun2_head  \\\n0                  24.9     0       140        80  ...    Phantom         33   \n1                  28.3     2       122        94  ...   Operator          8   \n2                  24.0     3       117        59  ...    Phantom         36   \n3                  37.3     3        83        49  ...    Sheriff         48   \n4                  24.4     2        71        38  ...    Spectre         21   \n...                 ...   ...       ...       ...  ...        ...        ...   \n85673              21.4     0        58        54  ...     Vandal         28   \n85674              30.1     4        77        42  ...     Vandal         40   \n85675              30.2     0        70        54  ...    Phantom         40   \n85676              22.2     0        23        18  ...    Phantom         39   \n85677              20.7     3       136        82  ...   Operator          9   \n\n       gun2_body  gun2_legs  gun2_kills  gun3_name  gun3_head  gun3_body  \\\n0             62          5         220    Classic         36         60   \n1             91          0         226    Phantom         32         63   \n2             61          3         231   Operator          8         91   \n3             51          1          48    Phantom         44         56   \n4             71          8          65   Operator          8         92   \n...          ...        ...         ...        ...        ...        ...   \n85673         69          2         175    Classic         39         59   \n85674         57          3         212    Spectre         33         63   \n85675         56          4         159   Operator         10         89   \n85676         57          3          37    Spectre         27         69   \n85677         88          2         132    Spectre         27         70   \n\n       gun3_legs  gun3_kills  \n0              3         147  \n1              5         137  \n2              1         102  \n3              0          36  \n4              0          64  \n...          ...         ...  \n85673          2          71  \n85674          5         139  \n85675          1          87  \n85676          4          17  \n85677          2         108  \n\n[84068 rows x 38 columns]",
      "text/html": "<div>\n<style scoped>\n    .dataframe tbody tr th:only-of-type {\n        vertical-align: middle;\n    }\n\n    .dataframe tbody tr th {\n        vertical-align: top;\n    }\n\n    .dataframe thead th {\n        text-align: right;\n    }\n</style>\n<table border=\"1\" class=\"dataframe\">\n  <thead>\n    <tr style=\"text-align: right;\">\n      <th></th>\n      <th>region</th>\n      <th>name</th>\n      <th>tag</th>\n      <th>rating</th>\n      <th>damage_round</th>\n      <th>headshots</th>\n      <th>headshot_percent</th>\n      <th>aces</th>\n      <th>clutches</th>\n      <th>flawless</th>\n      <th>...</th>\n      <th>gun2_name</th>\n      <th>gun2_head</th>\n      <th>gun2_body</th>\n      <th>gun2_legs</th>\n      <th>gun2_kills</th>\n      <th>gun3_name</th>\n      <th>gun3_head</th>\n      <th>gun3_body</th>\n      <th>gun3_legs</th>\n      <th>gun3_kills</th>\n    </tr>\n  </thead>\n  <tbody>\n    <tr>\n      <th>0</th>\n      <td>NA</td>\n      <td>ShimmyXD</td>\n      <td>#NA1</td>\n      <td>Radiant</td>\n      <td>135.8</td>\n      <td>992</td>\n      <td>24.9</td>\n      <td>0</td>\n      <td>140</td>\n      <td>80</td>\n      <td>...</td>\n      <td>Phantom</td>\n      <td>33</td>\n      <td>62</td>\n      <td>5</td>\n      <td>220</td>\n      <td>Classic</td>\n      <td>36</td>\n      <td>60</td>\n      <td>3</td>\n      <td>147</td>\n    </tr>\n    <tr>\n      <th>1</th>\n      <td>NA</td>\n      <td>XSET Cryo</td>\n      <td>#cells</td>\n      <td>Radiant</td>\n      <td>170.3</td>\n      <td>879</td>\n      <td>28.3</td>\n      <td>2</td>\n      <td>122</td>\n      <td>94</td>\n      <td>...</td>\n      <td>Operator</td>\n      <td>8</td>\n      <td>91</td>\n      <td>0</td>\n      <td>226</td>\n      <td>Phantom</td>\n      <td>32</td>\n      <td>63</td>\n      <td>5</td>\n      <td>137</td>\n    </tr>\n    <tr>\n      <th>2</th>\n      <td>NA</td>\n      <td>PuRelittleone</td>\n      <td>#yoruW</td>\n      <td>Radiant</td>\n      <td>147.5</td>\n      <td>720</td>\n      <td>24.0</td>\n      <td>3</td>\n      <td>117</td>\n      <td>59</td>\n      <td>...</td>\n      <td>Phantom</td>\n      <td>36</td>\n      <td>61</td>\n      <td>3</td>\n      <td>231</td>\n      <td>Operator</td>\n      <td>8</td>\n      <td>91</td>\n      <td>1</td>\n      <td>102</td>\n    </tr>\n    <tr>\n      <th>3</th>\n      <td>NA</td>\n      <td>Boba</td>\n      <td>#0068</td>\n      <td>Radiant</td>\n      <td>178.2</td>\n      <td>856</td>\n      <td>37.3</td>\n      <td>3</td>\n      <td>83</td>\n      <td>49</td>\n      <td>...</td>\n      <td>Sheriff</td>\n      <td>48</td>\n      <td>51</td>\n      <td>1</td>\n      <td>48</td>\n      <td>Phantom</td>\n      <td>44</td>\n      <td>56</td>\n      <td>0</td>\n      <td>36</td>\n    </tr>\n    <tr>\n      <th>4</th>\n      <td>NA</td>\n      <td>i love mina</td>\n      <td>#kelly</td>\n      <td>Radiant</td>\n      <td>149.8</td>\n      <td>534</td>\n      <td>24.4</td>\n      <td>2</td>\n      <td>71</td>\n      <td>38</td>\n      <td>...</td>\n      <td>Spectre</td>\n      <td>21</td>\n      <td>71</td>\n      <td>8</td>\n      <td>65</td>\n      <td>Operator</td>\n      <td>8</td>\n      <td>92</td>\n      <td>0</td>\n      <td>64</td>\n    </tr>\n    <tr>\n      <th>...</th>\n      <td>...</td>\n      <td>...</td>\n      <td>...</td>\n      <td>...</td>\n      <td>...</td>\n      <td>...</td>\n      <td>...</td>\n      <td>...</td>\n      <td>...</td>\n      <td>...</td>\n      <td>...</td>\n      <td>...</td>\n      <td>...</td>\n      <td>...</td>\n      <td>...</td>\n      <td>...</td>\n      <td>...</td>\n      <td>...</td>\n      <td>...</td>\n      <td>...</td>\n      <td>...</td>\n    </tr>\n    <tr>\n      <th>85673</th>\n      <td>LAT</td>\n      <td>Kazutora</td>\n      <td>#img0d</td>\n      <td>Radiant</td>\n      <td>138.2</td>\n      <td>342</td>\n      <td>21.4</td>\n      <td>0</td>\n      <td>58</td>\n      <td>54</td>\n      <td>...</td>\n      <td>Vandal</td>\n      <td>28</td>\n      <td>69</td>\n      <td>2</td>\n      <td>175</td>\n      <td>Classic</td>\n      <td>39</td>\n      <td>59</td>\n      <td>2</td>\n      <td>71</td>\n    </tr>\n    <tr>\n      <th>85674</th>\n      <td>LAT</td>\n      <td>el lobo marino</td>\n      <td>#uthur</td>\n      <td>Radiant</td>\n      <td>182.9</td>\n      <td>650</td>\n      <td>30.1</td>\n      <td>4</td>\n      <td>77</td>\n      <td>42</td>\n      <td>...</td>\n      <td>Vandal</td>\n      <td>40</td>\n      <td>57</td>\n      <td>3</td>\n      <td>212</td>\n      <td>Spectre</td>\n      <td>33</td>\n      <td>63</td>\n      <td>5</td>\n      <td>139</td>\n    </tr>\n    <tr>\n      <th>85675</th>\n      <td>LAT</td>\n      <td>p9pzet</td>\n      <td>#666x</td>\n      <td>Radiant</td>\n      <td>158.8</td>\n      <td>613</td>\n      <td>30.2</td>\n      <td>0</td>\n      <td>70</td>\n      <td>54</td>\n      <td>...</td>\n      <td>Phantom</td>\n      <td>40</td>\n      <td>56</td>\n      <td>4</td>\n      <td>159</td>\n      <td>Operator</td>\n      <td>10</td>\n      <td>89</td>\n      <td>1</td>\n      <td>87</td>\n    </tr>\n    <tr>\n      <th>85676</th>\n      <td>LAT</td>\n      <td>EZ4TGD EnSBuwu</td>\n      <td>#kmeve</td>\n      <td>Immortal 3</td>\n      <td>155.9</td>\n      <td>132</td>\n      <td>22.2</td>\n      <td>0</td>\n      <td>23</td>\n      <td>18</td>\n      <td>...</td>\n      <td>Phantom</td>\n      <td>39</td>\n      <td>57</td>\n      <td>3</td>\n      <td>37</td>\n      <td>Spectre</td>\n      <td>27</td>\n      <td>69</td>\n      <td>4</td>\n      <td>17</td>\n    </tr>\n    <tr>\n      <th>85677</th>\n      <td>LAT</td>\n      <td>Neon</td>\n      <td>#SSJ</td>\n      <td>Radiant</td>\n      <td>164.4</td>\n      <td>1127</td>\n      <td>20.7</td>\n      <td>3</td>\n      <td>136</td>\n      <td>82</td>\n      <td>...</td>\n      <td>Operator</td>\n      <td>9</td>\n      <td>88</td>\n      <td>2</td>\n      <td>132</td>\n      <td>Spectre</td>\n      <td>27</td>\n      <td>70</td>\n      <td>2</td>\n      <td>108</td>\n    </tr>\n  </tbody>\n</table>\n<p>84068 rows × 38 columns</p>\n</div>"
     },
     "execution_count": 74,
     "metadata": {},
     "output_type": "execute_result"
    }
   ],
   "metadata": {
    "datalore": {
     "node_id": "c0tK4ulKbt7kQljYqioCte",
     "type": "CODE",
     "hide_input_from_viewers": false,
     "hide_output_from_viewers": false,
     "report_properties": {
      "rowId": "AQZFTMc2x6gx6YzetdnUi6"
     }
    },
    "ExecuteTime": {
     "end_time": "2023-10-04T10:41:08.755478Z",
     "start_time": "2023-10-04T10:41:08.683679Z"
    }
   }
  },
  {
   "cell_type": "markdown",
   "source": [
    "Let's check for duplicate rows again."
   ],
   "attachments": {},
   "metadata": {
    "datalore": {
     "node_id": "WD0JqvVobvZKtZvrfNxYke",
     "type": "MD",
     "hide_input_from_viewers": false,
     "hide_output_from_viewers": false,
     "report_properties": {
      "rowId": "LivRFsrhPvOcvQy11x3q4c"
     }
    }
   }
  },
  {
   "cell_type": "code",
   "source": [
    "val_df[val_df.duplicated()]"
   ],
   "execution_count": 75,
   "outputs": [
    {
     "data": {
      "text/plain": "Empty DataFrame\nColumns: [region, name, tag, rating, damage_round, headshots, headshot_percent, aces, clutches, flawless, first_bloods, kills, deaths, assists, kd_ratio, kills_round, most_kills, score_round, wins, win_percent, agent_1, agent_2, agent_3, gun1_name, gun1_head, gun1_body, gun1_legs, gun1_kills, gun2_name, gun2_head, gun2_body, gun2_legs, gun2_kills, gun3_name, gun3_head, gun3_body, gun3_legs, gun3_kills]\nIndex: []\n\n[0 rows x 38 columns]",
      "text/html": "<div>\n<style scoped>\n    .dataframe tbody tr th:only-of-type {\n        vertical-align: middle;\n    }\n\n    .dataframe tbody tr th {\n        vertical-align: top;\n    }\n\n    .dataframe thead th {\n        text-align: right;\n    }\n</style>\n<table border=\"1\" class=\"dataframe\">\n  <thead>\n    <tr style=\"text-align: right;\">\n      <th></th>\n      <th>region</th>\n      <th>name</th>\n      <th>tag</th>\n      <th>rating</th>\n      <th>damage_round</th>\n      <th>headshots</th>\n      <th>headshot_percent</th>\n      <th>aces</th>\n      <th>clutches</th>\n      <th>flawless</th>\n      <th>...</th>\n      <th>gun2_name</th>\n      <th>gun2_head</th>\n      <th>gun2_body</th>\n      <th>gun2_legs</th>\n      <th>gun2_kills</th>\n      <th>gun3_name</th>\n      <th>gun3_head</th>\n      <th>gun3_body</th>\n      <th>gun3_legs</th>\n      <th>gun3_kills</th>\n    </tr>\n  </thead>\n  <tbody>\n  </tbody>\n</table>\n<p>0 rows × 38 columns</p>\n</div>"
     },
     "execution_count": 75,
     "metadata": {},
     "output_type": "execute_result"
    }
   ],
   "metadata": {
    "datalore": {
     "node_id": "88EUS7STAOs2lZLcsAyX6E",
     "type": "CODE",
     "hide_input_from_viewers": false,
     "hide_output_from_viewers": false,
     "report_properties": {
      "rowId": "pdLYwX8y32udfiTiKalUqv"
     }
    },
    "ExecuteTime": {
     "end_time": "2023-10-04T10:41:08.825418Z",
     "start_time": "2023-10-04T10:41:08.739632Z"
    }
   }
  },
  {
   "cell_type": "markdown",
   "source": [
    "There are no more duplicate rows.\n",
    "\n",
    "After removing duplicate rows, let's check the size of the dataset again."
   ],
   "attachments": {},
   "metadata": {
    "datalore": {
     "node_id": "H3pDm5WxuHHtKxde7SR0sv",
     "type": "MD",
     "hide_input_from_viewers": false,
     "hide_output_from_viewers": false,
     "report_properties": {
      "rowId": "T1XuzxROf28QAkgo76QBxv"
     }
    }
   }
  },
  {
   "cell_type": "code",
   "source": [
    "val_df.shape"
   ],
   "execution_count": 76,
   "outputs": [
    {
     "data": {
      "text/plain": "(84068, 38)"
     },
     "execution_count": 76,
     "metadata": {},
     "output_type": "execute_result"
    }
   ],
   "metadata": {
    "datalore": {
     "node_id": "y2StKRKVbpaIerimhmG9Xo",
     "type": "CODE",
     "hide_input_from_viewers": false,
     "hide_output_from_viewers": false,
     "report_properties": {
      "rowId": "dSbdp2guGoEuL9jpsNa5KL"
     }
    },
    "ExecuteTime": {
     "end_time": "2023-10-04T10:41:08.827125Z",
     "start_time": "2023-10-04T10:41:08.824696Z"
    }
   }
  },
  {
   "cell_type": "markdown",
   "source": [
    "### Check for Multiple Representations"
   ],
   "metadata": {
    "collapsed": false
   }
  },
  {
   "cell_type": "markdown",
   "source": [
    "Let's proceed to check for multiple representations of values. We will be focusing on categorical variables of `rating`, `region`, `agent_1`, and `gun1_name`."
   ],
   "metadata": {
    "collapsed": false
   }
  },
  {
   "cell_type": "markdown",
   "source": [
    "For the `rating`, let's first list down all the unique values of the variable."
   ],
   "metadata": {
    "collapsed": false
   }
  },
  {
   "cell_type": "code",
   "execution_count": 102,
   "outputs": [
    {
     "data": {
      "text/plain": "['Radiant', 'Immortal 3', 'Immortal 2', 'Immortal 1', 'Silver 2', ..., 'Silver 3', 'Silver 1', 'Platinum 2', 'Diamond 1', 'Platinum 3']\nLength: 19\nCategories (19, object): ['Diamond 3', 'Gold 1', 'Gold 2', 'Immortal 1', ..., 'Silver 1', 'Silver 3', 'Diamond 1', 'Platinum 3']"
     },
     "execution_count": 102,
     "metadata": {},
     "output_type": "execute_result"
    }
   ],
   "source": [
    "val_df['rating'].unique()"
   ],
   "metadata": {
    "collapsed": false,
    "ExecuteTime": {
     "end_time": "2023-10-04T12:21:36.549311Z",
     "start_time": "2023-10-04T12:21:36.532632Z"
    }
   }
  },
  {
   "cell_type": "markdown",
   "source": [
    "Valorant follows the [ranking system](https://support-valorant.riotgames.com/hc/en-us/articles/360047937633-VALORANT-Competitive-Mode-FAQ) order of **Iron**, **Bronze**, **Silver**, **Gold**, **Platinum**, **Diamond**, **Ascendant**, **Immortal**, and **Radiant**. Excluding **Radiant**, each rank is divided into three tiers of **1**, **2**, and **3** wherein the higher the number reflects better ranking. Players who do not have a rank are considered **Unrated**.\n",
    "\n",
    "With that in mind, the values of `rating` are considered valid as they are all within the game's ranking system. It could also be observed that there no multiple representations of a rank. \n"
   ],
   "metadata": {
    "collapsed": false
   }
  },
  {
   "cell_type": "markdown",
   "source": [
    "Now for `region`, `agent_1`, and `gun1_name`, let's check for their representation and validity. "
   ],
   "metadata": {
    "collapsed": false
   }
  },
  {
   "cell_type": "code",
   "execution_count": 81,
   "outputs": [
    {
     "data": {
      "text/plain": "['NA', 'EU', 'AP', 'KR', 'BR', 'LAT']\nCategories (6, object): ['NA', 'EU', 'AP', 'BR', 'KR', 'LAT']"
     },
     "execution_count": 81,
     "metadata": {},
     "output_type": "execute_result"
    }
   ],
   "source": [
    "val_df['region'].unique()"
   ],
   "metadata": {
    "collapsed": false,
    "ExecuteTime": {
     "end_time": "2023-10-04T10:46:45.311674Z",
     "start_time": "2023-10-04T10:46:45.305754Z"
    }
   }
  },
  {
   "cell_type": "code",
   "execution_count": 78,
   "outputs": [
    {
     "data": {
      "text/plain": "array(['Fade', 'Chamber', 'Yoru', 'Jett', 'Sage', 'KAY/O', 'Sova', 'Raze',\n       'Omen', 'Breach', 'Reyna', 'Neon', 'Skye', 'Viper', 'Brimstone',\n       'Phoenix', 'Astra', 'Killjoy', 'Cypher'], dtype=object)"
     },
     "execution_count": 78,
     "metadata": {},
     "output_type": "execute_result"
    }
   ],
   "source": [
    "val_df['agent_1'].unique()"
   ],
   "metadata": {
    "collapsed": false,
    "ExecuteTime": {
     "end_time": "2023-10-04T10:41:08.841561Z",
     "start_time": "2023-10-04T10:41:08.836578Z"
    }
   }
  },
  {
   "cell_type": "code",
   "execution_count": 82,
   "outputs": [
    {
     "data": {
      "text/plain": "array(['Vandal', 'Operator', 'Phantom', 'Judge', 'Odin', 'Guardian',\n       'Spectre', 'Classic', 'Ghost', 'Sheriff', 'Marshal', 'Shorty',\n       'Bulldog', 'Ares', 'Frenzy', 'Bucky'], dtype=object)"
     },
     "execution_count": 82,
     "metadata": {},
     "output_type": "execute_result"
    }
   ],
   "source": [
    "val_df['gun1_name'].unique()"
   ],
   "metadata": {
    "collapsed": false,
    "ExecuteTime": {
     "end_time": "2023-10-04T10:47:16.098196Z",
     "start_time": "2023-10-04T10:47:16.093089Z"
    }
   }
  },
  {
   "cell_type": "markdown",
   "source": [
    "From the results above, we could observe 6 `region`, 19 `agent_1`, and 16 `gun1_name` values with no multiple representation. It is also important to note that the listed values for `agent_1` and `gun_1` are valid playable [agents](https://playvalorant.com/en-us/agents/) and [weapons](https://playvalorant.com/en-us/arsenal/) according to Valorant's official website."
   ],
   "metadata": {
    "collapsed": false
   }
  },
  {
   "cell_type": "markdown",
   "source": [
    "### Check for Incorrect Data Type"
   ],
   "metadata": {
    "collapsed": false
   }
  },
  {
   "cell_type": "markdown",
   "source": [
    "It is important to check for the data type of each variable since there could be possible representations of numerical values in the dataset as text or string, and vice versa."
   ],
   "metadata": {
    "collapsed": false
   }
  },
  {
   "cell_type": "code",
   "execution_count": 101,
   "outputs": [
    {
     "name": "stdout",
     "output_type": "stream",
     "text": [
      "<class 'pandas.core.frame.DataFrame'>\n",
      "Int64Index: 84068 entries, 0 to 85677\n",
      "Data columns (total 38 columns):\n",
      " #   Column            Non-Null Count  Dtype   \n",
      "---  ------            --------------  -----   \n",
      " 0   region            84068 non-null  category\n",
      " 1   name              84068 non-null  object  \n",
      " 2   tag               84068 non-null  object  \n",
      " 3   rating            84068 non-null  category\n",
      " 4   damage_round      84068 non-null  float64 \n",
      " 5   headshots         84068 non-null  int64   \n",
      " 6   headshot_percent  84068 non-null  float64 \n",
      " 7   aces              84068 non-null  int64   \n",
      " 8   clutches          84068 non-null  int64   \n",
      " 9   flawless          84068 non-null  int64   \n",
      " 10  first_bloods      84068 non-null  int64   \n",
      " 11  kills             84068 non-null  int64   \n",
      " 12  deaths            84068 non-null  int64   \n",
      " 13  assists           84068 non-null  int64   \n",
      " 14  kd_ratio          84068 non-null  float64 \n",
      " 15  kills_round       84068 non-null  float64 \n",
      " 16  most_kills        84068 non-null  int64   \n",
      " 17  score_round       84068 non-null  float64 \n",
      " 18  wins              84068 non-null  int64   \n",
      " 19  win_percent       84068 non-null  float64 \n",
      " 20  agent_1           84068 non-null  object  \n",
      " 21  agent_2           82107 non-null  object  \n",
      " 22  agent_3           78933 non-null  object  \n",
      " 23  gun1_name         84068 non-null  object  \n",
      " 24  gun1_head         84068 non-null  int64   \n",
      " 25  gun1_body         84068 non-null  int64   \n",
      " 26  gun1_legs         84068 non-null  int64   \n",
      " 27  gun1_kills        84068 non-null  int64   \n",
      " 28  gun2_name         84068 non-null  object  \n",
      " 29  gun2_head         84068 non-null  int64   \n",
      " 30  gun2_body         84068 non-null  int64   \n",
      " 31  gun2_legs         84068 non-null  int64   \n",
      " 32  gun2_kills        84068 non-null  int64   \n",
      " 33  gun3_name         84068 non-null  object  \n",
      " 34  gun3_head         84068 non-null  int64   \n",
      " 35  gun3_body         84068 non-null  int64   \n",
      " 36  gun3_legs         84068 non-null  int64   \n",
      " 37  gun3_kills        84068 non-null  int64   \n",
      "dtypes: category(2), float64(6), int64(22), object(8)\n",
      "memory usage: 23.9+ MB\n"
     ]
    }
   ],
   "source": [
    "val_df.info()"
   ],
   "metadata": {
    "collapsed": false,
    "ExecuteTime": {
     "end_time": "2023-10-04T12:11:32.204682Z",
     "start_time": "2023-10-04T12:11:31.997136Z"
    }
   }
  },
  {
   "cell_type": "markdown",
   "source": [
    "Using this general information on the dataset's data types, let's generate a list of variables that should not be represented as numerical values."
   ],
   "metadata": {
    "collapsed": false
   }
  },
  {
   "cell_type": "code",
   "execution_count": 96,
   "outputs": [
    {
     "data": {
      "text/plain": "['region',\n 'name',\n 'tag',\n 'rating',\n 'agent_1',\n 'agent_2',\n 'agent_3',\n 'gun1_name',\n 'gun2_name',\n 'gun3_name']"
     },
     "execution_count": 96,
     "metadata": {},
     "output_type": "execute_result"
    }
   ],
   "source": [
    " val_df.select_dtypes(exclude=['int', 'float']).columns.tolist()"
   ],
   "metadata": {
    "collapsed": false,
    "ExecuteTime": {
     "end_time": "2023-10-04T11:29:33.537321Z",
     "start_time": "2023-10-04T11:29:33.521201Z"
    }
   }
  },
  {
   "cell_type": "markdown",
   "source": [
    "Basing from the variables' names and descriptions, none of these should be represented numerically. Therefore, they are in correct data type."
   ],
   "metadata": {
    "collapsed": false
   }
  },
  {
   "cell_type": "code",
   "execution_count": 100,
   "outputs": [
    {
     "data": {
      "text/plain": "['damage_round',\n 'headshots',\n 'headshot_percent',\n 'aces',\n 'clutches',\n 'flawless',\n 'first_bloods',\n 'kills',\n 'deaths',\n 'assists',\n 'kd_ratio',\n 'kills_round',\n 'most_kills',\n 'score_round',\n 'wins',\n 'win_percent',\n 'gun1_head',\n 'gun1_body',\n 'gun1_legs',\n 'gun1_kills',\n 'gun2_head',\n 'gun2_body',\n 'gun2_legs',\n 'gun2_kills',\n 'gun3_head',\n 'gun3_body',\n 'gun3_legs',\n 'gun3_kills']"
     },
     "execution_count": 100,
     "metadata": {},
     "output_type": "execute_result"
    }
   ],
   "source": [
    "val_df.select_dtypes(include=['int', 'float']).columns.tolist()"
   ],
   "metadata": {
    "collapsed": false,
    "ExecuteTime": {
     "end_time": "2023-10-04T11:43:38.831436Z",
     "start_time": "2023-10-04T11:43:38.810459Z"
    }
   }
  },
  {
   "cell_type": "markdown",
   "source": [
    "According to the variables' names and description, they should be represented numerically. Hence, they are in proper data type."
   ],
   "metadata": {
    "collapsed": false
   }
  }
 ],
 "metadata": {
  "kernelspec": {
   "name": "python3",
   "language": "python",
   "display_name": "Python 3 (ipykernel)"
  },
  "datalore": {
   "computation_mode": "JUPYTER",
   "package_manager": "conda",
   "base_environment": "minimal",
   "packages": [
    {
     "name": "matplotlib",
     "version": "3.7.3",
     "source": "PIP"
    }
   ],
   "report_row_ids": [
    "7Pvkmuo8757U8ajEKNMuMw",
    "6AQ9fyjuMfLxTeu0ySYby3",
    "sFQ87eNTy14BwpeD8FNml5",
    "LkoZsVcmIGkdmhzWBI9mgJ",
    "lmZ4LmfOMKrFzLAAFQ4h4I",
    "ac9Vzws2lOzQzeiJHVoIgs",
    "QtFmV2AZMDoo7m8nWW5zRR",
    "7GdCGxHdaCpgvlShcJp0Bw",
    "DdGlnc2P6ELiKVfagZV0Nb",
    "l8D4E01aMRNsOY6oEMFkP2",
    "GajwRRmCuu5qNUe7T3YTYq",
    "3O0u9JGPxq77RKSw1VxAnS",
    "HOITW405zHxeVJdVIFCAw5",
    "vz6WxOW1j9h1yGR30h2ZsE",
    "YA7ynHsAWJUQILRG8B0ZuS",
    "OGuM5H6iGuzfc6194Qz5wB",
    "u4mKzscS8kNuXp1BoEasbh",
    "IaLdBNO4iDCr9nnpBFy4jj",
    "yPpjGelS85iJR6Q0B4P78V",
    "tAOUxRJrcSDbLwJtndAMqj",
    "HFjCwqKS9rbKYhllxAeyea",
    "xJGLfVT6h9QgWM9vBX3d4Y",
    "3nmaNOW0RMrzwbwCCLzo0l",
    "VquZvayYRS8eBPX8BEX71V",
    "395jQPXYKCKgMsWv3TboVG",
    "bNXsn5jZVmCUmFwmPHbD6n",
    "P6NzURYb2qbe9w3fi1y5iy",
    "dGt2BkaRKfrRG5cHJQtPCu",
    "SZ1vcvExH09EF9TQ6ZQ7aN",
    "Z7JQeJcErsmCqfbf3j4Fsi",
    "ShKn6LRCFFZiRxWNnnh9ul",
    "Q8i4Xd4Bj0tV4kHkd94m81",
    "sCaYpGcU415iYAqW8KiBm2",
    "rn06MqGyey9930wADFiT9f",
    "jaI1CdxhevoNAAzIuunDGh",
    "7Wx8nYPb1Zrbd6xRqKsy0P",
    "AQZFTMc2x6gx6YzetdnUi6",
    "LivRFsrhPvOcvQy11x3q4c",
    "pdLYwX8y32udfiTiKalUqv",
    "T1XuzxROf28QAkgo76QBxv",
    "dSbdp2guGoEuL9jpsNa5KL"
   ],
   "version": 3
  }
 },
 "nbformat": 4,
 "nbformat_minor": 4
}
