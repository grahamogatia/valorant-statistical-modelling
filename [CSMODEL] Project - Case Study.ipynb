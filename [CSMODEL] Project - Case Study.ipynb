{
 "cells": [
  {
   "cell_type": "markdown",
   "id": "68a5eb76c3246cc6",
   "metadata": {
    "collapsed": false
   },
   "source": [
    "# Case Study - Group 11 (S11)\n",
    "\n",
    "### Group Members\n",
    "- **Darylle Xander Calugtong**\n",
    "- **Graham Joshua Ogatia**\n",
    "- **Joshua Permito**\n",
    "- **Shem Matthew Salih**"
   ]
  },
  {
   "cell_type": "markdown",
   "id": "f00139cab03910b1",
   "metadata": {
    "collapsed": false
   },
   "source": [
    "## Dataset Information\n",
    "Our chosen dataset is the [Valorant Leaderboard Statistics](https://www.kaggle.com/datasets/aliibrahim10/valorant-stats).\n",
    "This dataset contains [tracker.gg](https://tracker.gg/) statistics with 80,000+ observations and 38 variables\n",
    "from **Episode 4: Act 3** (April 2022) of the game **Valorant**.\n",
    "### Important\n",
    "The observations in the dataset only contain players who are **Immortal** and **Radiant** rank except for a few players\n",
    "who were demoted at the time of data collection.\n",
    "Additionally, only those who consent for the platform [tracker.gg](https://tracker.gg) to gather their statistics have their data in the dataset.\n",
    "### Collection\n",
    "The platform [tracker.gg](https://tracker.gg/) collects the data from the game **Valorant**.\n",
    "This site is a third-party platform that tracks the statistics of players in the game.\n",
    "It is a third-party platform that is not affiliated with the game developers."
   ]
  },
  {
   "cell_type": "markdown",
   "id": "f9fbfa22ae4327a0",
   "metadata": {
    "collapsed": false
   },
   "source": [
    "## Dataset Structure\n",
    "Each row represents a player's statistics in the game **Valorant**.\n",
    "Each column represents a variable that describes the player's statistics.\n",
    "\n",
    "### Variables\n",
    "- `region` - The region of the player.\n",
    "- `name` - The name of the player. (used together with `tag`)\n",
    "- `tag` - The tag of the player. (used together with `name`)\n",
    "- `rating` - The rank of the player.\n",
    "- `damage_round` - The average damage per round of the player in all matches.\n",
    "- `headshots` - Total number of headshots of the player in all matches.\n",
    "- `headshot_percent` - Percentage of total hit shots that are headshots of the player in all matches.\n",
    "- `aces` - Total number of aces of the player in all matches. An ace is when a player kills all 5 players in the enemy team in a single round.\n",
    "- `clutches` - Total number of clutches of the player in all matches. A clutch is when a player wins a round when they are the last player alive in their team.\n",
    "- `flawless` - Total number of flawless rounds of the player in all matches. A flawless round is when a team wins a round without any of their players dying.\n",
    "- `first_bloods` - Total number of first bloods of the player in all matches.\n",
    "- `kills` - Total number of kills of the player in all matches.\n",
    "- `deaths` - Total number of deaths of the player in all matches.\n",
    "- `assists` - Total number of assists of the player in all matches.\n",
    "- `kd_ratio` - The kill-death ratio of the player in all matches.\n",
    "- `kills_round` - Average number of kills per round of the player in all matches.\n",
    "- `most_kills` - Most number of kills in a single match of the player in all matches.\n",
    "- `score_round` - Average score per round of the player in all matches.\n",
    "- `wins` - Total number of wins of the player in all matches.\n",
    "- `win_percent` - Percentage of total matches won of the player in all matches.\n",
    "- `agent_1` - Most played agent of the player in all matches based on hours.\n",
    "- `agent_2` - Second most played agent of the player in all matches based on hours.\n",
    "- `agent_3` - Third most played agent of the player in all matches based on hours.\n",
    "- `gun1_name` - Player's best gun in all matches based on kills.\n",
    "- `gun1_head` - Percentage of total hit shots that are headshots of the player using `gun1_name` in all matches.\n",
    "- `gun1_body` - Percentage of total hit shots that are body shots of the player using `gun1_name` in all matches.\n",
    "- `gun1_legs` - Percentage of total hit shots that are leg shots of the player using `gun1_name` in all matches.\n",
    "- `gun1_kills` - Total number of kills of the player using `gun1_name` in all matches.\n",
    "- `gun2_name` - Player's second-best gun in all matches based on kills.\n",
    "- `gun2_head` - Percentage of total hit shots that are headshots of the player using `gun2_name` in all matches.\n",
    "- `gun2_body` - Percentage of total hit shots that are body shots of the player using `gun2_name` in all matches.\n",
    "- `gun2_legs` - Percentage of total hit shots that are leg shots of the player using `gun2_name` in all matches.\n",
    "- `gun2_kills` - Total number of kills of the player using `gun2_name` in all matches.\n",
    "- `gun3_name` - Player's third-best gun in all matches based on kills.\n",
    "- `gun3_head` - Percentage of total hit shots that are headshots of the player using `gun3_name` in all matches.\n",
    "- `gun3_body` - Percentage of total hit shots that are body shots of the player using `gun3_name` in all matches.\n",
    "- `gun3_legs` - Percentage of total hit shots that are leg shots of the player using `gun3_name` in all matches.\n",
    "- `gun3_kills` - Total number of kills of the player using `gun3_name` in all matches."
   ]
  },
  {
   "cell_type": "markdown",
   "id": "c773af048032fdc5",
   "metadata": {
    "collapsed": false
   },
   "source": [
    "## Preprocessing"
   ]
  },
  {
   "cell_type": "markdown",
   "id": "64483a3b77882322",
   "metadata": {
    "collapsed": false
   },
   "source": [
    "### Import Libraries\n",
    "First, we need to import the necessary libraries.\n",
    "\n",
    "We will be using the following libraries:\n",
    "- `pandas` - for data manipulation\n",
    "- `numpy` - for mathematical operations\n",
    "- `mplcatppuccin` - matplotlib theme (installed as `catppuccin-matplotlib`)\n",
    "- `matplotlib` - for data visualization"
   ]
  },
  {
   "cell_type": "code",
   "execution_count": 58,
   "id": "428d2f802a88072b",
   "metadata": {
    "collapsed": false,
    "ExecuteTime": {
     "end_time": "2023-10-21T23:24:06.015607600Z",
     "start_time": "2023-10-21T23:24:03.376660400Z"
    }
   },
   "outputs": [],
   "source": [
    "import pandas as pd\n",
    "import numpy as np\n",
    "import mplcatppuccin\n",
    "import matplotlib.style as mplstyle\n",
    "import matplotlib.pyplot as plt"
   ]
  },
  {
   "cell_type": "markdown",
   "id": "5fd5b5ac-ecff-4f1b-a15f-e6db912090de",
   "metadata": {},
   "source": [
    "Set the theme to `mocha` from catppuccin"
   ]
  },
  {
   "cell_type": "code",
   "execution_count": 59,
   "outputs": [],
   "source": [
    "mplstyle.use('mocha')"
   ],
   "metadata": {
    "collapsed": false,
    "ExecuteTime": {
     "end_time": "2023-10-21T23:24:07.715956800Z",
     "start_time": "2023-10-21T23:24:03.406445100Z"
    }
   },
   "id": "633d3118e78c456b"
  },
  {
   "cell_type": "markdown",
   "id": "d3935e99c6dbb37e",
   "metadata": {
    "collapsed": false
   },
   "source": [
    "### Importing the Dataset"
   ]
  },
  {
   "cell_type": "code",
   "execution_count": 60,
   "id": "234e47e685db2ab3",
   "metadata": {
    "collapsed": false,
    "ExecuteTime": {
     "end_time": "2023-10-21T23:24:08.300529400Z",
     "start_time": "2023-10-21T23:24:03.435266500Z"
    }
   },
   "outputs": [
    {
     "data": {
      "text/plain": "      region            name     tag      rating  damage_round  headshots  \\\n0         NA        ShimmyXD    #NA1     Radiant         135.8        992   \n1         NA       XSET Cryo  #cells     Radiant         170.3        879   \n2         NA   PuRelittleone  #yoruW     Radiant         147.5        720   \n3         NA            Boba   #0068     Radiant         178.2        856   \n4         NA     i love mina  #kelly     Radiant         149.8        534   \n...      ...             ...     ...         ...           ...        ...   \n85673    LAT        Kazutora  #img0d     Radiant         138.2        342   \n85674    LAT  el lobo marino  #uthur     Radiant         182.9        650   \n85675    LAT          p9pzet   #666x     Radiant         158.8        613   \n85676    LAT  EZ4TGD EnSBuwu  #kmeve  Immortal 3         155.9        132   \n85677    LAT            Neon    #SSJ     Radiant         164.4       1127   \n\n       headshot_percent  aces  clutches  flawless  ...  gun2_name  gun2_head  \\\n0                  24.9     0       140        80  ...    Phantom         33   \n1                  28.3     2       122        94  ...   Operator          8   \n2                  24.0     3       117        59  ...    Phantom         36   \n3                  37.3     3        83        49  ...    Sheriff         48   \n4                  24.4     2        71        38  ...    Spectre         21   \n...                 ...   ...       ...       ...  ...        ...        ...   \n85673              21.4     0        58        54  ...     Vandal         28   \n85674              30.1     4        77        42  ...     Vandal         40   \n85675              30.2     0        70        54  ...    Phantom         40   \n85676              22.2     0        23        18  ...    Phantom         39   \n85677              20.7     3       136        82  ...   Operator          9   \n\n       gun2_body  gun2_legs  gun2_kills  gun3_name  gun3_head  gun3_body  \\\n0             62          5         220    Classic         36         60   \n1             91          0         226    Phantom         32         63   \n2             61          3         231   Operator          8         91   \n3             51          1          48    Phantom         44         56   \n4             71          8          65   Operator          8         92   \n...          ...        ...         ...        ...        ...        ...   \n85673         69          2         175    Classic         39         59   \n85674         57          3         212    Spectre         33         63   \n85675         56          4         159   Operator         10         89   \n85676         57          3          37    Spectre         27         69   \n85677         88          2         132    Spectre         27         70   \n\n       gun3_legs  gun3_kills  \n0              3         147  \n1              5         137  \n2              1         102  \n3              0          36  \n4              0          64  \n...          ...         ...  \n85673          2          71  \n85674          5         139  \n85675          1          87  \n85676          4          17  \n85677          2         108  \n\n[85678 rows x 38 columns]",
      "text/html": "<div>\n<style scoped>\n    .dataframe tbody tr th:only-of-type {\n        vertical-align: middle;\n    }\n\n    .dataframe tbody tr th {\n        vertical-align: top;\n    }\n\n    .dataframe thead th {\n        text-align: right;\n    }\n</style>\n<table border=\"1\" class=\"dataframe\">\n  <thead>\n    <tr style=\"text-align: right;\">\n      <th></th>\n      <th>region</th>\n      <th>name</th>\n      <th>tag</th>\n      <th>rating</th>\n      <th>damage_round</th>\n      <th>headshots</th>\n      <th>headshot_percent</th>\n      <th>aces</th>\n      <th>clutches</th>\n      <th>flawless</th>\n      <th>...</th>\n      <th>gun2_name</th>\n      <th>gun2_head</th>\n      <th>gun2_body</th>\n      <th>gun2_legs</th>\n      <th>gun2_kills</th>\n      <th>gun3_name</th>\n      <th>gun3_head</th>\n      <th>gun3_body</th>\n      <th>gun3_legs</th>\n      <th>gun3_kills</th>\n    </tr>\n  </thead>\n  <tbody>\n    <tr>\n      <th>0</th>\n      <td>NA</td>\n      <td>ShimmyXD</td>\n      <td>#NA1</td>\n      <td>Radiant</td>\n      <td>135.8</td>\n      <td>992</td>\n      <td>24.9</td>\n      <td>0</td>\n      <td>140</td>\n      <td>80</td>\n      <td>...</td>\n      <td>Phantom</td>\n      <td>33</td>\n      <td>62</td>\n      <td>5</td>\n      <td>220</td>\n      <td>Classic</td>\n      <td>36</td>\n      <td>60</td>\n      <td>3</td>\n      <td>147</td>\n    </tr>\n    <tr>\n      <th>1</th>\n      <td>NA</td>\n      <td>XSET Cryo</td>\n      <td>#cells</td>\n      <td>Radiant</td>\n      <td>170.3</td>\n      <td>879</td>\n      <td>28.3</td>\n      <td>2</td>\n      <td>122</td>\n      <td>94</td>\n      <td>...</td>\n      <td>Operator</td>\n      <td>8</td>\n      <td>91</td>\n      <td>0</td>\n      <td>226</td>\n      <td>Phantom</td>\n      <td>32</td>\n      <td>63</td>\n      <td>5</td>\n      <td>137</td>\n    </tr>\n    <tr>\n      <th>2</th>\n      <td>NA</td>\n      <td>PuRelittleone</td>\n      <td>#yoruW</td>\n      <td>Radiant</td>\n      <td>147.5</td>\n      <td>720</td>\n      <td>24.0</td>\n      <td>3</td>\n      <td>117</td>\n      <td>59</td>\n      <td>...</td>\n      <td>Phantom</td>\n      <td>36</td>\n      <td>61</td>\n      <td>3</td>\n      <td>231</td>\n      <td>Operator</td>\n      <td>8</td>\n      <td>91</td>\n      <td>1</td>\n      <td>102</td>\n    </tr>\n    <tr>\n      <th>3</th>\n      <td>NA</td>\n      <td>Boba</td>\n      <td>#0068</td>\n      <td>Radiant</td>\n      <td>178.2</td>\n      <td>856</td>\n      <td>37.3</td>\n      <td>3</td>\n      <td>83</td>\n      <td>49</td>\n      <td>...</td>\n      <td>Sheriff</td>\n      <td>48</td>\n      <td>51</td>\n      <td>1</td>\n      <td>48</td>\n      <td>Phantom</td>\n      <td>44</td>\n      <td>56</td>\n      <td>0</td>\n      <td>36</td>\n    </tr>\n    <tr>\n      <th>4</th>\n      <td>NA</td>\n      <td>i love mina</td>\n      <td>#kelly</td>\n      <td>Radiant</td>\n      <td>149.8</td>\n      <td>534</td>\n      <td>24.4</td>\n      <td>2</td>\n      <td>71</td>\n      <td>38</td>\n      <td>...</td>\n      <td>Spectre</td>\n      <td>21</td>\n      <td>71</td>\n      <td>8</td>\n      <td>65</td>\n      <td>Operator</td>\n      <td>8</td>\n      <td>92</td>\n      <td>0</td>\n      <td>64</td>\n    </tr>\n    <tr>\n      <th>...</th>\n      <td>...</td>\n      <td>...</td>\n      <td>...</td>\n      <td>...</td>\n      <td>...</td>\n      <td>...</td>\n      <td>...</td>\n      <td>...</td>\n      <td>...</td>\n      <td>...</td>\n      <td>...</td>\n      <td>...</td>\n      <td>...</td>\n      <td>...</td>\n      <td>...</td>\n      <td>...</td>\n      <td>...</td>\n      <td>...</td>\n      <td>...</td>\n      <td>...</td>\n      <td>...</td>\n    </tr>\n    <tr>\n      <th>85673</th>\n      <td>LAT</td>\n      <td>Kazutora</td>\n      <td>#img0d</td>\n      <td>Radiant</td>\n      <td>138.2</td>\n      <td>342</td>\n      <td>21.4</td>\n      <td>0</td>\n      <td>58</td>\n      <td>54</td>\n      <td>...</td>\n      <td>Vandal</td>\n      <td>28</td>\n      <td>69</td>\n      <td>2</td>\n      <td>175</td>\n      <td>Classic</td>\n      <td>39</td>\n      <td>59</td>\n      <td>2</td>\n      <td>71</td>\n    </tr>\n    <tr>\n      <th>85674</th>\n      <td>LAT</td>\n      <td>el lobo marino</td>\n      <td>#uthur</td>\n      <td>Radiant</td>\n      <td>182.9</td>\n      <td>650</td>\n      <td>30.1</td>\n      <td>4</td>\n      <td>77</td>\n      <td>42</td>\n      <td>...</td>\n      <td>Vandal</td>\n      <td>40</td>\n      <td>57</td>\n      <td>3</td>\n      <td>212</td>\n      <td>Spectre</td>\n      <td>33</td>\n      <td>63</td>\n      <td>5</td>\n      <td>139</td>\n    </tr>\n    <tr>\n      <th>85675</th>\n      <td>LAT</td>\n      <td>p9pzet</td>\n      <td>#666x</td>\n      <td>Radiant</td>\n      <td>158.8</td>\n      <td>613</td>\n      <td>30.2</td>\n      <td>0</td>\n      <td>70</td>\n      <td>54</td>\n      <td>...</td>\n      <td>Phantom</td>\n      <td>40</td>\n      <td>56</td>\n      <td>4</td>\n      <td>159</td>\n      <td>Operator</td>\n      <td>10</td>\n      <td>89</td>\n      <td>1</td>\n      <td>87</td>\n    </tr>\n    <tr>\n      <th>85676</th>\n      <td>LAT</td>\n      <td>EZ4TGD EnSBuwu</td>\n      <td>#kmeve</td>\n      <td>Immortal 3</td>\n      <td>155.9</td>\n      <td>132</td>\n      <td>22.2</td>\n      <td>0</td>\n      <td>23</td>\n      <td>18</td>\n      <td>...</td>\n      <td>Phantom</td>\n      <td>39</td>\n      <td>57</td>\n      <td>3</td>\n      <td>37</td>\n      <td>Spectre</td>\n      <td>27</td>\n      <td>69</td>\n      <td>4</td>\n      <td>17</td>\n    </tr>\n    <tr>\n      <th>85677</th>\n      <td>LAT</td>\n      <td>Neon</td>\n      <td>#SSJ</td>\n      <td>Radiant</td>\n      <td>164.4</td>\n      <td>1127</td>\n      <td>20.7</td>\n      <td>3</td>\n      <td>136</td>\n      <td>82</td>\n      <td>...</td>\n      <td>Operator</td>\n      <td>9</td>\n      <td>88</td>\n      <td>2</td>\n      <td>132</td>\n      <td>Spectre</td>\n      <td>27</td>\n      <td>70</td>\n      <td>2</td>\n      <td>108</td>\n    </tr>\n  </tbody>\n</table>\n<p>85678 rows × 38 columns</p>\n</div>"
     },
     "execution_count": 60,
     "metadata": {},
     "output_type": "execute_result"
    }
   ],
   "source": [
    "# Only consider blank cells as NA, and thousands to specify the thousands separator\n",
    "val_df = pd.read_csv('val_stats.csv', thousands=',', keep_default_na=False, na_values=[''],\n",
    "                     dtype={'region':'category', 'rating':'category'})\n",
    "val_df"
   ]
  },
  {
   "cell_type": "markdown",
   "id": "ef35ee2f39a61ae3",
   "metadata": {
    "collapsed": false
   },
   "source": [
    "### List of all variables"
   ]
  },
  {
   "cell_type": "code",
   "execution_count": 61,
   "id": "d4693713f1a7f37f",
   "metadata": {
    "collapsed": false,
    "ExecuteTime": {
     "end_time": "2023-10-21T23:24:08.327770900Z",
     "start_time": "2023-10-21T23:24:03.968178800Z"
    }
   },
   "outputs": [
    {
     "data": {
      "text/plain": "['region',\n 'name',\n 'tag',\n 'rating',\n 'damage_round',\n 'headshots',\n 'headshot_percent',\n 'aces',\n 'clutches',\n 'flawless',\n 'first_bloods',\n 'kills',\n 'deaths',\n 'assists',\n 'kd_ratio',\n 'kills_round',\n 'most_kills',\n 'score_round',\n 'wins',\n 'win_percent',\n 'agent_1',\n 'agent_2',\n 'agent_3',\n 'gun1_name',\n 'gun1_head',\n 'gun1_body',\n 'gun1_legs',\n 'gun1_kills',\n 'gun2_name',\n 'gun2_head',\n 'gun2_body',\n 'gun2_legs',\n 'gun2_kills',\n 'gun3_name',\n 'gun3_head',\n 'gun3_body',\n 'gun3_legs',\n 'gun3_kills']"
     },
     "execution_count": 61,
     "metadata": {},
     "output_type": "execute_result"
    }
   ],
   "source": [
    "[col for col in val_df.columns]"
   ]
  },
  {
   "cell_type": "markdown",
   "id": "2805384112705bd0",
   "metadata": {
    "collapsed": false
   },
   "source": [
    "## Data Cleaning"
   ]
  },
  {
   "cell_type": "markdown",
   "id": "18b7c9f8-00df-4f2e-a6b9-bbff7984b32a",
   "metadata": {},
   "source": [
    "### Check for Multiple Representations\n",
    "Let's proceed to check for multiple representations of values. We will be focusing on categorical variables of `rating`, `region`, `agent_1`, and `gun1_name`."
   ]
  },
  {
   "cell_type": "markdown",
   "id": "fe9d10df-e858-49ab-8a06-97234f83e182",
   "metadata": {},
   "source": [
    "For the `rating`, let's first list down all the unique values of the variable."
   ]
  },
  {
   "cell_type": "code",
   "execution_count": 62,
   "id": "8a51da83-ff49-47ea-a13f-1b3eaf977c29",
   "metadata": {
    "ExecuteTime": {
     "end_time": "2023-10-21T23:24:08.329298Z",
     "start_time": "2023-10-21T23:24:03.976665600Z"
    }
   },
   "outputs": [
    {
     "data": {
      "text/plain": "        Rating\n0      Radiant\n1   Immortal 3\n2   Immortal 2\n3   Immortal 1\n4     Silver 2\n5       Gold 2\n6    Diamond 3\n7       Gold 1\n8      Unrated\n9   Platinum 1\n10    Bronze 3\n11      Gold 3\n12    Bronze 2\n13   Diamond 2\n14    Silver 3\n15    Silver 1\n16  Platinum 2\n17   Diamond 1\n18  Platinum 3",
      "text/html": "<div>\n<style scoped>\n    .dataframe tbody tr th:only-of-type {\n        vertical-align: middle;\n    }\n\n    .dataframe tbody tr th {\n        vertical-align: top;\n    }\n\n    .dataframe thead th {\n        text-align: right;\n    }\n</style>\n<table border=\"1\" class=\"dataframe\">\n  <thead>\n    <tr style=\"text-align: right;\">\n      <th></th>\n      <th>Rating</th>\n    </tr>\n  </thead>\n  <tbody>\n    <tr>\n      <th>0</th>\n      <td>Radiant</td>\n    </tr>\n    <tr>\n      <th>1</th>\n      <td>Immortal 3</td>\n    </tr>\n    <tr>\n      <th>2</th>\n      <td>Immortal 2</td>\n    </tr>\n    <tr>\n      <th>3</th>\n      <td>Immortal 1</td>\n    </tr>\n    <tr>\n      <th>4</th>\n      <td>Silver 2</td>\n    </tr>\n    <tr>\n      <th>5</th>\n      <td>Gold 2</td>\n    </tr>\n    <tr>\n      <th>6</th>\n      <td>Diamond 3</td>\n    </tr>\n    <tr>\n      <th>7</th>\n      <td>Gold 1</td>\n    </tr>\n    <tr>\n      <th>8</th>\n      <td>Unrated</td>\n    </tr>\n    <tr>\n      <th>9</th>\n      <td>Platinum 1</td>\n    </tr>\n    <tr>\n      <th>10</th>\n      <td>Bronze 3</td>\n    </tr>\n    <tr>\n      <th>11</th>\n      <td>Gold 3</td>\n    </tr>\n    <tr>\n      <th>12</th>\n      <td>Bronze 2</td>\n    </tr>\n    <tr>\n      <th>13</th>\n      <td>Diamond 2</td>\n    </tr>\n    <tr>\n      <th>14</th>\n      <td>Silver 3</td>\n    </tr>\n    <tr>\n      <th>15</th>\n      <td>Silver 1</td>\n    </tr>\n    <tr>\n      <th>16</th>\n      <td>Platinum 2</td>\n    </tr>\n    <tr>\n      <th>17</th>\n      <td>Diamond 1</td>\n    </tr>\n    <tr>\n      <th>18</th>\n      <td>Platinum 3</td>\n    </tr>\n  </tbody>\n</table>\n</div>"
     },
     "execution_count": 62,
     "metadata": {},
     "output_type": "execute_result"
    }
   ],
   "source": [
    "ratings_df = pd.DataFrame(val_df['rating'].unique(), columns=['Rating'])\n",
    "ratings_df"
   ]
  },
  {
   "cell_type": "markdown",
   "id": "838244d8-c03a-42ca-8c7f-a3c29d4db986",
   "metadata": {},
   "source": [
    "Valorant follows the [ranking system](https://support-valorant.riotgames.com/hc/en-us/articles/360047937633-VALORANT-Competitive-Mode-FAQ) of **Iron**, **Bronze**, **Silver**, **Gold**, **Platinum**, **Diamond**, **Ascendant**, **Immortal**, and **Radiant**. Excluding **Radiant**, each rank is divided into three tiers of **1**, **2**, and **3** wherein the higher the number reflects better ranking. Players who do not have a rank are considered **Unrated**. With that in mind, the values of `rating` are considered valid as they are all within the game's ranking system. It could also be observed that there no multiple representations of a rank. "
   ]
  },
  {
   "cell_type": "markdown",
   "id": "523c4f60-d66a-4601-bbec-2ba3997c0aad",
   "metadata": {},
   "source": [
    "Now for `region`, `agent_1`, and `gun1_name`, let's check for their representation and validity."
   ]
  },
  {
   "cell_type": "code",
   "execution_count": 63,
   "id": "60b60892-e161-4734-bd5b-1b54b717f0fa",
   "metadata": {
    "ExecuteTime": {
     "end_time": "2023-10-21T23:24:08.329298Z",
     "start_time": "2023-10-21T23:24:03.990733700Z"
    }
   },
   "outputs": [
    {
     "data": {
      "text/plain": "  Region\n0     NA\n1     EU\n2     AP\n3     KR\n4     BR\n5    LAT",
      "text/html": "<div>\n<style scoped>\n    .dataframe tbody tr th:only-of-type {\n        vertical-align: middle;\n    }\n\n    .dataframe tbody tr th {\n        vertical-align: top;\n    }\n\n    .dataframe thead th {\n        text-align: right;\n    }\n</style>\n<table border=\"1\" class=\"dataframe\">\n  <thead>\n    <tr style=\"text-align: right;\">\n      <th></th>\n      <th>Region</th>\n    </tr>\n  </thead>\n  <tbody>\n    <tr>\n      <th>0</th>\n      <td>NA</td>\n    </tr>\n    <tr>\n      <th>1</th>\n      <td>EU</td>\n    </tr>\n    <tr>\n      <th>2</th>\n      <td>AP</td>\n    </tr>\n    <tr>\n      <th>3</th>\n      <td>KR</td>\n    </tr>\n    <tr>\n      <th>4</th>\n      <td>BR</td>\n    </tr>\n    <tr>\n      <th>5</th>\n      <td>LAT</td>\n    </tr>\n  </tbody>\n</table>\n</div>"
     },
     "execution_count": 63,
     "metadata": {},
     "output_type": "execute_result"
    }
   ],
   "source": [
    "regions_df = pd.DataFrame(val_df['region'].unique(), columns=['Region'])\n",
    "regions_df"
   ]
  },
  {
   "cell_type": "code",
   "execution_count": 64,
   "id": "1e999ab0-a130-48ae-97fe-291a4d61833a",
   "metadata": {
    "ExecuteTime": {
     "end_time": "2023-10-21T23:24:08.363100400Z",
     "start_time": "2023-10-21T23:24:03.999801400Z"
    }
   },
   "outputs": [
    {
     "data": {
      "text/plain": "        Agent\n0        Fade\n1     Chamber\n2        Yoru\n3        Jett\n4        Sage\n5       KAY/O\n6        Sova\n7        Raze\n8        Omen\n9      Breach\n10      Reyna\n11       Neon\n12       Skye\n13      Viper\n14  Brimstone\n15    Phoenix\n16      Astra\n17    Killjoy\n18     Cypher",
      "text/html": "<div>\n<style scoped>\n    .dataframe tbody tr th:only-of-type {\n        vertical-align: middle;\n    }\n\n    .dataframe tbody tr th {\n        vertical-align: top;\n    }\n\n    .dataframe thead th {\n        text-align: right;\n    }\n</style>\n<table border=\"1\" class=\"dataframe\">\n  <thead>\n    <tr style=\"text-align: right;\">\n      <th></th>\n      <th>Agent</th>\n    </tr>\n  </thead>\n  <tbody>\n    <tr>\n      <th>0</th>\n      <td>Fade</td>\n    </tr>\n    <tr>\n      <th>1</th>\n      <td>Chamber</td>\n    </tr>\n    <tr>\n      <th>2</th>\n      <td>Yoru</td>\n    </tr>\n    <tr>\n      <th>3</th>\n      <td>Jett</td>\n    </tr>\n    <tr>\n      <th>4</th>\n      <td>Sage</td>\n    </tr>\n    <tr>\n      <th>5</th>\n      <td>KAY/O</td>\n    </tr>\n    <tr>\n      <th>6</th>\n      <td>Sova</td>\n    </tr>\n    <tr>\n      <th>7</th>\n      <td>Raze</td>\n    </tr>\n    <tr>\n      <th>8</th>\n      <td>Omen</td>\n    </tr>\n    <tr>\n      <th>9</th>\n      <td>Breach</td>\n    </tr>\n    <tr>\n      <th>10</th>\n      <td>Reyna</td>\n    </tr>\n    <tr>\n      <th>11</th>\n      <td>Neon</td>\n    </tr>\n    <tr>\n      <th>12</th>\n      <td>Skye</td>\n    </tr>\n    <tr>\n      <th>13</th>\n      <td>Viper</td>\n    </tr>\n    <tr>\n      <th>14</th>\n      <td>Brimstone</td>\n    </tr>\n    <tr>\n      <th>15</th>\n      <td>Phoenix</td>\n    </tr>\n    <tr>\n      <th>16</th>\n      <td>Astra</td>\n    </tr>\n    <tr>\n      <th>17</th>\n      <td>Killjoy</td>\n    </tr>\n    <tr>\n      <th>18</th>\n      <td>Cypher</td>\n    </tr>\n  </tbody>\n</table>\n</div>"
     },
     "execution_count": 64,
     "metadata": {},
     "output_type": "execute_result"
    }
   ],
   "source": [
    "agent_1_df = pd.DataFrame(val_df['agent_1'].unique(), columns=['Agent'])\n",
    "agent_1_df"
   ]
  },
  {
   "cell_type": "code",
   "execution_count": 65,
   "id": "a7654334-b34e-409c-a80c-96aba4c4feed",
   "metadata": {
    "ExecuteTime": {
     "end_time": "2023-10-21T23:24:08.364101800Z",
     "start_time": "2023-10-21T23:24:04.014351400Z"
    }
   },
   "outputs": [
    {
     "data": {
      "text/plain": "         Gun\n0     Vandal\n1   Operator\n2    Phantom\n3      Judge\n4       Odin\n5   Guardian\n6    Spectre\n7    Classic\n8      Ghost\n9    Sheriff\n10   Marshal\n11    Shorty\n12   Bulldog\n13      Ares\n14    Frenzy\n15     Bucky",
      "text/html": "<div>\n<style scoped>\n    .dataframe tbody tr th:only-of-type {\n        vertical-align: middle;\n    }\n\n    .dataframe tbody tr th {\n        vertical-align: top;\n    }\n\n    .dataframe thead th {\n        text-align: right;\n    }\n</style>\n<table border=\"1\" class=\"dataframe\">\n  <thead>\n    <tr style=\"text-align: right;\">\n      <th></th>\n      <th>Gun</th>\n    </tr>\n  </thead>\n  <tbody>\n    <tr>\n      <th>0</th>\n      <td>Vandal</td>\n    </tr>\n    <tr>\n      <th>1</th>\n      <td>Operator</td>\n    </tr>\n    <tr>\n      <th>2</th>\n      <td>Phantom</td>\n    </tr>\n    <tr>\n      <th>3</th>\n      <td>Judge</td>\n    </tr>\n    <tr>\n      <th>4</th>\n      <td>Odin</td>\n    </tr>\n    <tr>\n      <th>5</th>\n      <td>Guardian</td>\n    </tr>\n    <tr>\n      <th>6</th>\n      <td>Spectre</td>\n    </tr>\n    <tr>\n      <th>7</th>\n      <td>Classic</td>\n    </tr>\n    <tr>\n      <th>8</th>\n      <td>Ghost</td>\n    </tr>\n    <tr>\n      <th>9</th>\n      <td>Sheriff</td>\n    </tr>\n    <tr>\n      <th>10</th>\n      <td>Marshal</td>\n    </tr>\n    <tr>\n      <th>11</th>\n      <td>Shorty</td>\n    </tr>\n    <tr>\n      <th>12</th>\n      <td>Bulldog</td>\n    </tr>\n    <tr>\n      <th>13</th>\n      <td>Ares</td>\n    </tr>\n    <tr>\n      <th>14</th>\n      <td>Frenzy</td>\n    </tr>\n    <tr>\n      <th>15</th>\n      <td>Bucky</td>\n    </tr>\n  </tbody>\n</table>\n</div>"
     },
     "execution_count": 65,
     "metadata": {},
     "output_type": "execute_result"
    }
   ],
   "source": [
    "gun1_name_df = pd.DataFrame(val_df['gun1_name'].unique(), columns=['Gun'])\n",
    "gun1_name_df"
   ]
  },
  {
   "cell_type": "markdown",
   "id": "6a1e449e-87ba-4c3d-b4ac-865e67bef620",
   "metadata": {},
   "source": [
    "From the results above, we could observe 6 `region`, 19 `agent_1`, and 16 `gun1_name` values with no multiple representation. It is also important to note that the `region` values listed are considered valid [servers](https://support-valorant.riotgames.com/hc/en-us/articles/360055678634-Server-Select) in the game. Moreover, the listed values for `agent_1` and `gun_1` are valid playable [agents](https://playvalorant.com/en-us/agents/) and [weapons](https://playvalorant.com/en-us/arsenal/) according to Valorant's official website."
   ]
  },
  {
   "cell_type": "markdown",
   "id": "81a30345-3886-4b57-a9a4-87e627ac7f93",
   "metadata": {},
   "source": [
    "### Check for Incorrect Data Type\n",
    "It is important to check for the data type of each variable since there could be possible representations of numerical values in the dataset as text or string, and vice versa."
   ]
  },
  {
   "cell_type": "code",
   "execution_count": 66,
   "id": "df710725-29ae-4280-8eee-3e18b9fb38f0",
   "metadata": {
    "ExecuteTime": {
     "end_time": "2023-10-21T23:24:08.416177200Z",
     "start_time": "2023-10-21T23:24:04.030992200Z"
    }
   },
   "outputs": [
    {
     "name": "stdout",
     "output_type": "stream",
     "text": [
      "<class 'pandas.core.frame.DataFrame'>\n",
      "RangeIndex: 85678 entries, 0 to 85677\n",
      "Data columns (total 38 columns):\n",
      " #   Column            Non-Null Count  Dtype   \n",
      "---  ------            --------------  -----   \n",
      " 0   region            85678 non-null  category\n",
      " 1   name              85676 non-null  object  \n",
      " 2   tag               85358 non-null  object  \n",
      " 3   rating            85678 non-null  category\n",
      " 4   damage_round      85678 non-null  float64 \n",
      " 5   headshots         85678 non-null  int64   \n",
      " 6   headshot_percent  85678 non-null  float64 \n",
      " 7   aces              85678 non-null  int64   \n",
      " 8   clutches          85678 non-null  int64   \n",
      " 9   flawless          85678 non-null  int64   \n",
      " 10  first_bloods      85678 non-null  int64   \n",
      " 11  kills             85678 non-null  int64   \n",
      " 12  deaths            85678 non-null  int64   \n",
      " 13  assists           85678 non-null  int64   \n",
      " 14  kd_ratio          85678 non-null  float64 \n",
      " 15  kills_round       85678 non-null  float64 \n",
      " 16  most_kills        85678 non-null  int64   \n",
      " 17  score_round       85678 non-null  float64 \n",
      " 18  wins              85678 non-null  int64   \n",
      " 19  win_percent       85678 non-null  float64 \n",
      " 20  agent_1           85678 non-null  object  \n",
      " 21  agent_2           83691 non-null  object  \n",
      " 22  agent_3           80461 non-null  object  \n",
      " 23  gun1_name         85678 non-null  object  \n",
      " 24  gun1_head         85678 non-null  int64   \n",
      " 25  gun1_body         85678 non-null  int64   \n",
      " 26  gun1_legs         85678 non-null  int64   \n",
      " 27  gun1_kills        85678 non-null  int64   \n",
      " 28  gun2_name         85678 non-null  object  \n",
      " 29  gun2_head         85678 non-null  int64   \n",
      " 30  gun2_body         85678 non-null  int64   \n",
      " 31  gun2_legs         85678 non-null  int64   \n",
      " 32  gun2_kills        85678 non-null  int64   \n",
      " 33  gun3_name         85678 non-null  object  \n",
      " 34  gun3_head         85678 non-null  int64   \n",
      " 35  gun3_body         85678 non-null  int64   \n",
      " 36  gun3_legs         85678 non-null  int64   \n",
      " 37  gun3_kills        85678 non-null  int64   \n",
      "dtypes: category(2), float64(6), int64(22), object(8)\n",
      "memory usage: 23.7+ MB\n"
     ]
    }
   ],
   "source": [
    "val_df.info()"
   ]
  },
  {
   "cell_type": "markdown",
   "id": "6613462f-8f90-410d-a2b9-5238ae4f18b5",
   "metadata": {},
   "source": [
    "Using this general information on the dataset's data types, let's generate a list of variables that should not be represented as numerical values."
   ]
  },
  {
   "cell_type": "code",
   "execution_count": 67,
   "id": "e543be07-b303-4bff-a115-0cb3242ed648",
   "metadata": {
    "ExecuteTime": {
     "end_time": "2023-10-21T23:24:08.417142Z",
     "start_time": "2023-10-21T23:24:04.073276800Z"
    }
   },
   "outputs": [
    {
     "data": {
      "text/plain": "['region',\n 'name',\n 'tag',\n 'rating',\n 'agent_1',\n 'agent_2',\n 'agent_3',\n 'gun1_name',\n 'gun2_name',\n 'gun3_name']"
     },
     "execution_count": 67,
     "metadata": {},
     "output_type": "execute_result"
    }
   ],
   "source": [
    "val_df.select_dtypes(exclude=['int', 'float']).columns.tolist()"
   ]
  },
  {
   "cell_type": "markdown",
   "id": "9f89fdb2-47c9-4218-be08-a35ed6c73f75",
   "metadata": {},
   "source": [
    "Basing from the variables' names and descriptions, none of these should be represented numerically. Therefore, they are in correct data type."
   ]
  },
  {
   "cell_type": "code",
   "execution_count": 68,
   "id": "7bd5e69a-c594-4f29-8d9c-865c1a4d7c5a",
   "metadata": {
    "ExecuteTime": {
     "end_time": "2023-10-21T23:24:08.464225800Z",
     "start_time": "2023-10-21T23:24:04.087870300Z"
    }
   },
   "outputs": [
    {
     "data": {
      "text/plain": "['damage_round',\n 'headshots',\n 'headshot_percent',\n 'aces',\n 'clutches',\n 'flawless',\n 'first_bloods',\n 'kills',\n 'deaths',\n 'assists',\n 'kd_ratio',\n 'kills_round',\n 'most_kills',\n 'score_round',\n 'wins',\n 'win_percent',\n 'gun1_head',\n 'gun1_body',\n 'gun1_legs',\n 'gun1_kills',\n 'gun2_head',\n 'gun2_body',\n 'gun2_legs',\n 'gun2_kills',\n 'gun3_head',\n 'gun3_body',\n 'gun3_legs',\n 'gun3_kills']"
     },
     "execution_count": 68,
     "metadata": {},
     "output_type": "execute_result"
    }
   ],
   "source": [
    "val_df.select_dtypes(include=['int', 'float']).columns.tolist()"
   ]
  },
  {
   "cell_type": "markdown",
   "id": "88849af9-98fa-43f1-bd8d-647d1e9e5523",
   "metadata": {},
   "source": [
    "According to the variables' names and description, they should be represented numerically. Hence, they are in proper data type."
   ]
  },
  {
   "cell_type": "markdown",
   "id": "e94928b55cb9b70f",
   "metadata": {
    "collapsed": false
   },
   "source": [
    "### Check for Missing Values\n",
    "Let us check the size of the dataset before cleaning missing values."
   ]
  },
  {
   "cell_type": "code",
   "execution_count": 69,
   "id": "804767b15c2434d8",
   "metadata": {
    "collapsed": false,
    "ExecuteTime": {
     "end_time": "2023-10-21T23:24:08.465227600Z",
     "start_time": "2023-10-21T23:24:04.102983300Z"
    }
   },
   "outputs": [
    {
     "data": {
      "text/plain": "(85678, 38)"
     },
     "execution_count": 69,
     "metadata": {},
     "output_type": "execute_result"
    }
   ],
   "source": [
    "val_df.shape"
   ]
  },
  {
   "cell_type": "markdown",
   "id": "761fecdc325dd9fe",
   "metadata": {
    "collapsed": false
   },
   "source": [
    "There are 85678 rows and 38 columns.\n",
    "\n",
    "We can now begin checking for missing values."
   ]
  },
  {
   "cell_type": "code",
   "execution_count": 70,
   "id": "8750f828a8b3eae5",
   "metadata": {
    "collapsed": false,
    "ExecuteTime": {
     "end_time": "2023-10-21T23:24:08.493378Z",
     "start_time": "2023-10-21T23:24:04.109043Z"
    }
   },
   "outputs": [
    {
     "data": {
      "text/plain": "name          2\ntag         320\nagent_2    1987\nagent_3    5217\ndtype: int64"
     },
     "execution_count": 70,
     "metadata": {},
     "output_type": "execute_result"
    }
   ],
   "source": [
    "# Return the raw rows with missing values\n",
    "missing_df = val_df.isnull().sum()\n",
    "missing_df[missing_df > 0]"
   ]
  },
  {
   "cell_type": "markdown",
   "id": "2890d6e0be27e45d",
   "metadata": {
    "collapsed": false
   },
   "source": [
    "There is something suspicious with the `tag` column. There are a lot of \"missing values\"."
   ]
  },
  {
   "cell_type": "code",
   "execution_count": 71,
   "id": "fe864b0410cfaa1",
   "metadata": {
    "collapsed": false,
    "ExecuteTime": {
     "end_time": "2023-10-21T23:24:08.570109400Z",
     "start_time": "2023-10-21T23:24:04.140149Z"
    }
   },
   "outputs": [
    {
     "data": {
      "text/plain": "      region                 name  tag      rating  damage_round  headshots  \\\n304       NA  Wilma Caukfit#fk no  NaN  Immortal 3         117.8        372   \n1005      NA          ylang#Luv U  NaN  Immortal 1         136.9       1135   \n1059      NA            pup#ARI G  NaN  Immortal 1         134.1        398   \n1371      NA        jawniss#luv u  NaN  Immortal 1         195.6         56   \n1581      NA       LFT Comfy#NA 1  NaN  Immortal 1         136.8        273   \n...      ...                  ...  ...         ...           ...        ...   \n83617    LAT   RVN FroxeKzz#EZ GG  NaN  Immortal 1         143.6        874   \n83630    LAT        TriggeR#One T  NaN  Immortal 1         146.5        381   \n84040    LAT         Maniex#on ig  NaN  Immortal 2         148.5        731   \n84289    LAT           keii#on ig  NaN  Immortal 2         164.3        685   \n84649    LAT  bife ãƒ„#ãƒ„ å¼·åŠ›  NaN  Immortal 2         138.2        346   \n\n       headshot_percent  aces  clutches  flawless  ...  gun2_name  gun2_head  \\\n304                25.6     0        63        26  ...     Vandal         38   \n1005               24.2     3       135        92  ...     Vandal         40   \n1059               21.6     1        78        43  ...    Phantom         31   \n1371               26.9     0         4         3  ...   Operator          0   \n1581               17.9     0        47        27  ...    Phantom         22   \n...                 ...   ...       ...       ...  ...        ...        ...   \n83617              21.4     1       110        72  ...     Vandal         30   \n83630              15.6     1        65        35  ...     Vandal         26   \n84040              24.9     0        91        61  ...    Phantom         28   \n84289              25.1     6        74        68  ...    Phantom         27   \n84649              18.3     1        52        35  ...    Phantom         25   \n\n       gun2_body  gun2_legs  gun2_kills  gun3_name  gun3_head  gun3_body  \\\n304           59          3         161    Spectre         27         70   \n1005          55          5         397    Spectre         22         71   \n1059          66          3         161      Ghost         40         55   \n1371         100          0          14    Spectre         14         86   \n1581          73          4         108    Classic         26         71   \n...          ...        ...         ...        ...        ...        ...   \n83617         64          6         300    Spectre         24         71   \n83630         68          5         199    Spectre         11         76   \n84040         67          6         211    Spectre         26         68   \n84289         68          5         132      Ghost         32         65   \n84649         66          9          90    Spectre         16         69   \n\n       gun3_legs  gun3_kills  \n304            3          39  \n1005           7          84  \n1059           6          53  \n1371           0           4  \n1581           3          37  \n...          ...         ...  \n83617          5         148  \n83630         13         122  \n84040          6          86  \n84289          3          58  \n84649         15          47  \n\n[320 rows x 38 columns]",
      "text/html": "<div>\n<style scoped>\n    .dataframe tbody tr th:only-of-type {\n        vertical-align: middle;\n    }\n\n    .dataframe tbody tr th {\n        vertical-align: top;\n    }\n\n    .dataframe thead th {\n        text-align: right;\n    }\n</style>\n<table border=\"1\" class=\"dataframe\">\n  <thead>\n    <tr style=\"text-align: right;\">\n      <th></th>\n      <th>region</th>\n      <th>name</th>\n      <th>tag</th>\n      <th>rating</th>\n      <th>damage_round</th>\n      <th>headshots</th>\n      <th>headshot_percent</th>\n      <th>aces</th>\n      <th>clutches</th>\n      <th>flawless</th>\n      <th>...</th>\n      <th>gun2_name</th>\n      <th>gun2_head</th>\n      <th>gun2_body</th>\n      <th>gun2_legs</th>\n      <th>gun2_kills</th>\n      <th>gun3_name</th>\n      <th>gun3_head</th>\n      <th>gun3_body</th>\n      <th>gun3_legs</th>\n      <th>gun3_kills</th>\n    </tr>\n  </thead>\n  <tbody>\n    <tr>\n      <th>304</th>\n      <td>NA</td>\n      <td>Wilma Caukfit#fk no</td>\n      <td>NaN</td>\n      <td>Immortal 3</td>\n      <td>117.8</td>\n      <td>372</td>\n      <td>25.6</td>\n      <td>0</td>\n      <td>63</td>\n      <td>26</td>\n      <td>...</td>\n      <td>Vandal</td>\n      <td>38</td>\n      <td>59</td>\n      <td>3</td>\n      <td>161</td>\n      <td>Spectre</td>\n      <td>27</td>\n      <td>70</td>\n      <td>3</td>\n      <td>39</td>\n    </tr>\n    <tr>\n      <th>1005</th>\n      <td>NA</td>\n      <td>ylang#Luv U</td>\n      <td>NaN</td>\n      <td>Immortal 1</td>\n      <td>136.9</td>\n      <td>1135</td>\n      <td>24.2</td>\n      <td>3</td>\n      <td>135</td>\n      <td>92</td>\n      <td>...</td>\n      <td>Vandal</td>\n      <td>40</td>\n      <td>55</td>\n      <td>5</td>\n      <td>397</td>\n      <td>Spectre</td>\n      <td>22</td>\n      <td>71</td>\n      <td>7</td>\n      <td>84</td>\n    </tr>\n    <tr>\n      <th>1059</th>\n      <td>NA</td>\n      <td>pup#ARI G</td>\n      <td>NaN</td>\n      <td>Immortal 1</td>\n      <td>134.1</td>\n      <td>398</td>\n      <td>21.6</td>\n      <td>1</td>\n      <td>78</td>\n      <td>43</td>\n      <td>...</td>\n      <td>Phantom</td>\n      <td>31</td>\n      <td>66</td>\n      <td>3</td>\n      <td>161</td>\n      <td>Ghost</td>\n      <td>40</td>\n      <td>55</td>\n      <td>6</td>\n      <td>53</td>\n    </tr>\n    <tr>\n      <th>1371</th>\n      <td>NA</td>\n      <td>jawniss#luv u</td>\n      <td>NaN</td>\n      <td>Immortal 1</td>\n      <td>195.6</td>\n      <td>56</td>\n      <td>26.9</td>\n      <td>0</td>\n      <td>4</td>\n      <td>3</td>\n      <td>...</td>\n      <td>Operator</td>\n      <td>0</td>\n      <td>100</td>\n      <td>0</td>\n      <td>14</td>\n      <td>Spectre</td>\n      <td>14</td>\n      <td>86</td>\n      <td>0</td>\n      <td>4</td>\n    </tr>\n    <tr>\n      <th>1581</th>\n      <td>NA</td>\n      <td>LFT Comfy#NA 1</td>\n      <td>NaN</td>\n      <td>Immortal 1</td>\n      <td>136.8</td>\n      <td>273</td>\n      <td>17.9</td>\n      <td>0</td>\n      <td>47</td>\n      <td>27</td>\n      <td>...</td>\n      <td>Phantom</td>\n      <td>22</td>\n      <td>73</td>\n      <td>4</td>\n      <td>108</td>\n      <td>Classic</td>\n      <td>26</td>\n      <td>71</td>\n      <td>3</td>\n      <td>37</td>\n    </tr>\n    <tr>\n      <th>...</th>\n      <td>...</td>\n      <td>...</td>\n      <td>...</td>\n      <td>...</td>\n      <td>...</td>\n      <td>...</td>\n      <td>...</td>\n      <td>...</td>\n      <td>...</td>\n      <td>...</td>\n      <td>...</td>\n      <td>...</td>\n      <td>...</td>\n      <td>...</td>\n      <td>...</td>\n      <td>...</td>\n      <td>...</td>\n      <td>...</td>\n      <td>...</td>\n      <td>...</td>\n      <td>...</td>\n    </tr>\n    <tr>\n      <th>83617</th>\n      <td>LAT</td>\n      <td>RVN FroxeKzz#EZ GG</td>\n      <td>NaN</td>\n      <td>Immortal 1</td>\n      <td>143.6</td>\n      <td>874</td>\n      <td>21.4</td>\n      <td>1</td>\n      <td>110</td>\n      <td>72</td>\n      <td>...</td>\n      <td>Vandal</td>\n      <td>30</td>\n      <td>64</td>\n      <td>6</td>\n      <td>300</td>\n      <td>Spectre</td>\n      <td>24</td>\n      <td>71</td>\n      <td>5</td>\n      <td>148</td>\n    </tr>\n    <tr>\n      <th>83630</th>\n      <td>LAT</td>\n      <td>TriggeR#One T</td>\n      <td>NaN</td>\n      <td>Immortal 1</td>\n      <td>146.5</td>\n      <td>381</td>\n      <td>15.6</td>\n      <td>1</td>\n      <td>65</td>\n      <td>35</td>\n      <td>...</td>\n      <td>Vandal</td>\n      <td>26</td>\n      <td>68</td>\n      <td>5</td>\n      <td>199</td>\n      <td>Spectre</td>\n      <td>11</td>\n      <td>76</td>\n      <td>13</td>\n      <td>122</td>\n    </tr>\n    <tr>\n      <th>84040</th>\n      <td>LAT</td>\n      <td>Maniex#on ig</td>\n      <td>NaN</td>\n      <td>Immortal 2</td>\n      <td>148.5</td>\n      <td>731</td>\n      <td>24.9</td>\n      <td>0</td>\n      <td>91</td>\n      <td>61</td>\n      <td>...</td>\n      <td>Phantom</td>\n      <td>28</td>\n      <td>67</td>\n      <td>6</td>\n      <td>211</td>\n      <td>Spectre</td>\n      <td>26</td>\n      <td>68</td>\n      <td>6</td>\n      <td>86</td>\n    </tr>\n    <tr>\n      <th>84289</th>\n      <td>LAT</td>\n      <td>keii#on ig</td>\n      <td>NaN</td>\n      <td>Immortal 2</td>\n      <td>164.3</td>\n      <td>685</td>\n      <td>25.1</td>\n      <td>6</td>\n      <td>74</td>\n      <td>68</td>\n      <td>...</td>\n      <td>Phantom</td>\n      <td>27</td>\n      <td>68</td>\n      <td>5</td>\n      <td>132</td>\n      <td>Ghost</td>\n      <td>32</td>\n      <td>65</td>\n      <td>3</td>\n      <td>58</td>\n    </tr>\n    <tr>\n      <th>84649</th>\n      <td>LAT</td>\n      <td>bife ãƒ„#ãƒ„ å¼·åŠ›</td>\n      <td>NaN</td>\n      <td>Immortal 2</td>\n      <td>138.2</td>\n      <td>346</td>\n      <td>18.3</td>\n      <td>1</td>\n      <td>52</td>\n      <td>35</td>\n      <td>...</td>\n      <td>Phantom</td>\n      <td>25</td>\n      <td>66</td>\n      <td>9</td>\n      <td>90</td>\n      <td>Spectre</td>\n      <td>16</td>\n      <td>69</td>\n      <td>15</td>\n      <td>47</td>\n    </tr>\n  </tbody>\n</table>\n<p>320 rows × 38 columns</p>\n</div>"
     },
     "execution_count": 71,
     "metadata": {},
     "output_type": "execute_result"
    }
   ],
   "source": [
    "null_df = val_df[val_df['tag'].isnull()]\n",
    "null_df"
   ]
  },
  {
   "cell_type": "markdown",
   "id": "ca727a7407a6df62",
   "metadata": {
    "collapsed": false
   },
   "source": [
    "It looks like the tag was appended to the name. We will fix this by splitting the `name` column into two columns."
   ]
  },
  {
   "cell_type": "code",
   "execution_count": 72,
   "id": "b690958ceba1ea68",
   "metadata": {
    "collapsed": false,
    "ExecuteTime": {
     "end_time": "2023-10-21T23:24:08.570675700Z",
     "start_time": "2023-10-21T23:24:04.166296400Z"
    }
   },
   "outputs": [
    {
     "data": {
      "text/plain": "                name          tag\n304    Wilma Caukfit       #fk no\n1005           ylang       #Luv U\n1059             pup       #ARI G\n1371         jawniss       #luv u\n1581       LFT Comfy        #NA 1\n...              ...          ...\n83617   RVN FroxeKzz       #EZ GG\n83630        TriggeR       #One T\n84040         Maniex       #on ig\n84289           keii       #on ig\n84649       bife ãƒ„  #ãƒ„ å¼·åŠ›\n\n[320 rows x 2 columns]",
      "text/html": "<div>\n<style scoped>\n    .dataframe tbody tr th:only-of-type {\n        vertical-align: middle;\n    }\n\n    .dataframe tbody tr th {\n        vertical-align: top;\n    }\n\n    .dataframe thead th {\n        text-align: right;\n    }\n</style>\n<table border=\"1\" class=\"dataframe\">\n  <thead>\n    <tr style=\"text-align: right;\">\n      <th></th>\n      <th>name</th>\n      <th>tag</th>\n    </tr>\n  </thead>\n  <tbody>\n    <tr>\n      <th>304</th>\n      <td>Wilma Caukfit</td>\n      <td>#fk no</td>\n    </tr>\n    <tr>\n      <th>1005</th>\n      <td>ylang</td>\n      <td>#Luv U</td>\n    </tr>\n    <tr>\n      <th>1059</th>\n      <td>pup</td>\n      <td>#ARI G</td>\n    </tr>\n    <tr>\n      <th>1371</th>\n      <td>jawniss</td>\n      <td>#luv u</td>\n    </tr>\n    <tr>\n      <th>1581</th>\n      <td>LFT Comfy</td>\n      <td>#NA 1</td>\n    </tr>\n    <tr>\n      <th>...</th>\n      <td>...</td>\n      <td>...</td>\n    </tr>\n    <tr>\n      <th>83617</th>\n      <td>RVN FroxeKzz</td>\n      <td>#EZ GG</td>\n    </tr>\n    <tr>\n      <th>83630</th>\n      <td>TriggeR</td>\n      <td>#One T</td>\n    </tr>\n    <tr>\n      <th>84040</th>\n      <td>Maniex</td>\n      <td>#on ig</td>\n    </tr>\n    <tr>\n      <th>84289</th>\n      <td>keii</td>\n      <td>#on ig</td>\n    </tr>\n    <tr>\n      <th>84649</th>\n      <td>bife ãƒ„</td>\n      <td>#ãƒ„ å¼·åŠ›</td>\n    </tr>\n  </tbody>\n</table>\n<p>320 rows × 2 columns</p>\n</div>"
     },
     "execution_count": 72,
     "metadata": {},
     "output_type": "execute_result"
    }
   ],
   "source": [
    "# Split the name column into two columns\n",
    "null_df = null_df['name'].str.split('#', expand=True)\n",
    "null_df = null_df.rename(columns={0:'name', 1:'tag'})\n",
    "null_df.loc[:, 'tag'] = '#' + null_df['tag']\n",
    "null_df"
   ]
  },
  {
   "cell_type": "markdown",
   "id": "7bbd5a1e3b3b2916",
   "metadata": {
    "collapsed": false
   },
   "source": [
    "Now it looks like the `tag` column is fixed. We will replace the `tag` column in the original dataframe with the fixed `tag` column."
   ]
  },
  {
   "cell_type": "code",
   "execution_count": 73,
   "id": "9767a59aeb95cc90",
   "metadata": {
    "collapsed": false,
    "ExecuteTime": {
     "end_time": "2023-10-21T23:24:08.623085600Z",
     "start_time": "2023-10-21T23:24:04.179930Z"
    }
   },
   "outputs": [
    {
     "data": {
      "text/plain": "      region            name     tag      rating  damage_round  headshots  \\\n0         NA        ShimmyXD    #NA1     Radiant         135.8        992   \n1         NA       XSET Cryo  #cells     Radiant         170.3        879   \n2         NA   PuRelittleone  #yoruW     Radiant         147.5        720   \n3         NA            Boba   #0068     Radiant         178.2        856   \n4         NA     i love mina  #kelly     Radiant         149.8        534   \n...      ...             ...     ...         ...           ...        ...   \n85673    LAT        Kazutora  #img0d     Radiant         138.2        342   \n85674    LAT  el lobo marino  #uthur     Radiant         182.9        650   \n85675    LAT          p9pzet   #666x     Radiant         158.8        613   \n85676    LAT  EZ4TGD EnSBuwu  #kmeve  Immortal 3         155.9        132   \n85677    LAT            Neon    #SSJ     Radiant         164.4       1127   \n\n       headshot_percent  aces  clutches  flawless  ...  gun2_name  gun2_head  \\\n0                  24.9     0       140        80  ...    Phantom         33   \n1                  28.3     2       122        94  ...   Operator          8   \n2                  24.0     3       117        59  ...    Phantom         36   \n3                  37.3     3        83        49  ...    Sheriff         48   \n4                  24.4     2        71        38  ...    Spectre         21   \n...                 ...   ...       ...       ...  ...        ...        ...   \n85673              21.4     0        58        54  ...     Vandal         28   \n85674              30.1     4        77        42  ...     Vandal         40   \n85675              30.2     0        70        54  ...    Phantom         40   \n85676              22.2     0        23        18  ...    Phantom         39   \n85677              20.7     3       136        82  ...   Operator          9   \n\n       gun2_body  gun2_legs  gun2_kills  gun3_name  gun3_head  gun3_body  \\\n0             62          5         220    Classic         36         60   \n1             91          0         226    Phantom         32         63   \n2             61          3         231   Operator          8         91   \n3             51          1          48    Phantom         44         56   \n4             71          8          65   Operator          8         92   \n...          ...        ...         ...        ...        ...        ...   \n85673         69          2         175    Classic         39         59   \n85674         57          3         212    Spectre         33         63   \n85675         56          4         159   Operator         10         89   \n85676         57          3          37    Spectre         27         69   \n85677         88          2         132    Spectre         27         70   \n\n       gun3_legs  gun3_kills  \n0              3         147  \n1              5         137  \n2              1         102  \n3              0          36  \n4              0          64  \n...          ...         ...  \n85673          2          71  \n85674          5         139  \n85675          1          87  \n85676          4          17  \n85677          2         108  \n\n[85678 rows x 38 columns]",
      "text/html": "<div>\n<style scoped>\n    .dataframe tbody tr th:only-of-type {\n        vertical-align: middle;\n    }\n\n    .dataframe tbody tr th {\n        vertical-align: top;\n    }\n\n    .dataframe thead th {\n        text-align: right;\n    }\n</style>\n<table border=\"1\" class=\"dataframe\">\n  <thead>\n    <tr style=\"text-align: right;\">\n      <th></th>\n      <th>region</th>\n      <th>name</th>\n      <th>tag</th>\n      <th>rating</th>\n      <th>damage_round</th>\n      <th>headshots</th>\n      <th>headshot_percent</th>\n      <th>aces</th>\n      <th>clutches</th>\n      <th>flawless</th>\n      <th>...</th>\n      <th>gun2_name</th>\n      <th>gun2_head</th>\n      <th>gun2_body</th>\n      <th>gun2_legs</th>\n      <th>gun2_kills</th>\n      <th>gun3_name</th>\n      <th>gun3_head</th>\n      <th>gun3_body</th>\n      <th>gun3_legs</th>\n      <th>gun3_kills</th>\n    </tr>\n  </thead>\n  <tbody>\n    <tr>\n      <th>0</th>\n      <td>NA</td>\n      <td>ShimmyXD</td>\n      <td>#NA1</td>\n      <td>Radiant</td>\n      <td>135.8</td>\n      <td>992</td>\n      <td>24.9</td>\n      <td>0</td>\n      <td>140</td>\n      <td>80</td>\n      <td>...</td>\n      <td>Phantom</td>\n      <td>33</td>\n      <td>62</td>\n      <td>5</td>\n      <td>220</td>\n      <td>Classic</td>\n      <td>36</td>\n      <td>60</td>\n      <td>3</td>\n      <td>147</td>\n    </tr>\n    <tr>\n      <th>1</th>\n      <td>NA</td>\n      <td>XSET Cryo</td>\n      <td>#cells</td>\n      <td>Radiant</td>\n      <td>170.3</td>\n      <td>879</td>\n      <td>28.3</td>\n      <td>2</td>\n      <td>122</td>\n      <td>94</td>\n      <td>...</td>\n      <td>Operator</td>\n      <td>8</td>\n      <td>91</td>\n      <td>0</td>\n      <td>226</td>\n      <td>Phantom</td>\n      <td>32</td>\n      <td>63</td>\n      <td>5</td>\n      <td>137</td>\n    </tr>\n    <tr>\n      <th>2</th>\n      <td>NA</td>\n      <td>PuRelittleone</td>\n      <td>#yoruW</td>\n      <td>Radiant</td>\n      <td>147.5</td>\n      <td>720</td>\n      <td>24.0</td>\n      <td>3</td>\n      <td>117</td>\n      <td>59</td>\n      <td>...</td>\n      <td>Phantom</td>\n      <td>36</td>\n      <td>61</td>\n      <td>3</td>\n      <td>231</td>\n      <td>Operator</td>\n      <td>8</td>\n      <td>91</td>\n      <td>1</td>\n      <td>102</td>\n    </tr>\n    <tr>\n      <th>3</th>\n      <td>NA</td>\n      <td>Boba</td>\n      <td>#0068</td>\n      <td>Radiant</td>\n      <td>178.2</td>\n      <td>856</td>\n      <td>37.3</td>\n      <td>3</td>\n      <td>83</td>\n      <td>49</td>\n      <td>...</td>\n      <td>Sheriff</td>\n      <td>48</td>\n      <td>51</td>\n      <td>1</td>\n      <td>48</td>\n      <td>Phantom</td>\n      <td>44</td>\n      <td>56</td>\n      <td>0</td>\n      <td>36</td>\n    </tr>\n    <tr>\n      <th>4</th>\n      <td>NA</td>\n      <td>i love mina</td>\n      <td>#kelly</td>\n      <td>Radiant</td>\n      <td>149.8</td>\n      <td>534</td>\n      <td>24.4</td>\n      <td>2</td>\n      <td>71</td>\n      <td>38</td>\n      <td>...</td>\n      <td>Spectre</td>\n      <td>21</td>\n      <td>71</td>\n      <td>8</td>\n      <td>65</td>\n      <td>Operator</td>\n      <td>8</td>\n      <td>92</td>\n      <td>0</td>\n      <td>64</td>\n    </tr>\n    <tr>\n      <th>...</th>\n      <td>...</td>\n      <td>...</td>\n      <td>...</td>\n      <td>...</td>\n      <td>...</td>\n      <td>...</td>\n      <td>...</td>\n      <td>...</td>\n      <td>...</td>\n      <td>...</td>\n      <td>...</td>\n      <td>...</td>\n      <td>...</td>\n      <td>...</td>\n      <td>...</td>\n      <td>...</td>\n      <td>...</td>\n      <td>...</td>\n      <td>...</td>\n      <td>...</td>\n      <td>...</td>\n    </tr>\n    <tr>\n      <th>85673</th>\n      <td>LAT</td>\n      <td>Kazutora</td>\n      <td>#img0d</td>\n      <td>Radiant</td>\n      <td>138.2</td>\n      <td>342</td>\n      <td>21.4</td>\n      <td>0</td>\n      <td>58</td>\n      <td>54</td>\n      <td>...</td>\n      <td>Vandal</td>\n      <td>28</td>\n      <td>69</td>\n      <td>2</td>\n      <td>175</td>\n      <td>Classic</td>\n      <td>39</td>\n      <td>59</td>\n      <td>2</td>\n      <td>71</td>\n    </tr>\n    <tr>\n      <th>85674</th>\n      <td>LAT</td>\n      <td>el lobo marino</td>\n      <td>#uthur</td>\n      <td>Radiant</td>\n      <td>182.9</td>\n      <td>650</td>\n      <td>30.1</td>\n      <td>4</td>\n      <td>77</td>\n      <td>42</td>\n      <td>...</td>\n      <td>Vandal</td>\n      <td>40</td>\n      <td>57</td>\n      <td>3</td>\n      <td>212</td>\n      <td>Spectre</td>\n      <td>33</td>\n      <td>63</td>\n      <td>5</td>\n      <td>139</td>\n    </tr>\n    <tr>\n      <th>85675</th>\n      <td>LAT</td>\n      <td>p9pzet</td>\n      <td>#666x</td>\n      <td>Radiant</td>\n      <td>158.8</td>\n      <td>613</td>\n      <td>30.2</td>\n      <td>0</td>\n      <td>70</td>\n      <td>54</td>\n      <td>...</td>\n      <td>Phantom</td>\n      <td>40</td>\n      <td>56</td>\n      <td>4</td>\n      <td>159</td>\n      <td>Operator</td>\n      <td>10</td>\n      <td>89</td>\n      <td>1</td>\n      <td>87</td>\n    </tr>\n    <tr>\n      <th>85676</th>\n      <td>LAT</td>\n      <td>EZ4TGD EnSBuwu</td>\n      <td>#kmeve</td>\n      <td>Immortal 3</td>\n      <td>155.9</td>\n      <td>132</td>\n      <td>22.2</td>\n      <td>0</td>\n      <td>23</td>\n      <td>18</td>\n      <td>...</td>\n      <td>Phantom</td>\n      <td>39</td>\n      <td>57</td>\n      <td>3</td>\n      <td>37</td>\n      <td>Spectre</td>\n      <td>27</td>\n      <td>69</td>\n      <td>4</td>\n      <td>17</td>\n    </tr>\n    <tr>\n      <th>85677</th>\n      <td>LAT</td>\n      <td>Neon</td>\n      <td>#SSJ</td>\n      <td>Radiant</td>\n      <td>164.4</td>\n      <td>1127</td>\n      <td>20.7</td>\n      <td>3</td>\n      <td>136</td>\n      <td>82</td>\n      <td>...</td>\n      <td>Operator</td>\n      <td>9</td>\n      <td>88</td>\n      <td>2</td>\n      <td>132</td>\n      <td>Spectre</td>\n      <td>27</td>\n      <td>70</td>\n      <td>2</td>\n      <td>108</td>\n    </tr>\n  </tbody>\n</table>\n<p>85678 rows × 38 columns</p>\n</div>"
     },
     "execution_count": 73,
     "metadata": {},
     "output_type": "execute_result"
    }
   ],
   "source": [
    "# Replace the name and tag column in the original dataframe with the fixed tag column\n",
    "val_df.loc[val_df['tag'].isnull(), ['name', 'tag']] = null_df\n",
    "val_df"
   ]
  },
  {
   "cell_type": "markdown",
   "id": "8cc39e8030239355",
   "metadata": {
    "collapsed": false
   },
   "source": [
    "Let's check again for missing values."
   ]
  },
  {
   "cell_type": "code",
   "execution_count": 74,
   "id": "b5cacaf15f07b942",
   "metadata": {
    "collapsed": false,
    "ExecuteTime": {
     "end_time": "2023-10-21T23:24:08.624130500Z",
     "start_time": "2023-10-21T23:24:04.240454700Z"
    }
   },
   "outputs": [
    {
     "data": {
      "text/plain": "name          2\ntag           2\nagent_2    1987\nagent_3    5217\ndtype: int64"
     },
     "execution_count": 74,
     "metadata": {},
     "output_type": "execute_result"
    }
   ],
   "source": [
    "missing_df = val_df.isnull().sum()\n",
    "missing_df[missing_df > 0]"
   ]
  },
  {
   "cell_type": "markdown",
   "id": "1b83dd897835f31c",
   "metadata": {
    "collapsed": false
   },
   "source": [
    "There are still missing values in `name` and `tag`. Let's check the rows with missing values.\n",
    "\n",
    "First, we will check the rows with missing values in `name`."
   ]
  },
  {
   "cell_type": "code",
   "execution_count": 75,
   "id": "7662cfb55d56292e",
   "metadata": {
    "collapsed": false,
    "ExecuteTime": {
     "end_time": "2023-10-21T23:24:08.704423Z",
     "start_time": "2023-10-21T23:24:04.267968400Z"
    }
   },
   "outputs": [
    {
     "data": {
      "text/plain": "      region name  tag      rating  damage_round  headshots  headshot_percent  \\\n24453     EU  NaN  NaN  Immortal 1         152.2         17              22.5   \n63603     AP  NaN  NaN      Gold 3         115.7        257              18.2   \n\n       aces  clutches  flawless  ...  gun2_name  gun2_head  gun2_body  \\\n24453     0         4         1  ...      Ghost         60         20   \n63603     0        52        28  ...    Classic         39         58   \n\n       gun2_legs  gun2_kills  gun3_name  gun3_head  gun3_body  gun3_legs  \\\n24453         20           3    Spectre          8         85          8   \n63603          3          47    Phantom         24         68          8   \n\n       gun3_kills  \n24453           3  \n63603          39  \n\n[2 rows x 38 columns]",
      "text/html": "<div>\n<style scoped>\n    .dataframe tbody tr th:only-of-type {\n        vertical-align: middle;\n    }\n\n    .dataframe tbody tr th {\n        vertical-align: top;\n    }\n\n    .dataframe thead th {\n        text-align: right;\n    }\n</style>\n<table border=\"1\" class=\"dataframe\">\n  <thead>\n    <tr style=\"text-align: right;\">\n      <th></th>\n      <th>region</th>\n      <th>name</th>\n      <th>tag</th>\n      <th>rating</th>\n      <th>damage_round</th>\n      <th>headshots</th>\n      <th>headshot_percent</th>\n      <th>aces</th>\n      <th>clutches</th>\n      <th>flawless</th>\n      <th>...</th>\n      <th>gun2_name</th>\n      <th>gun2_head</th>\n      <th>gun2_body</th>\n      <th>gun2_legs</th>\n      <th>gun2_kills</th>\n      <th>gun3_name</th>\n      <th>gun3_head</th>\n      <th>gun3_body</th>\n      <th>gun3_legs</th>\n      <th>gun3_kills</th>\n    </tr>\n  </thead>\n  <tbody>\n    <tr>\n      <th>24453</th>\n      <td>EU</td>\n      <td>NaN</td>\n      <td>NaN</td>\n      <td>Immortal 1</td>\n      <td>152.2</td>\n      <td>17</td>\n      <td>22.5</td>\n      <td>0</td>\n      <td>4</td>\n      <td>1</td>\n      <td>...</td>\n      <td>Ghost</td>\n      <td>60</td>\n      <td>20</td>\n      <td>20</td>\n      <td>3</td>\n      <td>Spectre</td>\n      <td>8</td>\n      <td>85</td>\n      <td>8</td>\n      <td>3</td>\n    </tr>\n    <tr>\n      <th>63603</th>\n      <td>AP</td>\n      <td>NaN</td>\n      <td>NaN</td>\n      <td>Gold 3</td>\n      <td>115.7</td>\n      <td>257</td>\n      <td>18.2</td>\n      <td>0</td>\n      <td>52</td>\n      <td>28</td>\n      <td>...</td>\n      <td>Classic</td>\n      <td>39</td>\n      <td>58</td>\n      <td>3</td>\n      <td>47</td>\n      <td>Phantom</td>\n      <td>24</td>\n      <td>68</td>\n      <td>8</td>\n      <td>39</td>\n    </tr>\n  </tbody>\n</table>\n<p>2 rows × 38 columns</p>\n</div>"
     },
     "execution_count": 75,
     "metadata": {},
     "output_type": "execute_result"
    }
   ],
   "source": [
    "null_df = val_df[val_df['name'].isnull()]\n",
    "null_df"
   ]
  },
  {
   "cell_type": "markdown",
   "id": "7094760a269fd579",
   "metadata": {
    "collapsed": false
   },
   "source": [
    "There is at least one row with a missing `name` and `tag`.\n",
    "We will fill the missing names with the value \"(No Name)\" and the missing tags with a string with format `#n` where n is the index of the row."
   ]
  },
  {
   "cell_type": "code",
   "execution_count": 76,
   "id": "6b08878320da8a85",
   "metadata": {
    "collapsed": false,
    "ExecuteTime": {
     "end_time": "2023-10-21T23:24:08.756517600Z",
     "start_time": "2023-10-21T23:24:04.287049900Z"
    }
   },
   "outputs": [
    {
     "data": {
      "text/plain": "      region            name     tag      rating  damage_round  headshots  \\\n0         NA        ShimmyXD    #NA1     Radiant         135.8        992   \n1         NA       XSET Cryo  #cells     Radiant         170.3        879   \n2         NA   PuRelittleone  #yoruW     Radiant         147.5        720   \n3         NA            Boba   #0068     Radiant         178.2        856   \n4         NA     i love mina  #kelly     Radiant         149.8        534   \n...      ...             ...     ...         ...           ...        ...   \n85673    LAT        Kazutora  #img0d     Radiant         138.2        342   \n85674    LAT  el lobo marino  #uthur     Radiant         182.9        650   \n85675    LAT          p9pzet   #666x     Radiant         158.8        613   \n85676    LAT  EZ4TGD EnSBuwu  #kmeve  Immortal 3         155.9        132   \n85677    LAT            Neon    #SSJ     Radiant         164.4       1127   \n\n       headshot_percent  aces  clutches  flawless  ...  gun2_name  gun2_head  \\\n0                  24.9     0       140        80  ...    Phantom         33   \n1                  28.3     2       122        94  ...   Operator          8   \n2                  24.0     3       117        59  ...    Phantom         36   \n3                  37.3     3        83        49  ...    Sheriff         48   \n4                  24.4     2        71        38  ...    Spectre         21   \n...                 ...   ...       ...       ...  ...        ...        ...   \n85673              21.4     0        58        54  ...     Vandal         28   \n85674              30.1     4        77        42  ...     Vandal         40   \n85675              30.2     0        70        54  ...    Phantom         40   \n85676              22.2     0        23        18  ...    Phantom         39   \n85677              20.7     3       136        82  ...   Operator          9   \n\n       gun2_body  gun2_legs  gun2_kills  gun3_name  gun3_head  gun3_body  \\\n0             62          5         220    Classic         36         60   \n1             91          0         226    Phantom         32         63   \n2             61          3         231   Operator          8         91   \n3             51          1          48    Phantom         44         56   \n4             71          8          65   Operator          8         92   \n...          ...        ...         ...        ...        ...        ...   \n85673         69          2         175    Classic         39         59   \n85674         57          3         212    Spectre         33         63   \n85675         56          4         159   Operator         10         89   \n85676         57          3          37    Spectre         27         69   \n85677         88          2         132    Spectre         27         70   \n\n       gun3_legs  gun3_kills  \n0              3         147  \n1              5         137  \n2              1         102  \n3              0          36  \n4              0          64  \n...          ...         ...  \n85673          2          71  \n85674          5         139  \n85675          1          87  \n85676          4          17  \n85677          2         108  \n\n[85678 rows x 38 columns]",
      "text/html": "<div>\n<style scoped>\n    .dataframe tbody tr th:only-of-type {\n        vertical-align: middle;\n    }\n\n    .dataframe tbody tr th {\n        vertical-align: top;\n    }\n\n    .dataframe thead th {\n        text-align: right;\n    }\n</style>\n<table border=\"1\" class=\"dataframe\">\n  <thead>\n    <tr style=\"text-align: right;\">\n      <th></th>\n      <th>region</th>\n      <th>name</th>\n      <th>tag</th>\n      <th>rating</th>\n      <th>damage_round</th>\n      <th>headshots</th>\n      <th>headshot_percent</th>\n      <th>aces</th>\n      <th>clutches</th>\n      <th>flawless</th>\n      <th>...</th>\n      <th>gun2_name</th>\n      <th>gun2_head</th>\n      <th>gun2_body</th>\n      <th>gun2_legs</th>\n      <th>gun2_kills</th>\n      <th>gun3_name</th>\n      <th>gun3_head</th>\n      <th>gun3_body</th>\n      <th>gun3_legs</th>\n      <th>gun3_kills</th>\n    </tr>\n  </thead>\n  <tbody>\n    <tr>\n      <th>0</th>\n      <td>NA</td>\n      <td>ShimmyXD</td>\n      <td>#NA1</td>\n      <td>Radiant</td>\n      <td>135.8</td>\n      <td>992</td>\n      <td>24.9</td>\n      <td>0</td>\n      <td>140</td>\n      <td>80</td>\n      <td>...</td>\n      <td>Phantom</td>\n      <td>33</td>\n      <td>62</td>\n      <td>5</td>\n      <td>220</td>\n      <td>Classic</td>\n      <td>36</td>\n      <td>60</td>\n      <td>3</td>\n      <td>147</td>\n    </tr>\n    <tr>\n      <th>1</th>\n      <td>NA</td>\n      <td>XSET Cryo</td>\n      <td>#cells</td>\n      <td>Radiant</td>\n      <td>170.3</td>\n      <td>879</td>\n      <td>28.3</td>\n      <td>2</td>\n      <td>122</td>\n      <td>94</td>\n      <td>...</td>\n      <td>Operator</td>\n      <td>8</td>\n      <td>91</td>\n      <td>0</td>\n      <td>226</td>\n      <td>Phantom</td>\n      <td>32</td>\n      <td>63</td>\n      <td>5</td>\n      <td>137</td>\n    </tr>\n    <tr>\n      <th>2</th>\n      <td>NA</td>\n      <td>PuRelittleone</td>\n      <td>#yoruW</td>\n      <td>Radiant</td>\n      <td>147.5</td>\n      <td>720</td>\n      <td>24.0</td>\n      <td>3</td>\n      <td>117</td>\n      <td>59</td>\n      <td>...</td>\n      <td>Phantom</td>\n      <td>36</td>\n      <td>61</td>\n      <td>3</td>\n      <td>231</td>\n      <td>Operator</td>\n      <td>8</td>\n      <td>91</td>\n      <td>1</td>\n      <td>102</td>\n    </tr>\n    <tr>\n      <th>3</th>\n      <td>NA</td>\n      <td>Boba</td>\n      <td>#0068</td>\n      <td>Radiant</td>\n      <td>178.2</td>\n      <td>856</td>\n      <td>37.3</td>\n      <td>3</td>\n      <td>83</td>\n      <td>49</td>\n      <td>...</td>\n      <td>Sheriff</td>\n      <td>48</td>\n      <td>51</td>\n      <td>1</td>\n      <td>48</td>\n      <td>Phantom</td>\n      <td>44</td>\n      <td>56</td>\n      <td>0</td>\n      <td>36</td>\n    </tr>\n    <tr>\n      <th>4</th>\n      <td>NA</td>\n      <td>i love mina</td>\n      <td>#kelly</td>\n      <td>Radiant</td>\n      <td>149.8</td>\n      <td>534</td>\n      <td>24.4</td>\n      <td>2</td>\n      <td>71</td>\n      <td>38</td>\n      <td>...</td>\n      <td>Spectre</td>\n      <td>21</td>\n      <td>71</td>\n      <td>8</td>\n      <td>65</td>\n      <td>Operator</td>\n      <td>8</td>\n      <td>92</td>\n      <td>0</td>\n      <td>64</td>\n    </tr>\n    <tr>\n      <th>...</th>\n      <td>...</td>\n      <td>...</td>\n      <td>...</td>\n      <td>...</td>\n      <td>...</td>\n      <td>...</td>\n      <td>...</td>\n      <td>...</td>\n      <td>...</td>\n      <td>...</td>\n      <td>...</td>\n      <td>...</td>\n      <td>...</td>\n      <td>...</td>\n      <td>...</td>\n      <td>...</td>\n      <td>...</td>\n      <td>...</td>\n      <td>...</td>\n      <td>...</td>\n      <td>...</td>\n    </tr>\n    <tr>\n      <th>85673</th>\n      <td>LAT</td>\n      <td>Kazutora</td>\n      <td>#img0d</td>\n      <td>Radiant</td>\n      <td>138.2</td>\n      <td>342</td>\n      <td>21.4</td>\n      <td>0</td>\n      <td>58</td>\n      <td>54</td>\n      <td>...</td>\n      <td>Vandal</td>\n      <td>28</td>\n      <td>69</td>\n      <td>2</td>\n      <td>175</td>\n      <td>Classic</td>\n      <td>39</td>\n      <td>59</td>\n      <td>2</td>\n      <td>71</td>\n    </tr>\n    <tr>\n      <th>85674</th>\n      <td>LAT</td>\n      <td>el lobo marino</td>\n      <td>#uthur</td>\n      <td>Radiant</td>\n      <td>182.9</td>\n      <td>650</td>\n      <td>30.1</td>\n      <td>4</td>\n      <td>77</td>\n      <td>42</td>\n      <td>...</td>\n      <td>Vandal</td>\n      <td>40</td>\n      <td>57</td>\n      <td>3</td>\n      <td>212</td>\n      <td>Spectre</td>\n      <td>33</td>\n      <td>63</td>\n      <td>5</td>\n      <td>139</td>\n    </tr>\n    <tr>\n      <th>85675</th>\n      <td>LAT</td>\n      <td>p9pzet</td>\n      <td>#666x</td>\n      <td>Radiant</td>\n      <td>158.8</td>\n      <td>613</td>\n      <td>30.2</td>\n      <td>0</td>\n      <td>70</td>\n      <td>54</td>\n      <td>...</td>\n      <td>Phantom</td>\n      <td>40</td>\n      <td>56</td>\n      <td>4</td>\n      <td>159</td>\n      <td>Operator</td>\n      <td>10</td>\n      <td>89</td>\n      <td>1</td>\n      <td>87</td>\n    </tr>\n    <tr>\n      <th>85676</th>\n      <td>LAT</td>\n      <td>EZ4TGD EnSBuwu</td>\n      <td>#kmeve</td>\n      <td>Immortal 3</td>\n      <td>155.9</td>\n      <td>132</td>\n      <td>22.2</td>\n      <td>0</td>\n      <td>23</td>\n      <td>18</td>\n      <td>...</td>\n      <td>Phantom</td>\n      <td>39</td>\n      <td>57</td>\n      <td>3</td>\n      <td>37</td>\n      <td>Spectre</td>\n      <td>27</td>\n      <td>69</td>\n      <td>4</td>\n      <td>17</td>\n    </tr>\n    <tr>\n      <th>85677</th>\n      <td>LAT</td>\n      <td>Neon</td>\n      <td>#SSJ</td>\n      <td>Radiant</td>\n      <td>164.4</td>\n      <td>1127</td>\n      <td>20.7</td>\n      <td>3</td>\n      <td>136</td>\n      <td>82</td>\n      <td>...</td>\n      <td>Operator</td>\n      <td>9</td>\n      <td>88</td>\n      <td>2</td>\n      <td>132</td>\n      <td>Spectre</td>\n      <td>27</td>\n      <td>70</td>\n      <td>2</td>\n      <td>108</td>\n    </tr>\n  </tbody>\n</table>\n<p>85678 rows × 38 columns</p>\n</div>"
     },
     "execution_count": 76,
     "metadata": {},
     "output_type": "execute_result"
    }
   ],
   "source": [
    "# Iterate through the rows and fill the missing names and tags\n",
    "for i, row in null_df.iterrows():\n",
    "    val_df.loc[i, 'name'] = f'(No Name)'\n",
    "    val_df.loc[i, 'tag'] = f'#{i}'\n",
    "val_df"
   ]
  },
  {
   "cell_type": "markdown",
   "id": "930c2cefb6167a66",
   "metadata": {
    "collapsed": false
   },
   "source": [
    "Let's check again for missing values."
   ]
  },
  {
   "cell_type": "code",
   "execution_count": 77,
   "id": "3a6a193f87559a70",
   "metadata": {
    "collapsed": false,
    "ExecuteTime": {
     "end_time": "2023-10-21T23:24:08.800373500Z",
     "start_time": "2023-10-21T23:24:04.346014400Z"
    }
   },
   "outputs": [
    {
     "data": {
      "text/plain": "agent_2    1987\nagent_3    5217\ndtype: int64"
     },
     "execution_count": 77,
     "metadata": {},
     "output_type": "execute_result"
    }
   ],
   "source": [
    "missing_df = val_df.isnull().sum()\n",
    "missing_df[missing_df > 0]"
   ]
  },
  {
   "cell_type": "markdown",
   "id": "e69bf554cd44247a",
   "metadata": {
    "collapsed": false
   },
   "source": [
    "Looks like that's it! The current missing values are in the `agent_2` and `agent_3` columns.\n",
    "These are acceptable because they may be players who only played one agent.\n",
    "\n",
    "After cleaning the missing values, let's check the size of the dataset again."
   ]
  },
  {
   "cell_type": "code",
   "execution_count": 78,
   "id": "aa4ef605c3812b93",
   "metadata": {
    "collapsed": false,
    "ExecuteTime": {
     "end_time": "2023-10-21T23:24:08.801330Z",
     "start_time": "2023-10-21T23:24:04.376629Z"
    }
   },
   "outputs": [
    {
     "data": {
      "text/plain": "(85678, 38)"
     },
     "execution_count": 78,
     "metadata": {},
     "output_type": "execute_result"
    }
   ],
   "source": [
    "val_df.shape"
   ]
  },
  {
   "cell_type": "markdown",
   "id": "fd406ca784944f7f",
   "metadata": {
    "collapsed": false
   },
   "source": [
    "There are 85678 rows and 38 columns.\n",
    "\n",
    "Here is the cleaned dataset."
   ]
  },
  {
   "cell_type": "code",
   "execution_count": 79,
   "id": "360ca327be464db2",
   "metadata": {
    "collapsed": false,
    "ExecuteTime": {
     "end_time": "2023-10-21T23:24:08.904796400Z",
     "start_time": "2023-10-21T23:24:04.384692200Z"
    }
   },
   "outputs": [
    {
     "data": {
      "text/plain": "      region            name     tag      rating  damage_round  headshots  \\\n0         NA        ShimmyXD    #NA1     Radiant         135.8        992   \n1         NA       XSET Cryo  #cells     Radiant         170.3        879   \n2         NA   PuRelittleone  #yoruW     Radiant         147.5        720   \n3         NA            Boba   #0068     Radiant         178.2        856   \n4         NA     i love mina  #kelly     Radiant         149.8        534   \n...      ...             ...     ...         ...           ...        ...   \n85673    LAT        Kazutora  #img0d     Radiant         138.2        342   \n85674    LAT  el lobo marino  #uthur     Radiant         182.9        650   \n85675    LAT          p9pzet   #666x     Radiant         158.8        613   \n85676    LAT  EZ4TGD EnSBuwu  #kmeve  Immortal 3         155.9        132   \n85677    LAT            Neon    #SSJ     Radiant         164.4       1127   \n\n       headshot_percent  aces  clutches  flawless  ...  gun2_name  gun2_head  \\\n0                  24.9     0       140        80  ...    Phantom         33   \n1                  28.3     2       122        94  ...   Operator          8   \n2                  24.0     3       117        59  ...    Phantom         36   \n3                  37.3     3        83        49  ...    Sheriff         48   \n4                  24.4     2        71        38  ...    Spectre         21   \n...                 ...   ...       ...       ...  ...        ...        ...   \n85673              21.4     0        58        54  ...     Vandal         28   \n85674              30.1     4        77        42  ...     Vandal         40   \n85675              30.2     0        70        54  ...    Phantom         40   \n85676              22.2     0        23        18  ...    Phantom         39   \n85677              20.7     3       136        82  ...   Operator          9   \n\n       gun2_body  gun2_legs  gun2_kills  gun3_name  gun3_head  gun3_body  \\\n0             62          5         220    Classic         36         60   \n1             91          0         226    Phantom         32         63   \n2             61          3         231   Operator          8         91   \n3             51          1          48    Phantom         44         56   \n4             71          8          65   Operator          8         92   \n...          ...        ...         ...        ...        ...        ...   \n85673         69          2         175    Classic         39         59   \n85674         57          3         212    Spectre         33         63   \n85675         56          4         159   Operator         10         89   \n85676         57          3          37    Spectre         27         69   \n85677         88          2         132    Spectre         27         70   \n\n       gun3_legs  gun3_kills  \n0              3         147  \n1              5         137  \n2              1         102  \n3              0          36  \n4              0          64  \n...          ...         ...  \n85673          2          71  \n85674          5         139  \n85675          1          87  \n85676          4          17  \n85677          2         108  \n\n[85678 rows x 38 columns]",
      "text/html": "<div>\n<style scoped>\n    .dataframe tbody tr th:only-of-type {\n        vertical-align: middle;\n    }\n\n    .dataframe tbody tr th {\n        vertical-align: top;\n    }\n\n    .dataframe thead th {\n        text-align: right;\n    }\n</style>\n<table border=\"1\" class=\"dataframe\">\n  <thead>\n    <tr style=\"text-align: right;\">\n      <th></th>\n      <th>region</th>\n      <th>name</th>\n      <th>tag</th>\n      <th>rating</th>\n      <th>damage_round</th>\n      <th>headshots</th>\n      <th>headshot_percent</th>\n      <th>aces</th>\n      <th>clutches</th>\n      <th>flawless</th>\n      <th>...</th>\n      <th>gun2_name</th>\n      <th>gun2_head</th>\n      <th>gun2_body</th>\n      <th>gun2_legs</th>\n      <th>gun2_kills</th>\n      <th>gun3_name</th>\n      <th>gun3_head</th>\n      <th>gun3_body</th>\n      <th>gun3_legs</th>\n      <th>gun3_kills</th>\n    </tr>\n  </thead>\n  <tbody>\n    <tr>\n      <th>0</th>\n      <td>NA</td>\n      <td>ShimmyXD</td>\n      <td>#NA1</td>\n      <td>Radiant</td>\n      <td>135.8</td>\n      <td>992</td>\n      <td>24.9</td>\n      <td>0</td>\n      <td>140</td>\n      <td>80</td>\n      <td>...</td>\n      <td>Phantom</td>\n      <td>33</td>\n      <td>62</td>\n      <td>5</td>\n      <td>220</td>\n      <td>Classic</td>\n      <td>36</td>\n      <td>60</td>\n      <td>3</td>\n      <td>147</td>\n    </tr>\n    <tr>\n      <th>1</th>\n      <td>NA</td>\n      <td>XSET Cryo</td>\n      <td>#cells</td>\n      <td>Radiant</td>\n      <td>170.3</td>\n      <td>879</td>\n      <td>28.3</td>\n      <td>2</td>\n      <td>122</td>\n      <td>94</td>\n      <td>...</td>\n      <td>Operator</td>\n      <td>8</td>\n      <td>91</td>\n      <td>0</td>\n      <td>226</td>\n      <td>Phantom</td>\n      <td>32</td>\n      <td>63</td>\n      <td>5</td>\n      <td>137</td>\n    </tr>\n    <tr>\n      <th>2</th>\n      <td>NA</td>\n      <td>PuRelittleone</td>\n      <td>#yoruW</td>\n      <td>Radiant</td>\n      <td>147.5</td>\n      <td>720</td>\n      <td>24.0</td>\n      <td>3</td>\n      <td>117</td>\n      <td>59</td>\n      <td>...</td>\n      <td>Phantom</td>\n      <td>36</td>\n      <td>61</td>\n      <td>3</td>\n      <td>231</td>\n      <td>Operator</td>\n      <td>8</td>\n      <td>91</td>\n      <td>1</td>\n      <td>102</td>\n    </tr>\n    <tr>\n      <th>3</th>\n      <td>NA</td>\n      <td>Boba</td>\n      <td>#0068</td>\n      <td>Radiant</td>\n      <td>178.2</td>\n      <td>856</td>\n      <td>37.3</td>\n      <td>3</td>\n      <td>83</td>\n      <td>49</td>\n      <td>...</td>\n      <td>Sheriff</td>\n      <td>48</td>\n      <td>51</td>\n      <td>1</td>\n      <td>48</td>\n      <td>Phantom</td>\n      <td>44</td>\n      <td>56</td>\n      <td>0</td>\n      <td>36</td>\n    </tr>\n    <tr>\n      <th>4</th>\n      <td>NA</td>\n      <td>i love mina</td>\n      <td>#kelly</td>\n      <td>Radiant</td>\n      <td>149.8</td>\n      <td>534</td>\n      <td>24.4</td>\n      <td>2</td>\n      <td>71</td>\n      <td>38</td>\n      <td>...</td>\n      <td>Spectre</td>\n      <td>21</td>\n      <td>71</td>\n      <td>8</td>\n      <td>65</td>\n      <td>Operator</td>\n      <td>8</td>\n      <td>92</td>\n      <td>0</td>\n      <td>64</td>\n    </tr>\n    <tr>\n      <th>...</th>\n      <td>...</td>\n      <td>...</td>\n      <td>...</td>\n      <td>...</td>\n      <td>...</td>\n      <td>...</td>\n      <td>...</td>\n      <td>...</td>\n      <td>...</td>\n      <td>...</td>\n      <td>...</td>\n      <td>...</td>\n      <td>...</td>\n      <td>...</td>\n      <td>...</td>\n      <td>...</td>\n      <td>...</td>\n      <td>...</td>\n      <td>...</td>\n      <td>...</td>\n      <td>...</td>\n    </tr>\n    <tr>\n      <th>85673</th>\n      <td>LAT</td>\n      <td>Kazutora</td>\n      <td>#img0d</td>\n      <td>Radiant</td>\n      <td>138.2</td>\n      <td>342</td>\n      <td>21.4</td>\n      <td>0</td>\n      <td>58</td>\n      <td>54</td>\n      <td>...</td>\n      <td>Vandal</td>\n      <td>28</td>\n      <td>69</td>\n      <td>2</td>\n      <td>175</td>\n      <td>Classic</td>\n      <td>39</td>\n      <td>59</td>\n      <td>2</td>\n      <td>71</td>\n    </tr>\n    <tr>\n      <th>85674</th>\n      <td>LAT</td>\n      <td>el lobo marino</td>\n      <td>#uthur</td>\n      <td>Radiant</td>\n      <td>182.9</td>\n      <td>650</td>\n      <td>30.1</td>\n      <td>4</td>\n      <td>77</td>\n      <td>42</td>\n      <td>...</td>\n      <td>Vandal</td>\n      <td>40</td>\n      <td>57</td>\n      <td>3</td>\n      <td>212</td>\n      <td>Spectre</td>\n      <td>33</td>\n      <td>63</td>\n      <td>5</td>\n      <td>139</td>\n    </tr>\n    <tr>\n      <th>85675</th>\n      <td>LAT</td>\n      <td>p9pzet</td>\n      <td>#666x</td>\n      <td>Radiant</td>\n      <td>158.8</td>\n      <td>613</td>\n      <td>30.2</td>\n      <td>0</td>\n      <td>70</td>\n      <td>54</td>\n      <td>...</td>\n      <td>Phantom</td>\n      <td>40</td>\n      <td>56</td>\n      <td>4</td>\n      <td>159</td>\n      <td>Operator</td>\n      <td>10</td>\n      <td>89</td>\n      <td>1</td>\n      <td>87</td>\n    </tr>\n    <tr>\n      <th>85676</th>\n      <td>LAT</td>\n      <td>EZ4TGD EnSBuwu</td>\n      <td>#kmeve</td>\n      <td>Immortal 3</td>\n      <td>155.9</td>\n      <td>132</td>\n      <td>22.2</td>\n      <td>0</td>\n      <td>23</td>\n      <td>18</td>\n      <td>...</td>\n      <td>Phantom</td>\n      <td>39</td>\n      <td>57</td>\n      <td>3</td>\n      <td>37</td>\n      <td>Spectre</td>\n      <td>27</td>\n      <td>69</td>\n      <td>4</td>\n      <td>17</td>\n    </tr>\n    <tr>\n      <th>85677</th>\n      <td>LAT</td>\n      <td>Neon</td>\n      <td>#SSJ</td>\n      <td>Radiant</td>\n      <td>164.4</td>\n      <td>1127</td>\n      <td>20.7</td>\n      <td>3</td>\n      <td>136</td>\n      <td>82</td>\n      <td>...</td>\n      <td>Operator</td>\n      <td>9</td>\n      <td>88</td>\n      <td>2</td>\n      <td>132</td>\n      <td>Spectre</td>\n      <td>27</td>\n      <td>70</td>\n      <td>2</td>\n      <td>108</td>\n    </tr>\n  </tbody>\n</table>\n<p>85678 rows × 38 columns</p>\n</div>"
     },
     "execution_count": 79,
     "metadata": {},
     "output_type": "execute_result"
    }
   ],
   "source": [
    "val_df"
   ]
  },
  {
   "cell_type": "markdown",
   "id": "b66908b6a5cd2d45",
   "metadata": {
    "collapsed": false
   },
   "source": [
    "### Remove Duplicate Rows\n",
    "Let us check for duplicate rows."
   ]
  },
  {
   "cell_type": "code",
   "execution_count": 80,
   "id": "ddde67de5afec953",
   "metadata": {
    "collapsed": false,
    "ExecuteTime": {
     "end_time": "2023-10-21T23:24:09.064717200Z",
     "start_time": "2023-10-21T23:24:04.446977900Z"
    }
   },
   "outputs": [
    {
     "data": {
      "text/plain": "      region              name    tag      rating  damage_round  headshots  \\\n327       NA            WRE Px  #1TAP  Immortal 3         133.8        368   \n471       NA               mer  #goat  Immortal 2         148.9        295   \n1828      NA           Misssso   #NA1  Immortal 1         149.9        512   \n1839      NA         OnionBean   #NA1  Immortal 1         136.6        450   \n2034      NA  OryxTheMadHatter   #NA1  Immortal 1         152.4       1120   \n...      ...               ...    ...         ...           ...        ...   \n83999    LAT              fraZ  #PENA  Immortal 1         157.2        395   \n84062    LAT              crip  #2858  Immortal 2         140.7        180   \n84064    LAT         Nicobass1   #LAN  Immortal 2         207.9        105   \n84541    LAT           sshinko   #huh  Immortal 2         135.7        324   \n84967    LAT        blablayost   #LAN  Immortal 3         150.2        383   \n\n       headshot_percent  aces  clutches  flawless  ...  gun2_name  gun2_head  \\\n327                38.0     1        52        17  ...     Vandal         50   \n471                26.6     0        29        20  ...    Phantom         40   \n1828               17.3     1        75        48  ...     Vandal         29   \n1839               19.3     1        56        36  ...    Classic         28   \n2034               21.5     2       151        88  ...    Phantom         30   \n...                 ...   ...       ...       ...  ...        ...        ...   \n83999              25.8     0        51        20  ...    Phantom         31   \n84062              28.5     0        21        14  ...    Phantom         34   \n84064              18.2     0        15         4  ...    Spectre         12   \n84541              20.5     2        58        33  ...    Phantom         28   \n84967              27.3     0        43        40  ...    Phantom         41   \n\n       gun2_body  gun2_legs  gun2_kills  gun3_name  gun3_head  gun3_body  \\\n327           48          3         141    Spectre         39         58   \n471           57          3          90    Spectre         29         68   \n1828          66          4         260    Spectre         19         73   \n1839          67          5          79    Spectre         19         72   \n2034          64          6         388    Spectre         20         70   \n...          ...        ...         ...        ...        ...        ...   \n83999         66          3          60      Ghost         37         59   \n84062         64          3          68      Ghost         29         66   \n84064         78         10          25      Ghost         63         31   \n84541         66          6         161    Spectre         17         77   \n84967         56          2          73   Operator          6         94   \n\n       gun3_legs  gun3_kills  \n327            4          55  \n471            3          44  \n1828           8          77  \n1839           9          56  \n2034          10         137  \n...          ...         ...  \n83999          4          45  \n84062          6          15  \n84064          6          10  \n84541          6          53  \n84967          0          50  \n\n[1084 rows x 38 columns]",
      "text/html": "<div>\n<style scoped>\n    .dataframe tbody tr th:only-of-type {\n        vertical-align: middle;\n    }\n\n    .dataframe tbody tr th {\n        vertical-align: top;\n    }\n\n    .dataframe thead th {\n        text-align: right;\n    }\n</style>\n<table border=\"1\" class=\"dataframe\">\n  <thead>\n    <tr style=\"text-align: right;\">\n      <th></th>\n      <th>region</th>\n      <th>name</th>\n      <th>tag</th>\n      <th>rating</th>\n      <th>damage_round</th>\n      <th>headshots</th>\n      <th>headshot_percent</th>\n      <th>aces</th>\n      <th>clutches</th>\n      <th>flawless</th>\n      <th>...</th>\n      <th>gun2_name</th>\n      <th>gun2_head</th>\n      <th>gun2_body</th>\n      <th>gun2_legs</th>\n      <th>gun2_kills</th>\n      <th>gun3_name</th>\n      <th>gun3_head</th>\n      <th>gun3_body</th>\n      <th>gun3_legs</th>\n      <th>gun3_kills</th>\n    </tr>\n  </thead>\n  <tbody>\n    <tr>\n      <th>327</th>\n      <td>NA</td>\n      <td>WRE Px</td>\n      <td>#1TAP</td>\n      <td>Immortal 3</td>\n      <td>133.8</td>\n      <td>368</td>\n      <td>38.0</td>\n      <td>1</td>\n      <td>52</td>\n      <td>17</td>\n      <td>...</td>\n      <td>Vandal</td>\n      <td>50</td>\n      <td>48</td>\n      <td>3</td>\n      <td>141</td>\n      <td>Spectre</td>\n      <td>39</td>\n      <td>58</td>\n      <td>4</td>\n      <td>55</td>\n    </tr>\n    <tr>\n      <th>471</th>\n      <td>NA</td>\n      <td>mer</td>\n      <td>#goat</td>\n      <td>Immortal 2</td>\n      <td>148.9</td>\n      <td>295</td>\n      <td>26.6</td>\n      <td>0</td>\n      <td>29</td>\n      <td>20</td>\n      <td>...</td>\n      <td>Phantom</td>\n      <td>40</td>\n      <td>57</td>\n      <td>3</td>\n      <td>90</td>\n      <td>Spectre</td>\n      <td>29</td>\n      <td>68</td>\n      <td>3</td>\n      <td>44</td>\n    </tr>\n    <tr>\n      <th>1828</th>\n      <td>NA</td>\n      <td>Misssso</td>\n      <td>#NA1</td>\n      <td>Immortal 1</td>\n      <td>149.9</td>\n      <td>512</td>\n      <td>17.3</td>\n      <td>1</td>\n      <td>75</td>\n      <td>48</td>\n      <td>...</td>\n      <td>Vandal</td>\n      <td>29</td>\n      <td>66</td>\n      <td>4</td>\n      <td>260</td>\n      <td>Spectre</td>\n      <td>19</td>\n      <td>73</td>\n      <td>8</td>\n      <td>77</td>\n    </tr>\n    <tr>\n      <th>1839</th>\n      <td>NA</td>\n      <td>OnionBean</td>\n      <td>#NA1</td>\n      <td>Immortal 1</td>\n      <td>136.6</td>\n      <td>450</td>\n      <td>19.3</td>\n      <td>1</td>\n      <td>56</td>\n      <td>36</td>\n      <td>...</td>\n      <td>Classic</td>\n      <td>28</td>\n      <td>67</td>\n      <td>5</td>\n      <td>79</td>\n      <td>Spectre</td>\n      <td>19</td>\n      <td>72</td>\n      <td>9</td>\n      <td>56</td>\n    </tr>\n    <tr>\n      <th>2034</th>\n      <td>NA</td>\n      <td>OryxTheMadHatter</td>\n      <td>#NA1</td>\n      <td>Immortal 1</td>\n      <td>152.4</td>\n      <td>1120</td>\n      <td>21.5</td>\n      <td>2</td>\n      <td>151</td>\n      <td>88</td>\n      <td>...</td>\n      <td>Phantom</td>\n      <td>30</td>\n      <td>64</td>\n      <td>6</td>\n      <td>388</td>\n      <td>Spectre</td>\n      <td>20</td>\n      <td>70</td>\n      <td>10</td>\n      <td>137</td>\n    </tr>\n    <tr>\n      <th>...</th>\n      <td>...</td>\n      <td>...</td>\n      <td>...</td>\n      <td>...</td>\n      <td>...</td>\n      <td>...</td>\n      <td>...</td>\n      <td>...</td>\n      <td>...</td>\n      <td>...</td>\n      <td>...</td>\n      <td>...</td>\n      <td>...</td>\n      <td>...</td>\n      <td>...</td>\n      <td>...</td>\n      <td>...</td>\n      <td>...</td>\n      <td>...</td>\n      <td>...</td>\n      <td>...</td>\n    </tr>\n    <tr>\n      <th>83999</th>\n      <td>LAT</td>\n      <td>fraZ</td>\n      <td>#PENA</td>\n      <td>Immortal 1</td>\n      <td>157.2</td>\n      <td>395</td>\n      <td>25.8</td>\n      <td>0</td>\n      <td>51</td>\n      <td>20</td>\n      <td>...</td>\n      <td>Phantom</td>\n      <td>31</td>\n      <td>66</td>\n      <td>3</td>\n      <td>60</td>\n      <td>Ghost</td>\n      <td>37</td>\n      <td>59</td>\n      <td>4</td>\n      <td>45</td>\n    </tr>\n    <tr>\n      <th>84062</th>\n      <td>LAT</td>\n      <td>crip</td>\n      <td>#2858</td>\n      <td>Immortal 2</td>\n      <td>140.7</td>\n      <td>180</td>\n      <td>28.5</td>\n      <td>0</td>\n      <td>21</td>\n      <td>14</td>\n      <td>...</td>\n      <td>Phantom</td>\n      <td>34</td>\n      <td>64</td>\n      <td>3</td>\n      <td>68</td>\n      <td>Ghost</td>\n      <td>29</td>\n      <td>66</td>\n      <td>6</td>\n      <td>15</td>\n    </tr>\n    <tr>\n      <th>84064</th>\n      <td>LAT</td>\n      <td>Nicobass1</td>\n      <td>#LAN</td>\n      <td>Immortal 2</td>\n      <td>207.9</td>\n      <td>105</td>\n      <td>18.2</td>\n      <td>0</td>\n      <td>15</td>\n      <td>4</td>\n      <td>...</td>\n      <td>Spectre</td>\n      <td>12</td>\n      <td>78</td>\n      <td>10</td>\n      <td>25</td>\n      <td>Ghost</td>\n      <td>63</td>\n      <td>31</td>\n      <td>6</td>\n      <td>10</td>\n    </tr>\n    <tr>\n      <th>84541</th>\n      <td>LAT</td>\n      <td>sshinko</td>\n      <td>#huh</td>\n      <td>Immortal 2</td>\n      <td>135.7</td>\n      <td>324</td>\n      <td>20.5</td>\n      <td>2</td>\n      <td>58</td>\n      <td>33</td>\n      <td>...</td>\n      <td>Phantom</td>\n      <td>28</td>\n      <td>66</td>\n      <td>6</td>\n      <td>161</td>\n      <td>Spectre</td>\n      <td>17</td>\n      <td>77</td>\n      <td>6</td>\n      <td>53</td>\n    </tr>\n    <tr>\n      <th>84967</th>\n      <td>LAT</td>\n      <td>blablayost</td>\n      <td>#LAN</td>\n      <td>Immortal 3</td>\n      <td>150.2</td>\n      <td>383</td>\n      <td>27.3</td>\n      <td>0</td>\n      <td>43</td>\n      <td>40</td>\n      <td>...</td>\n      <td>Phantom</td>\n      <td>41</td>\n      <td>56</td>\n      <td>2</td>\n      <td>73</td>\n      <td>Operator</td>\n      <td>6</td>\n      <td>94</td>\n      <td>0</td>\n      <td>50</td>\n    </tr>\n  </tbody>\n</table>\n<p>1084 rows × 38 columns</p>\n</div>"
     },
     "execution_count": 80,
     "metadata": {},
     "output_type": "execute_result"
    }
   ],
   "source": [
    "val_df[val_df.duplicated()]"
   ]
  },
  {
   "cell_type": "markdown",
   "id": "29a419590e378a73",
   "metadata": {
    "collapsed": false
   },
   "source": [
    "We will remove duplicate rows based on the `name` and `tag` columns. These columns are used to identify a player.\n",
    "Then, we will keep the first row of the duplicate rows."
   ]
  },
  {
   "cell_type": "code",
   "execution_count": 81,
   "id": "ca9f107c93c36b29",
   "metadata": {
    "collapsed": false,
    "ExecuteTime": {
     "end_time": "2023-10-21T23:24:09.189122900Z",
     "start_time": "2023-10-21T23:24:04.633287Z"
    }
   },
   "outputs": [
    {
     "data": {
      "text/plain": "      region            name     tag      rating  damage_round  headshots  \\\n0         NA        ShimmyXD    #NA1     Radiant         135.8        992   \n1         NA       XSET Cryo  #cells     Radiant         170.3        879   \n2         NA   PuRelittleone  #yoruW     Radiant         147.5        720   \n3         NA            Boba   #0068     Radiant         178.2        856   \n4         NA     i love mina  #kelly     Radiant         149.8        534   \n...      ...             ...     ...         ...           ...        ...   \n85673    LAT        Kazutora  #img0d     Radiant         138.2        342   \n85674    LAT  el lobo marino  #uthur     Radiant         182.9        650   \n85675    LAT          p9pzet   #666x     Radiant         158.8        613   \n85676    LAT  EZ4TGD EnSBuwu  #kmeve  Immortal 3         155.9        132   \n85677    LAT            Neon    #SSJ     Radiant         164.4       1127   \n\n       headshot_percent  aces  clutches  flawless  ...  gun2_name  gun2_head  \\\n0                  24.9     0       140        80  ...    Phantom         33   \n1                  28.3     2       122        94  ...   Operator          8   \n2                  24.0     3       117        59  ...    Phantom         36   \n3                  37.3     3        83        49  ...    Sheriff         48   \n4                  24.4     2        71        38  ...    Spectre         21   \n...                 ...   ...       ...       ...  ...        ...        ...   \n85673              21.4     0        58        54  ...     Vandal         28   \n85674              30.1     4        77        42  ...     Vandal         40   \n85675              30.2     0        70        54  ...    Phantom         40   \n85676              22.2     0        23        18  ...    Phantom         39   \n85677              20.7     3       136        82  ...   Operator          9   \n\n       gun2_body  gun2_legs  gun2_kills  gun3_name  gun3_head  gun3_body  \\\n0             62          5         220    Classic         36         60   \n1             91          0         226    Phantom         32         63   \n2             61          3         231   Operator          8         91   \n3             51          1          48    Phantom         44         56   \n4             71          8          65   Operator          8         92   \n...          ...        ...         ...        ...        ...        ...   \n85673         69          2         175    Classic         39         59   \n85674         57          3         212    Spectre         33         63   \n85675         56          4         159   Operator         10         89   \n85676         57          3          37    Spectre         27         69   \n85677         88          2         132    Spectre         27         70   \n\n       gun3_legs  gun3_kills  \n0              3         147  \n1              5         137  \n2              1         102  \n3              0          36  \n4              0          64  \n...          ...         ...  \n85673          2          71  \n85674          5         139  \n85675          1          87  \n85676          4          17  \n85677          2         108  \n\n[84068 rows x 38 columns]",
      "text/html": "<div>\n<style scoped>\n    .dataframe tbody tr th:only-of-type {\n        vertical-align: middle;\n    }\n\n    .dataframe tbody tr th {\n        vertical-align: top;\n    }\n\n    .dataframe thead th {\n        text-align: right;\n    }\n</style>\n<table border=\"1\" class=\"dataframe\">\n  <thead>\n    <tr style=\"text-align: right;\">\n      <th></th>\n      <th>region</th>\n      <th>name</th>\n      <th>tag</th>\n      <th>rating</th>\n      <th>damage_round</th>\n      <th>headshots</th>\n      <th>headshot_percent</th>\n      <th>aces</th>\n      <th>clutches</th>\n      <th>flawless</th>\n      <th>...</th>\n      <th>gun2_name</th>\n      <th>gun2_head</th>\n      <th>gun2_body</th>\n      <th>gun2_legs</th>\n      <th>gun2_kills</th>\n      <th>gun3_name</th>\n      <th>gun3_head</th>\n      <th>gun3_body</th>\n      <th>gun3_legs</th>\n      <th>gun3_kills</th>\n    </tr>\n  </thead>\n  <tbody>\n    <tr>\n      <th>0</th>\n      <td>NA</td>\n      <td>ShimmyXD</td>\n      <td>#NA1</td>\n      <td>Radiant</td>\n      <td>135.8</td>\n      <td>992</td>\n      <td>24.9</td>\n      <td>0</td>\n      <td>140</td>\n      <td>80</td>\n      <td>...</td>\n      <td>Phantom</td>\n      <td>33</td>\n      <td>62</td>\n      <td>5</td>\n      <td>220</td>\n      <td>Classic</td>\n      <td>36</td>\n      <td>60</td>\n      <td>3</td>\n      <td>147</td>\n    </tr>\n    <tr>\n      <th>1</th>\n      <td>NA</td>\n      <td>XSET Cryo</td>\n      <td>#cells</td>\n      <td>Radiant</td>\n      <td>170.3</td>\n      <td>879</td>\n      <td>28.3</td>\n      <td>2</td>\n      <td>122</td>\n      <td>94</td>\n      <td>...</td>\n      <td>Operator</td>\n      <td>8</td>\n      <td>91</td>\n      <td>0</td>\n      <td>226</td>\n      <td>Phantom</td>\n      <td>32</td>\n      <td>63</td>\n      <td>5</td>\n      <td>137</td>\n    </tr>\n    <tr>\n      <th>2</th>\n      <td>NA</td>\n      <td>PuRelittleone</td>\n      <td>#yoruW</td>\n      <td>Radiant</td>\n      <td>147.5</td>\n      <td>720</td>\n      <td>24.0</td>\n      <td>3</td>\n      <td>117</td>\n      <td>59</td>\n      <td>...</td>\n      <td>Phantom</td>\n      <td>36</td>\n      <td>61</td>\n      <td>3</td>\n      <td>231</td>\n      <td>Operator</td>\n      <td>8</td>\n      <td>91</td>\n      <td>1</td>\n      <td>102</td>\n    </tr>\n    <tr>\n      <th>3</th>\n      <td>NA</td>\n      <td>Boba</td>\n      <td>#0068</td>\n      <td>Radiant</td>\n      <td>178.2</td>\n      <td>856</td>\n      <td>37.3</td>\n      <td>3</td>\n      <td>83</td>\n      <td>49</td>\n      <td>...</td>\n      <td>Sheriff</td>\n      <td>48</td>\n      <td>51</td>\n      <td>1</td>\n      <td>48</td>\n      <td>Phantom</td>\n      <td>44</td>\n      <td>56</td>\n      <td>0</td>\n      <td>36</td>\n    </tr>\n    <tr>\n      <th>4</th>\n      <td>NA</td>\n      <td>i love mina</td>\n      <td>#kelly</td>\n      <td>Radiant</td>\n      <td>149.8</td>\n      <td>534</td>\n      <td>24.4</td>\n      <td>2</td>\n      <td>71</td>\n      <td>38</td>\n      <td>...</td>\n      <td>Spectre</td>\n      <td>21</td>\n      <td>71</td>\n      <td>8</td>\n      <td>65</td>\n      <td>Operator</td>\n      <td>8</td>\n      <td>92</td>\n      <td>0</td>\n      <td>64</td>\n    </tr>\n    <tr>\n      <th>...</th>\n      <td>...</td>\n      <td>...</td>\n      <td>...</td>\n      <td>...</td>\n      <td>...</td>\n      <td>...</td>\n      <td>...</td>\n      <td>...</td>\n      <td>...</td>\n      <td>...</td>\n      <td>...</td>\n      <td>...</td>\n      <td>...</td>\n      <td>...</td>\n      <td>...</td>\n      <td>...</td>\n      <td>...</td>\n      <td>...</td>\n      <td>...</td>\n      <td>...</td>\n      <td>...</td>\n    </tr>\n    <tr>\n      <th>85673</th>\n      <td>LAT</td>\n      <td>Kazutora</td>\n      <td>#img0d</td>\n      <td>Radiant</td>\n      <td>138.2</td>\n      <td>342</td>\n      <td>21.4</td>\n      <td>0</td>\n      <td>58</td>\n      <td>54</td>\n      <td>...</td>\n      <td>Vandal</td>\n      <td>28</td>\n      <td>69</td>\n      <td>2</td>\n      <td>175</td>\n      <td>Classic</td>\n      <td>39</td>\n      <td>59</td>\n      <td>2</td>\n      <td>71</td>\n    </tr>\n    <tr>\n      <th>85674</th>\n      <td>LAT</td>\n      <td>el lobo marino</td>\n      <td>#uthur</td>\n      <td>Radiant</td>\n      <td>182.9</td>\n      <td>650</td>\n      <td>30.1</td>\n      <td>4</td>\n      <td>77</td>\n      <td>42</td>\n      <td>...</td>\n      <td>Vandal</td>\n      <td>40</td>\n      <td>57</td>\n      <td>3</td>\n      <td>212</td>\n      <td>Spectre</td>\n      <td>33</td>\n      <td>63</td>\n      <td>5</td>\n      <td>139</td>\n    </tr>\n    <tr>\n      <th>85675</th>\n      <td>LAT</td>\n      <td>p9pzet</td>\n      <td>#666x</td>\n      <td>Radiant</td>\n      <td>158.8</td>\n      <td>613</td>\n      <td>30.2</td>\n      <td>0</td>\n      <td>70</td>\n      <td>54</td>\n      <td>...</td>\n      <td>Phantom</td>\n      <td>40</td>\n      <td>56</td>\n      <td>4</td>\n      <td>159</td>\n      <td>Operator</td>\n      <td>10</td>\n      <td>89</td>\n      <td>1</td>\n      <td>87</td>\n    </tr>\n    <tr>\n      <th>85676</th>\n      <td>LAT</td>\n      <td>EZ4TGD EnSBuwu</td>\n      <td>#kmeve</td>\n      <td>Immortal 3</td>\n      <td>155.9</td>\n      <td>132</td>\n      <td>22.2</td>\n      <td>0</td>\n      <td>23</td>\n      <td>18</td>\n      <td>...</td>\n      <td>Phantom</td>\n      <td>39</td>\n      <td>57</td>\n      <td>3</td>\n      <td>37</td>\n      <td>Spectre</td>\n      <td>27</td>\n      <td>69</td>\n      <td>4</td>\n      <td>17</td>\n    </tr>\n    <tr>\n      <th>85677</th>\n      <td>LAT</td>\n      <td>Neon</td>\n      <td>#SSJ</td>\n      <td>Radiant</td>\n      <td>164.4</td>\n      <td>1127</td>\n      <td>20.7</td>\n      <td>3</td>\n      <td>136</td>\n      <td>82</td>\n      <td>...</td>\n      <td>Operator</td>\n      <td>9</td>\n      <td>88</td>\n      <td>2</td>\n      <td>132</td>\n      <td>Spectre</td>\n      <td>27</td>\n      <td>70</td>\n      <td>2</td>\n      <td>108</td>\n    </tr>\n  </tbody>\n</table>\n<p>84068 rows × 38 columns</p>\n</div>"
     },
     "execution_count": 81,
     "metadata": {},
     "output_type": "execute_result"
    }
   ],
   "source": [
    "# Use loc indexer to avoid SettingWithCopyWarning\n",
    "val_df = val_df.loc[~val_df.duplicated(subset=['name', 'tag'], keep='first')]\n",
    "val_df"
   ]
  },
  {
   "cell_type": "markdown",
   "id": "4e0caca6b6cac498",
   "metadata": {
    "collapsed": false
   },
   "source": [
    "Let's check for duplicate rows again."
   ]
  },
  {
   "cell_type": "code",
   "execution_count": 82,
   "id": "c739684b7c8a24d5",
   "metadata": {
    "collapsed": false,
    "ExecuteTime": {
     "end_time": "2023-10-21T23:24:09.590537800Z",
     "start_time": "2023-10-21T23:24:04.730309700Z"
    }
   },
   "outputs": [
    {
     "data": {
      "text/plain": "Empty DataFrame\nColumns: [region, name, tag, rating, damage_round, headshots, headshot_percent, aces, clutches, flawless, first_bloods, kills, deaths, assists, kd_ratio, kills_round, most_kills, score_round, wins, win_percent, agent_1, agent_2, agent_3, gun1_name, gun1_head, gun1_body, gun1_legs, gun1_kills, gun2_name, gun2_head, gun2_body, gun2_legs, gun2_kills, gun3_name, gun3_head, gun3_body, gun3_legs, gun3_kills]\nIndex: []\n\n[0 rows x 38 columns]",
      "text/html": "<div>\n<style scoped>\n    .dataframe tbody tr th:only-of-type {\n        vertical-align: middle;\n    }\n\n    .dataframe tbody tr th {\n        vertical-align: top;\n    }\n\n    .dataframe thead th {\n        text-align: right;\n    }\n</style>\n<table border=\"1\" class=\"dataframe\">\n  <thead>\n    <tr style=\"text-align: right;\">\n      <th></th>\n      <th>region</th>\n      <th>name</th>\n      <th>tag</th>\n      <th>rating</th>\n      <th>damage_round</th>\n      <th>headshots</th>\n      <th>headshot_percent</th>\n      <th>aces</th>\n      <th>clutches</th>\n      <th>flawless</th>\n      <th>...</th>\n      <th>gun2_name</th>\n      <th>gun2_head</th>\n      <th>gun2_body</th>\n      <th>gun2_legs</th>\n      <th>gun2_kills</th>\n      <th>gun3_name</th>\n      <th>gun3_head</th>\n      <th>gun3_body</th>\n      <th>gun3_legs</th>\n      <th>gun3_kills</th>\n    </tr>\n  </thead>\n  <tbody>\n  </tbody>\n</table>\n<p>0 rows × 38 columns</p>\n</div>"
     },
     "execution_count": 82,
     "metadata": {},
     "output_type": "execute_result"
    }
   ],
   "source": [
    "val_df[val_df.duplicated()]"
   ]
  },
  {
   "cell_type": "markdown",
   "id": "e3dea5174a183017",
   "metadata": {
    "collapsed": false
   },
   "source": [
    "There are no more duplicate rows.\n",
    "\n",
    "After removing duplicate rows, let's check the size of the dataset again."
   ]
  },
  {
   "cell_type": "code",
   "execution_count": 83,
   "id": "12787cc916cd232f",
   "metadata": {
    "collapsed": false,
    "editable": true,
    "slideshow": {
     "slide_type": ""
    },
    "tags": [],
    "ExecuteTime": {
     "end_time": "2023-10-21T23:24:09.591056500Z",
     "start_time": "2023-10-21T23:24:04.897165600Z"
    }
   },
   "outputs": [
    {
     "data": {
      "text/plain": "(84068, 38)"
     },
     "execution_count": 83,
     "metadata": {},
     "output_type": "execute_result"
    }
   ],
   "source": [
    "val_df.shape"
   ]
  },
  {
   "cell_type": "code",
   "execution_count": 84,
   "id": "2d5e7858-bdd9-4f66-9571-b0465617af85",
   "metadata": {
    "ExecuteTime": {
     "end_time": "2023-10-21T23:24:09.591601400Z",
     "start_time": "2023-10-21T23:24:04.907205800Z"
    }
   },
   "outputs": [
    {
     "name": "stdout",
     "output_type": "stream",
     "text": [
      "Has non integer values damage_round: False\n",
      "Has non integer values headshots: False\n",
      "Has non integer values headshot_percent: False\n",
      "Has non integer values aces: False\n",
      "Has non integer values clutches: False\n",
      "Has non integer values flawless: False\n",
      "Has non integer values first_bloods: False\n",
      "Has non integer values kills: False\n",
      "Has non integer values deaths: False\n",
      "Has non integer values assists: False\n",
      "Has non integer values kd_ratio: False\n",
      "Has non integer values kills_round: False\n",
      "Has non integer values most_kills: False\n",
      "Has non integer values kills: False\n",
      "Has non integer values score_round: False\n",
      "Has non integer values wins: False\n",
      "Has non integer values gun1_head: False\n",
      "Has non integer values gun1_body: False\n",
      "Has non integer values gun1_legs: False\n",
      "Has non integer values gun1_kills: False\n",
      "Has non integer values gun2_head: False\n",
      "Has non integer values gun2_body: False\n",
      "Has non integer values gun2_legs: False\n",
      "Has non integer values gun2_kills: False\n",
      "Has non integer values gun3_head: False\n",
      "Has non integer values gun3_body: False\n",
      "Has non integer values gun3_legs: False\n",
      "Has non integer values gun3_kills: False\n"
     ]
    }
   ],
   "source": [
    "def check_nan_or_non_integer(column):\n",
    "    numeric_column = pd.to_numeric(column, errors='coerce')\n",
    "    has_non_integer_values = numeric_column.isna().any()\n",
    "    return has_non_integer_values\n",
    "\n",
    "columns_to_check = ['damage_round', 'headshots', 'headshot_percent', 'aces', 'clutches', 'flawless', 'first_bloods', 'kills', 'deaths', 'assists', 'kd_ratio', 'kills_round', 'most_kills', 'kills', 'score_round', 'wins', 'gun1_head', 'gun1_body', 'gun1_legs', 'gun1_kills', 'gun2_head', 'gun2_body', 'gun2_legs', 'gun2_kills', 'gun3_head', 'gun3_body', 'gun3_legs', 'gun3_kills']\n",
    "\n",
    "for column in columns_to_check:\n",
    "    result = check_nan_or_non_integer(val_df[column])\n",
    "    print(\"Has non integer values \" + f\"{column}: {result}\")\n"
   ]
  },
  {
   "cell_type": "code",
   "execution_count": 85,
   "id": "4f36ea9b-a0c8-4aa7-8f6e-e72a1797363a",
   "metadata": {
    "ExecuteTime": {
     "end_time": "2023-10-21T23:24:09.626321100Z",
     "start_time": "2023-10-21T23:24:04.918765500Z"
    }
   },
   "outputs": [
    {
     "name": "stdout",
     "output_type": "stream",
     "text": [
      "['Radiant', 'Immortal 3', 'Immortal 2', 'Immortal 1', 'Silver 2', 'Gold 2', 'Diamond 3', 'Gold 1', 'Unrated', 'Platinum 1', 'Bronze 3', 'Gold 3', 'Bronze 2', 'Diamond 2', 'Silver 3', 'Silver 1', 'Platinum 2', 'Diamond 1', 'Platinum 3']\n",
      "['Fade', 'Chamber', 'Yoru', 'Jett', 'Sage', 'KAY/O', 'Sova', 'Raze', 'Omen', 'Breach', 'Reyna', 'Neon', 'Skye', 'Viper', 'Brimstone', 'Phoenix', 'Astra', 'Killjoy', 'Cypher']\n",
      "['Viper', 'Jett', 'Chamber', 'Raze', 'Sova', 'Fade', 'Reyna', 'Skye', 'Omen', 'Neon', 'KAY/O', 'Brimstone', nan, 'Sage', 'Cypher', 'Astra', 'Killjoy', 'Breach', 'Yoru', 'Phoenix']\n",
      "['Omen', 'Raze', 'Chamber', 'KAY/O', 'Sova', 'Sage', 'Jett', 'Reyna', 'Viper', 'Neon', 'Fade', nan, 'Skye', 'Brimstone', 'Breach', 'Killjoy', 'Cypher', 'Astra', 'Yoru', 'Phoenix']\n",
      "['Vandal', 'Operator', 'Phantom', 'Judge', 'Odin', 'Guardian', 'Spectre', 'Classic', 'Ghost', 'Sheriff', 'Marshal', 'Shorty', 'Bulldog', 'Ares', 'Frenzy', 'Bucky']\n",
      "['Phantom', 'Operator', 'Sheriff', 'Spectre', 'Vandal', 'Classic', 'Ghost', 'Bulldog', 'Marshal', 'Judge', 'Odin', 'Guardian', 'Frenzy', 'Shorty', 'Bucky', 'Ares', 'Stinger', 'Melee']\n",
      "['Classic', 'Phantom', 'Operator', 'Spectre', 'Sheriff', 'Marshal', 'Ghost', 'Stinger', 'Judge', 'Shorty', 'Frenzy', 'Odin', 'Bulldog', 'Guardian', 'Vandal', 'Ares', 'Bucky', 'Melee']\n"
     ]
    }
   ],
   "source": [
    "print(val_df['rating'].unique().tolist())\n",
    "print(val_df['agent_1'].unique().tolist())\n",
    "print(val_df['agent_2'].unique().tolist())\n",
    "print(val_df['agent_3'].unique().tolist())\n",
    "print(val_df['gun1_name'].unique().tolist())\n",
    "print(val_df['gun2_name'].unique().tolist())\n",
    "print(val_df['gun3_name'].unique().tolist())\n"
   ]
  },
  {
   "cell_type": "markdown",
   "id": "5a3b12ce762d397f",
   "metadata": {
    "collapsed": false
   },
   "source": [
    "## Exploratory Data Analysis"
   ]
  },
  {
   "cell_type": "markdown",
   "source": [
    "## Distribution of Different Variables"
   ],
   "metadata": {
    "collapsed": false
   },
   "id": "8fc691fd16d0b60b"
  },
  {
   "cell_type": "markdown",
   "source": [
    "So now that we are done with pre-processing and data cleaning, let's establish the basic characteristics of the dataset. In total, there are 84,068 observations that contains each player's information and game statistics from **Episode 4: Act 3** (April 2022) of the game **Valorant**. It is also important to note that these observations are from the highest ranked players that attained **Immortal** and **Radiant** rank."
   ],
   "metadata": {
    "collapsed": false
   },
   "id": "6dfb19242e2a0413"
  },
  {
   "cell_type": "markdown",
   "id": "fd45e0dd0be912f6",
   "metadata": {
    "collapsed": false
   },
   "source": [
    "### What is the player percentage by region in the dataset?"
   ]
  },
  {
   "cell_type": "code",
   "execution_count": 86,
   "id": "279284848294834b",
   "metadata": {
    "collapsed": false,
    "ExecuteTime": {
     "end_time": "2023-10-21T23:24:09.626321100Z",
     "start_time": "2023-10-21T23:24:04.947953900Z"
    }
   },
   "outputs": [
    {
     "data": {
      "text/plain": "region\nEU     31901\nNA     20766\nAP     18950\nBR      6920\nLAT     3267\nKR      2264\nName: count, dtype: int64"
     },
     "execution_count": 86,
     "metadata": {},
     "output_type": "execute_result"
    }
   ],
   "source": [
    "region_count = val_df['region'].value_counts()\n",
    "region_count"
   ]
  },
  {
   "cell_type": "code",
   "execution_count": 87,
   "id": "21699e7813a4fc5a",
   "metadata": {
    "collapsed": false,
    "ExecuteTime": {
     "end_time": "2023-10-21T23:24:09.777805500Z",
     "start_time": "2023-10-21T23:24:04.958515900Z"
    }
   },
   "outputs": [
    {
     "data": {
      "text/plain": "<Figure size 500x500 with 1 Axes>",
      "image/png": "[encoded data removed]"
     },
     "metadata": {},
     "output_type": "display_data"
    }
   ],
   "source": [
    "explode = (0.1, 0, 0, 0, 0, 0)\n",
    "\n",
    "plt.figure(figsize=(5, 5)) \n",
    "plt.pie(region_count, labels=region_count.index, autopct='%1.1f%%', startangle=140, explode=explode)\n",
    "plt.title('Player Percentage by Region') \n",
    "\n",
    "plt.show()"
   ]
  },
  {
   "cell_type": "markdown",
   "source": [
    "Diving deeper in the dataset, it could be inferred from the pie chart that majority of the players are from the European Union (EU) region which accounts for 37.9% of the total observations. It is followed by North America (NA), Asia Pacific (AP), Brazil (BR), Latin America (LAT), and lastly, South Korea."
   ],
   "metadata": {
    "collapsed": false
   },
   "id": "b40fa1e74a53b016"
  },
  {
   "cell_type": "markdown",
   "id": "e3d380e4f980475",
   "metadata": {
    "collapsed": false,
    "ExecuteTime": {
     "end_time": "2023-10-20T11:00:45.878968Z",
     "start_time": "2023-10-20T11:00:45.791854Z"
    }
   },
   "source": [
    "### Who is the most played agent?"
   ]
  },
  {
   "cell_type": "markdown",
   "source": [
    "An **agent** refers to playable characters with distinct sets of abilities and play-style. Moreover, understanding the distribution of the top skilled players' most played agent helps us identify those who dominate the highest level of competition."
   ],
   "metadata": {
    "collapsed": false
   },
   "id": "6077006e6ea165aa"
  },
  {
   "cell_type": "code",
   "execution_count": 88,
   "id": "5e837f1ef5d90ab6",
   "metadata": {
    "collapsed": false,
    "ExecuteTime": {
     "end_time": "2023-10-21T23:24:09.802985Z",
     "start_time": "2023-10-21T23:24:05.063648500Z"
    }
   },
   "outputs": [
    {
     "data": {
      "text/plain": "agent_1\nChamber      19168\nJett         11729\nReyna        10992\nRaze          5907\nOmen          5809\nSova          5715\nFade          5309\nSage          5051\nViper         3496\nBrimstone     3356\nKAY/O         1920\nSkye          1742\nNeon          1063\nKilljoy        615\nBreach         586\nYoru           566\nCypher         459\nAstra          451\nPhoenix        134\nName: count, dtype: int64"
     },
     "execution_count": 88,
     "metadata": {},
     "output_type": "execute_result"
    }
   ],
   "source": [
    "agent_count_df = val_df['agent_1'].value_counts()\n",
    "agent_count_df"
   ]
  },
  {
   "cell_type": "code",
   "execution_count": 89,
   "id": "59804121363b3e5f",
   "metadata": {
    "collapsed": false,
    "ExecuteTime": {
     "end_time": "2023-10-21T23:24:10.130861500Z",
     "start_time": "2023-10-21T23:24:05.084269Z"
    }
   },
   "outputs": [
    {
     "data": {
      "text/plain": "Text(0.5, 1.0, 'Player count per agent')"
     },
     "execution_count": 89,
     "metadata": {},
     "output_type": "execute_result"
    },
    {
     "data": {
      "text/plain": "<Figure size 600x700 with 1 Axes>",
      "image/png": "[encoded data removed]"
     },
     "metadata": {},
     "output_type": "display_data"
    }
   ],
   "source": [
    "agent_count_df.plot.barh(figsize=(6,7)).invert_yaxis()\n",
    "plt.xlabel('Count')\n",
    "plt.ylabel('Agent Name')\n",
    "plt.title('Player count per agent')"
   ]
  },
  {
   "cell_type": "markdown",
   "source": [
    "As observed in the bar plot, **Chamber** fits the criteria with 19,168 players consider him as their most picked agent. On the other side of the graph, **Phoenix** is the least picked agent only accounting for 134 players."
   ],
   "metadata": {
    "collapsed": false
   },
   "id": "b73bf5181565f80b"
  },
  {
   "cell_type": "markdown",
   "id": "d098b856237c20a",
   "metadata": {
    "collapsed": false,
    "ExecuteTime": {
     "end_time": "2023-10-20T10:59:01.825551Z",
     "start_time": "2023-10-20T10:59:01.676241Z"
    }
   },
   "source": [
    "### What is the most used gun?\n"
   ]
  },
  {
   "cell_type": "markdown",
   "source": [
    "A **gun** refers to a firearm and weapon available for players to use during matches. Furthermore, understanding the preferences of the top players help grasp the game's overall meta."
   ],
   "metadata": {
    "collapsed": false
   },
   "id": "aa73c6d4a6147fe8"
  },
  {
   "cell_type": "code",
   "execution_count": 90,
   "id": "4ba82dea67cbaa7d",
   "metadata": {
    "collapsed": false,
    "ExecuteTime": {
     "end_time": "2023-10-21T23:24:10.131863200Z",
     "start_time": "2023-10-21T23:24:05.424838900Z"
    }
   },
   "outputs": [
    {
     "data": {
      "text/plain": "gun1_name\nVandal      72452\nPhantom     10930\nOperator      407\nJudge          85\nOdin           62\nSpectre        45\nSheriff        24\nGuardian       18\nGhost          16\nClassic         8\nFrenzy          7\nMarshal         3\nShorty          3\nBulldog         3\nAres            3\nBucky           2\nName: count, dtype: int64"
     },
     "execution_count": 90,
     "metadata": {},
     "output_type": "execute_result"
    }
   ],
   "source": [
    "gun_count_df = val_df['gun1_name'].value_counts()\n",
    "gun_count_df"
   ]
  },
  {
   "cell_type": "code",
   "execution_count": 91,
   "id": "90bfc4d58a1afd29",
   "metadata": {
    "collapsed": false,
    "ExecuteTime": {
     "end_time": "2023-10-21T23:24:10.493116500Z",
     "start_time": "2023-10-21T23:24:05.464077900Z"
    }
   },
   "outputs": [
    {
     "data": {
      "text/plain": "Text(0.5, 1.0, 'Gun count per player')"
     },
     "execution_count": 91,
     "metadata": {},
     "output_type": "execute_result"
    },
    {
     "data": {
      "text/plain": "<Figure size 600x700 with 1 Axes>",
      "image/png": "[encoded data removed]"
     },
     "metadata": {},
     "output_type": "display_data"
    }
   ],
   "source": [
    "gun_count_df.plot.barh(figsize=(6,7)).invert_yaxis()\n",
    "plt.xlabel('Count')\n",
    "plt.ylabel('Gun Name')\n",
    "plt.title('Gun count per player')"
   ]
  },
  {
   "cell_type": "markdown",
   "id": "6b1028d77d9f8c5c",
   "metadata": {
    "collapsed": false,
    "ExecuteTime": {
     "end_time": "2023-10-20T12:25:56.958787Z",
     "start_time": "2023-10-20T12:25:56.790983Z"
    }
   },
   "source": [
    "It could be observed that the **Vandal** is the most used gun with 72,452 players having it as their top choice. It is followed by the **Phantom** with a 10,930 player count. However, these two guns greatly skewed the bar plot, which limits us in seeing the order for the least popular guns."
   ]
  },
  {
   "cell_type": "code",
   "execution_count": 92,
   "id": "57baae2f1eeccaf5",
   "metadata": {
    "collapsed": false,
    "ExecuteTime": {
     "end_time": "2023-10-21T23:24:10.703196400Z",
     "start_time": "2023-10-21T23:24:05.742698600Z"
    }
   },
   "outputs": [
    {
     "data": {
      "text/plain": "Text(0.5, 1.0, 'Gun count per player')"
     },
     "execution_count": 92,
     "metadata": {},
     "output_type": "execute_result"
    },
    {
     "data": {
      "text/plain": "<Figure size 600x700 with 1 Axes>",
      "image/png": "[encoded data removed]"
     },
     "metadata": {},
     "output_type": "display_data"
    }
   ],
   "source": [
    "log_gun_count = np.log(gun_count_df)\n",
    "log_gun_count.plot.barh(figsize=(6,7)).invert_yaxis()\n",
    "plt.xlabel('Log(count)')\n",
    "plt.ylabel('Gun Name')\n",
    "plt.title('Gun count per player')"
   ]
  },
  {
   "cell_type": "markdown",
   "source": [
    "We applied log transformation to reduce the effect of extremely high values while preserving the order. With this, the bar plot now shows the order of popularity for other guns."
   ],
   "metadata": {
    "collapsed": false
   },
   "id": "6721a031432dcf86"
  },
  {
   "cell_type": "markdown",
   "id": "1ac1ea3d5826739c",
   "metadata": {
    "collapsed": false,
    "ExecuteTime": {
     "end_time": "2023-10-20T12:21:00.761767Z",
     "start_time": "2023-10-20T12:21:00.423333Z"
    }
   },
   "source": [
    "### What is the average damage per round?"
   ]
  },
  {
   "cell_type": "markdown",
   "source": [
    "Computing for the **average damage per round** of a top-ranked player contributes to contextualizing their skill level."
   ],
   "metadata": {
    "collapsed": false
   },
   "id": "95f3d86f4a74bb8"
  },
  {
   "cell_type": "code",
   "execution_count": 93,
   "id": "94b85e78b6632178",
   "metadata": {
    "collapsed": false,
    "ExecuteTime": {
     "end_time": "2023-10-21T23:24:10.703196400Z",
     "start_time": "2023-10-21T23:24:06.028152300Z"
    }
   },
   "outputs": [],
   "source": [
    "agg = val_df.agg({\"damage_round\": [\"mean\", \"median\", \"std\"]})"
   ]
  },
  {
   "cell_type": "code",
   "execution_count": 94,
   "outputs": [],
   "source": [
    "mean = agg.loc[\"mean\"][0]\n",
    "median = agg.loc[\"median\"][0]\n",
    "mode = val_df['damage_round'].round(2).mode()\n",
    "std = agg.loc[\"std\"][0]"
   ],
   "metadata": {
    "collapsed": false,
    "ExecuteTime": {
     "end_time": "2023-10-21T23:24:10.703196400Z",
     "start_time": "2023-10-21T23:24:06.034184800Z"
    }
   },
   "id": "506063373efa63f8"
  },
  {
   "cell_type": "code",
   "execution_count": 95,
   "outputs": [
    {
     "name": "stdout",
     "output_type": "stream",
     "text": [
      "Mean: 142.83\n",
      "Median: 142.00\n",
      "Mode:  141.8, 143.8\n",
      "Standard Deviation: 16.48\n"
     ]
    }
   ],
   "source": [
    "print('Mean: {:.2f}'.format(mean))\n",
    "print('Median: {:.2f}'.format(median))\n",
    "print('Mode: ', ', '.join(map(str, mode)))\n",
    "print('Standard Deviation: {:.2f}'.format(std))"
   ],
   "metadata": {
    "collapsed": false,
    "ExecuteTime": {
     "end_time": "2023-10-21T23:24:10.703196400Z",
     "start_time": "2023-10-21T23:24:06.048251Z"
    }
   },
   "id": "4f9e737bf247b2da"
  },
  {
   "cell_type": "markdown",
   "source": [
    "The measure of central tendency posits that they average about 142.83 damage per round with a 16.48 standard deviation. As all agents have a base health amount of 100 health points (increased by shields up to 50), this implies that they eliminate a full HP agent roughly once per round."
   ],
   "metadata": {
    "collapsed": false
   },
   "id": "b96ac71bb53d931"
  },
  {
   "cell_type": "code",
   "execution_count": 96,
   "id": "2681d8e28df93b0",
   "metadata": {
    "collapsed": false,
    "ExecuteTime": {
     "end_time": "2023-10-21T23:24:10.704611300Z",
     "start_time": "2023-10-21T23:24:06.054846700Z"
    }
   },
   "outputs": [
    {
     "data": {
      "text/plain": "<Figure size 800x400 with 1 Axes>",
      "image/png": "[encoded data removed]"
     },
     "metadata": {},
     "output_type": "display_data"
    }
   ],
   "source": [
    "val_df.hist(\"damage_round\", bins=100, edgecolor='w', figsize=(8, 4))\n",
    "plt.show()"
   ]
  },
  {
   "cell_type": "markdown",
   "source": [
    "We could observe a symmetrical distribution of **average damage per round** since the mean, median, and mode are relatively equal, and the histogram exhibits general balance."
   ],
   "metadata": {
    "collapsed": false
   },
   "id": "c3b84102fcb04df9"
  },
  {
   "cell_type": "markdown",
   "id": "66c66c74f0e3b1b",
   "metadata": {
    "collapsed": false,
    "ExecuteTime": {
     "end_time": "2023-10-20T12:21:00.937761Z",
     "start_time": "2023-10-20T12:21:00.606078Z"
    }
   },
   "source": [
    "### What is the average headshot percentage?"
   ]
  },
  {
   "cell_type": "markdown",
   "source": [
    "**Headshot percentage** is a key statistic in Valorant, for it generally reflects a player's accuracy and aiming skill. Therefore, it is a suitable variable to explore in understanding the observations."
   ],
   "metadata": {
    "collapsed": false
   },
   "id": "44cbaf28d68fbf2"
  },
  {
   "cell_type": "code",
   "execution_count": 97,
   "outputs": [],
   "source": [
    "agg = val_df.agg({\"headshot_percent\": [\"mean\", \"median\", \"std\"]})"
   ],
   "metadata": {
    "collapsed": false,
    "ExecuteTime": {
     "end_time": "2023-10-21T23:24:10.704611300Z",
     "start_time": "2023-10-21T23:24:06.361737800Z"
    }
   },
   "id": "167da75bec82f22c"
  },
  {
   "cell_type": "code",
   "execution_count": 98,
   "outputs": [],
   "source": [
    "mean = agg.loc[\"mean\"][0]\n",
    "median = agg.loc[\"median\"][0]\n",
    "std = agg.loc[\"std\"][0]\n",
    "mode = val_df['headshot_percent'].round(2).mode()"
   ],
   "metadata": {
    "collapsed": false,
    "ExecuteTime": {
     "end_time": "2023-10-21T23:24:10.704611300Z",
     "start_time": "2023-10-21T23:24:06.372887600Z"
    }
   },
   "id": "87c23d91f67d7248"
  },
  {
   "cell_type": "code",
   "execution_count": 99,
   "id": "8c372fe512f961f6",
   "metadata": {
    "collapsed": false,
    "ExecuteTime": {
     "end_time": "2023-10-21T23:24:10.704611300Z",
     "start_time": "2023-10-21T23:24:06.384896500Z"
    }
   },
   "outputs": [
    {
     "name": "stdout",
     "output_type": "stream",
     "text": [
      "Mean: 23.60\n",
      "Median: 23.30\n",
      "Mode: 22.6\n",
      "Standard Deviation: 5.19\n"
     ]
    }
   ],
   "source": [
    "print('Mean: {:.2f}'.format(mean))\n",
    "print('Median: {:.2f}'.format(median))\n",
    "print('Mode:', ', '.join(map(str, mode)))\n",
    "print('Standard Deviation: {:.2f}'.format(std))"
   ]
  },
  {
   "cell_type": "markdown",
   "source": [
    "The measure of central tendency posits that highly ranked players average about 23.60% **headshot percentage** with a 5.19% standard deviation."
   ],
   "metadata": {
    "collapsed": false
   },
   "id": "82f96fcf1fe2d8ad"
  },
  {
   "cell_type": "code",
   "execution_count": 100,
   "id": "c9eabbf27b10f645",
   "metadata": {
    "collapsed": false,
    "ExecuteTime": {
     "end_time": "2023-10-21T23:24:10.705635500Z",
     "start_time": "2023-10-21T23:24:06.391547100Z"
    }
   },
   "outputs": [
    {
     "data": {
      "text/plain": "<Figure size 800x400 with 1 Axes>",
      "image/png": "[encoded data removed]"
     },
     "metadata": {},
     "output_type": "display_data"
    }
   ],
   "source": [
    "val_df.hist(\"headshot_percent\", bins=100, edgecolor='w', figsize=(8, 4))\n",
    "plt.show()"
   ]
  },
  {
   "cell_type": "markdown",
   "source": [],
   "metadata": {
    "collapsed": false
   },
   "id": "a8923b3f0fe8b1c7"
  },
  {
   "cell_type": "markdown",
   "source": [
    "We could also observe a symmetrical distribution of **headshot percentage** since the mean, median, and mode are relatively equal, and the histogram exhibits general balance."
   ],
   "metadata": {
    "collapsed": false
   },
   "id": "ff8376bf0f7f7b09"
  },
  {
   "cell_type": "markdown",
   "source": [
    "### What is the average win percentage?"
   ],
   "metadata": {
    "collapsed": false
   },
   "id": "d396df6cf0df5fac"
  },
  {
   "cell_type": "markdown",
   "source": [
    "**Win-percentage** indicates the total number of matches won relative to toal number of matches played."
   ],
   "metadata": {
    "collapsed": false
   },
   "id": "4af2fca3cdaef18b"
  },
  {
   "cell_type": "code",
   "execution_count": 101,
   "outputs": [],
   "source": [
    "agg = val_df.agg({\"win_percent\": [\"mean\", \"median\", \"std\"]})"
   ],
   "metadata": {
    "collapsed": false,
    "ExecuteTime": {
     "end_time": "2023-10-21T23:24:10.705635500Z",
     "start_time": "2023-10-21T23:24:06.816917700Z"
    }
   },
   "id": "c666cc053e9ecd6a"
  },
  {
   "cell_type": "code",
   "execution_count": 102,
   "outputs": [],
   "source": [
    "mean = agg.loc[\"mean\"][0]\n",
    "median = agg.loc[\"median\"][0]\n",
    "std = agg.loc[\"std\"][0]\n",
    "mode = val_df['win_percent'].round(2).mode()"
   ],
   "metadata": {
    "collapsed": false,
    "ExecuteTime": {
     "end_time": "2023-10-21T23:24:10.705635500Z",
     "start_time": "2023-10-21T23:24:06.824952200Z"
    }
   },
   "id": "ca0c15aa5701bb0b"
  },
  {
   "cell_type": "code",
   "execution_count": 103,
   "outputs": [
    {
     "name": "stdout",
     "output_type": "stream",
     "text": [
      "Mean: 53.89\n",
      "Median: 52.90\n",
      "Mode: 50.0\n",
      "Standard Deviation: 11.38\n"
     ]
    }
   ],
   "source": [
    "print('Mean: {:.2f}'.format(mean))\n",
    "print('Median: {:.2f}'.format(median))\n",
    "print('Mode:', ', '.join(map(str, mode)))\n",
    "print('Standard Deviation: {:.2f}'.format(std))"
   ],
   "metadata": {
    "collapsed": false,
    "ExecuteTime": {
     "end_time": "2023-10-21T23:24:10.706670400Z",
     "start_time": "2023-10-21T23:24:06.835469900Z"
    }
   },
   "id": "e11edef90ba7a96e"
  },
  {
   "cell_type": "markdown",
   "source": [
    "The measure of central tendency indicates that players with high rankings, on average, have a winning percentage of 53.89%, with standard deviation of 11.38%."
   ],
   "metadata": {
    "collapsed": false
   },
   "id": "e5e83e8fb1d6d762"
  },
  {
   "cell_type": "code",
   "execution_count": 104,
   "outputs": [
    {
     "data": {
      "text/plain": "<Figure size 800x400 with 1 Axes>",
      "image/png": "[encoded data removed]"
     },
     "metadata": {},
     "output_type": "display_data"
    }
   ],
   "source": [
    "val_df.hist(\"win_percent\", bins=100, edgecolor='w', figsize=(8, 4))\n",
    "plt.show()"
   ],
   "metadata": {
    "collapsed": false,
    "ExecuteTime": {
     "end_time": "2023-10-21T23:24:10.706670400Z",
     "start_time": "2023-10-21T23:24:06.841528Z"
    }
   },
   "id": "be8b282558d5da21"
  },
  {
   "cell_type": "markdown",
   "source": [
    "The distribution is approximately symmetrical with slight positive skew indicated by the mean being a bit larger than median and mode. "
   ],
   "metadata": {
    "collapsed": false
   },
   "id": "83f44696834f73d7"
  },
  {
   "cell_type": "markdown",
   "id": "ed065458bff69ff0",
   "metadata": {
    "collapsed": false,
    "ExecuteTime": {
     "end_time": "2023-10-20T12:21:01.364787Z",
     "start_time": "2023-10-20T12:21:00.781353Z"
    }
   },
   "source": [
    "### What is the average kill-death ratio?"
   ]
  },
  {
   "cell_type": "markdown",
   "source": [
    "The **kill-death ratio** is a measure of a player's performance in terms of kills and deaths. It provides insights into a player’s ability to eliminate opponents relative to how often they are eliminated.\n"
   ],
   "metadata": {
    "collapsed": false
   },
   "id": "1ce28456343f6090"
  },
  {
   "cell_type": "code",
   "execution_count": 105,
   "outputs": [],
   "source": [
    "agg = val_df.agg({\"kd_ratio\": [\"mean\", \"median\", \"std\"]})"
   ],
   "metadata": {
    "collapsed": false,
    "ExecuteTime": {
     "end_time": "2023-10-21T23:24:10.706670400Z",
     "start_time": "2023-10-21T23:24:07.106372900Z"
    }
   },
   "id": "1fca7cd826bcb35f"
  },
  {
   "cell_type": "code",
   "execution_count": 106,
   "outputs": [],
   "source": [
    "mean = agg.loc[\"mean\"][0]\n",
    "median = agg.loc[\"median\"][0]\n",
    "std = agg.loc[\"std\"][0]\n",
    "mode = val_df['kd_ratio'].round(2).mode()"
   ],
   "metadata": {
    "collapsed": false,
    "ExecuteTime": {
     "end_time": "2023-10-21T23:24:10.706670400Z",
     "start_time": "2023-10-21T23:24:07.115439500Z"
    }
   },
   "id": "4e74e660daded67b"
  },
  {
   "cell_type": "code",
   "execution_count": 107,
   "id": "5a9c3eeb28515a66",
   "metadata": {
    "collapsed": false,
    "ExecuteTime": {
     "end_time": "2023-10-21T23:24:10.707648600Z",
     "start_time": "2023-10-21T23:24:07.124532800Z"
    }
   },
   "outputs": [
    {
     "name": "stdout",
     "output_type": "stream",
     "text": [
      "Mean: 1.05\n",
      "Median: 1.04\n",
      "Mode: 1.03\n",
      "Standard Deviation: 0.16\n"
     ]
    }
   ],
   "source": [
    "print('Mean: {:.2f}'.format(mean))\n",
    "print('Median: {:.2f}'.format(median))\n",
    "print('Mode:', ', '.join(map(str, mode)))\n",
    "print('Standard Deviation: {:.2f}'.format(std))"
   ]
  },
  {
   "cell_type": "markdown",
   "source": [
    "The measure of central tendency posits that, on average, highly ranked players score 1.05 kills for every death, with a 0.16 standard deviation. "
   ],
   "metadata": {
    "collapsed": false
   },
   "id": "1ba14f0af70ea583"
  },
  {
   "cell_type": "code",
   "execution_count": 108,
   "id": "8107d695ebaeeafc",
   "metadata": {
    "collapsed": false,
    "ExecuteTime": {
     "end_time": "2023-10-21T23:24:10.707648600Z",
     "start_time": "2023-10-21T23:24:07.132045600Z"
    }
   },
   "outputs": [
    {
     "data": {
      "text/plain": "<Figure size 800x400 with 1 Axes>",
      "image/png": "[encoded data removed]"
     },
     "metadata": {},
     "output_type": "display_data"
    }
   ],
   "source": [
    "val_df.hist(\"kd_ratio\", bins=100, edgecolor='w', figsize=(8, 4))\n",
    "plt.show()"
   ]
  },
  {
   "cell_type": "markdown",
   "source": [
    "We could also observe a symmetrical distribution of **kill-death ratio** since the mean, median, and mode are relatively equal, and the histogram exhibits general balance."
   ],
   "metadata": {
    "collapsed": false
   },
   "id": "94112df6eac4e99f"
  },
  {
   "cell_type": "markdown",
   "source": [
    "### What is the average number of assists?"
   ],
   "metadata": {
    "collapsed": false,
    "ExecuteTime": {
     "end_time": "2023-10-20T12:21:01.696475Z",
     "start_time": "2023-10-20T12:21:01.106052Z"
    }
   },
   "id": "9f5b761ea1db3a92"
  },
  {
   "cell_type": "markdown",
   "source": [
    "**Assists** refer to the number of times the player has helped damage an opponent shortly before it is eliminated by a teammate. "
   ],
   "metadata": {
    "collapsed": false
   },
   "id": "23573bd3231e1faa"
  },
  {
   "cell_type": "code",
   "execution_count": 109,
   "outputs": [],
   "source": [
    "agg = val_df.agg({\"assists\": [\"mean\", \"median\", \"std\"]})"
   ],
   "metadata": {
    "collapsed": false,
    "ExecuteTime": {
     "end_time": "2023-10-21T23:24:10.707648600Z",
     "start_time": "2023-10-21T23:24:07.446366200Z"
    }
   },
   "id": "e1d16f68eed0edca"
  },
  {
   "cell_type": "code",
   "execution_count": 110,
   "outputs": [],
   "source": [
    "mean = agg.loc[\"mean\"][0]\n",
    "median = agg.loc[\"median\"][0]\n",
    "std = agg.loc[\"std\"][0]\n",
    "mode = val_df['assists'].round(2).mode()"
   ],
   "metadata": {
    "collapsed": false,
    "ExecuteTime": {
     "end_time": "2023-10-21T23:24:10.707648600Z",
     "start_time": "2023-10-21T23:24:07.454422800Z"
    }
   },
   "id": "f091b9d1bf78ef50"
  },
  {
   "cell_type": "code",
   "execution_count": 111,
   "outputs": [
    {
     "name": "stdout",
     "output_type": "stream",
     "text": [
      "Mean: 232.61\n",
      "Median: 187.00\n",
      "Mode: 100\n",
      "Standard Deviation: 189.85\n"
     ]
    }
   ],
   "source": [
    "print('Mean: {:.2f}'.format(mean))\n",
    "print('Median: {:.2f}'.format(median))\n",
    "print('Mode:', ', '.join(map(str, mode)))\n",
    "print('Standard Deviation: {:.2f}'.format(std))"
   ],
   "metadata": {
    "collapsed": false,
    "ExecuteTime": {
     "end_time": "2023-10-21T23:24:10.709647200Z",
     "start_time": "2023-10-21T23:24:07.464456800Z"
    }
   },
   "id": "e347eadffc535e41"
  },
  {
   "cell_type": "markdown",
   "source": [
    "The measure of central tendency implies that the mean of the distribution is 232.61 assists. However, the positive skewness of the data indicated by higher mean than median and mode, posits the usage of mode as a better way to gauge the center. Thus, it could be said that highly ranked players average on 187 assists."
   ],
   "metadata": {
    "collapsed": false
   },
   "id": "861de97c0e169b12"
  },
  {
   "cell_type": "code",
   "execution_count": 112,
   "outputs": [
    {
     "data": {
      "text/plain": "<Figure size 800x400 with 1 Axes>",
      "image/png": "[encoded data removed]"
     },
     "metadata": {},
     "output_type": "display_data"
    }
   ],
   "source": [
    "val_df.hist(\"assists\", bins=100, edgecolor='w', figsize=(8, 4))\n",
    "plt.show()"
   ],
   "metadata": {
    "collapsed": false,
    "ExecuteTime": {
     "end_time": "2023-10-21T23:24:12.059104Z",
     "start_time": "2023-10-21T23:24:07.471512Z"
    }
   },
   "id": "55dc0619054df965"
  },
  {
   "cell_type": "markdown",
   "source": [
    "The histogram shows a distribution that is positively skewed and has a notable presence of outliers on the higher end of the data set."
   ],
   "metadata": {
    "collapsed": false
   },
   "id": "6d37911ca41c1d8c"
  },
  {
   "cell_type": "markdown",
   "source": [
    "## Presence of Outliers\n",
    "- Before I start with the analysis, I would like to define what an outlier is. An outlier is a data point that differs significantly from other observations. It is important to identify outliers because they can affect the results of the analysis.\n"
   ],
   "metadata": {
    "collapsed": false
   },
   "id": "7438e2314e59510d"
  },
  {
   "cell_type": "markdown",
   "source": [
    "- The first thing I will do is use the describe function to get the summary statistics of the dataset."
   ],
   "metadata": {
    "collapsed": false
   },
   "id": "bbbb08c795023f1c"
  },
  {
   "cell_type": "code",
   "execution_count": 113,
   "outputs": [
    {
     "data": {
      "text/plain": "       damage_round     headshots  headshot_percent          aces  \\\ncount  84068.000000  84068.000000      84068.000000  84068.000000   \nmean     142.827201    457.681044         23.601799      1.057477   \nstd       16.482035    371.632193          5.191078      1.491919   \nmin        0.000000      0.000000          0.000000      0.000000   \n25%      132.800000    184.750000         20.000000      0.000000   \n50%      142.000000    366.000000         23.300000      1.000000   \n75%      151.800000    630.000000         26.800000      2.000000   \nmax      340.600000   5261.000000         83.300000     24.000000   \n\n           clutches      flawless  first_bloods         kills        deaths  \\\ncount  84068.000000  84068.000000  84068.000000  84068.000000  84068.000000   \nmean      66.225984     39.050328    100.533425    721.844899    689.873579   \nstd       53.050587     31.037088     90.974466    573.736230    547.917946   \nmin        0.000000      0.000000      0.000000      0.000000      3.000000   \n25%       27.000000     16.000000     36.000000    296.000000    283.000000   \n50%       54.000000     32.000000     75.000000    587.000000    561.000000   \n75%       92.000000     55.000000    137.000000    999.000000    955.000000   \nmax      488.000000    316.000000   1296.000000   6016.000000   5048.000000   \n\n            assists  ...     gun1_legs    gun1_kills     gun2_head  \\\ncount  84068.000000  ...  84068.000000  84068.000000  84068.000000   \nmean     232.612219  ...      4.418816    345.375910     30.465540   \nstd      189.854636  ...      2.070880    287.725503     12.511904   \nmin        0.000000  ...      0.000000      0.000000      0.000000   \n25%       93.000000  ...      3.000000    137.000000     24.000000   \n50%      187.000000  ...      4.000000    272.000000     30.000000   \n75%      322.000000  ...      5.000000    472.000000     37.000000   \nmax     1932.000000  ...     50.000000   3845.000000    100.000000   \n\n          gun2_body     gun2_legs    gun2_kills     gun3_head     gun3_body  \\\ncount  84068.000000  84068.000000  84068.000000  84068.000000  84068.000000   \nmean      64.981194      4.513953    116.536268     30.645894     64.854368   \nstd       12.272346      3.289087    110.669568     15.912406     15.431870   \nmin        0.000000      0.000000      0.000000      0.000000      0.000000   \n25%       59.000000      2.000000     40.000000     20.000000     57.000000   \n50%       65.000000      4.000000     84.000000     28.000000     67.000000   \n75%       71.000000      6.000000    158.000000     40.000000     73.000000   \nmax      100.000000    100.000000   1279.000000    100.000000    100.000000   \n\n          gun3_legs    gun3_kills  \ncount  84068.000000  84068.000000  \nmean       4.310915     59.312890  \nstd        4.083850     51.197876  \nmin        0.000000      0.000000  \n25%        1.000000     23.000000  \n50%        4.000000     46.000000  \n75%        6.000000     81.000000  \nmax      100.000000    650.000000  \n\n[8 rows x 28 columns]",
      "text/html": "<div>\n<style scoped>\n    .dataframe tbody tr th:only-of-type {\n        vertical-align: middle;\n    }\n\n    .dataframe tbody tr th {\n        vertical-align: top;\n    }\n\n    .dataframe thead th {\n        text-align: right;\n    }\n</style>\n<table border=\"1\" class=\"dataframe\">\n  <thead>\n    <tr style=\"text-align: right;\">\n      <th></th>\n      <th>damage_round</th>\n      <th>headshots</th>\n      <th>headshot_percent</th>\n      <th>aces</th>\n      <th>clutches</th>\n      <th>flawless</th>\n      <th>first_bloods</th>\n      <th>kills</th>\n      <th>deaths</th>\n      <th>assists</th>\n      <th>...</th>\n      <th>gun1_legs</th>\n      <th>gun1_kills</th>\n      <th>gun2_head</th>\n      <th>gun2_body</th>\n      <th>gun2_legs</th>\n      <th>gun2_kills</th>\n      <th>gun3_head</th>\n      <th>gun3_body</th>\n      <th>gun3_legs</th>\n      <th>gun3_kills</th>\n    </tr>\n  </thead>\n  <tbody>\n    <tr>\n      <th>count</th>\n      <td>84068.000000</td>\n      <td>84068.000000</td>\n      <td>84068.000000</td>\n      <td>84068.000000</td>\n      <td>84068.000000</td>\n      <td>84068.000000</td>\n      <td>84068.000000</td>\n      <td>84068.000000</td>\n      <td>84068.000000</td>\n      <td>84068.000000</td>\n      <td>...</td>\n      <td>84068.000000</td>\n      <td>84068.000000</td>\n      <td>84068.000000</td>\n      <td>84068.000000</td>\n      <td>84068.000000</td>\n      <td>84068.000000</td>\n      <td>84068.000000</td>\n      <td>84068.000000</td>\n      <td>84068.000000</td>\n      <td>84068.000000</td>\n    </tr>\n    <tr>\n      <th>mean</th>\n      <td>142.827201</td>\n      <td>457.681044</td>\n      <td>23.601799</td>\n      <td>1.057477</td>\n      <td>66.225984</td>\n      <td>39.050328</td>\n      <td>100.533425</td>\n      <td>721.844899</td>\n      <td>689.873579</td>\n      <td>232.612219</td>\n      <td>...</td>\n      <td>4.418816</td>\n      <td>345.375910</td>\n      <td>30.465540</td>\n      <td>64.981194</td>\n      <td>4.513953</td>\n      <td>116.536268</td>\n      <td>30.645894</td>\n      <td>64.854368</td>\n      <td>4.310915</td>\n      <td>59.312890</td>\n    </tr>\n    <tr>\n      <th>std</th>\n      <td>16.482035</td>\n      <td>371.632193</td>\n      <td>5.191078</td>\n      <td>1.491919</td>\n      <td>53.050587</td>\n      <td>31.037088</td>\n      <td>90.974466</td>\n      <td>573.736230</td>\n      <td>547.917946</td>\n      <td>189.854636</td>\n      <td>...</td>\n      <td>2.070880</td>\n      <td>287.725503</td>\n      <td>12.511904</td>\n      <td>12.272346</td>\n      <td>3.289087</td>\n      <td>110.669568</td>\n      <td>15.912406</td>\n      <td>15.431870</td>\n      <td>4.083850</td>\n      <td>51.197876</td>\n    </tr>\n    <tr>\n      <th>min</th>\n      <td>0.000000</td>\n      <td>0.000000</td>\n      <td>0.000000</td>\n      <td>0.000000</td>\n      <td>0.000000</td>\n      <td>0.000000</td>\n      <td>0.000000</td>\n      <td>0.000000</td>\n      <td>3.000000</td>\n      <td>0.000000</td>\n      <td>...</td>\n      <td>0.000000</td>\n      <td>0.000000</td>\n      <td>0.000000</td>\n      <td>0.000000</td>\n      <td>0.000000</td>\n      <td>0.000000</td>\n      <td>0.000000</td>\n      <td>0.000000</td>\n      <td>0.000000</td>\n      <td>0.000000</td>\n    </tr>\n    <tr>\n      <th>25%</th>\n      <td>132.800000</td>\n      <td>184.750000</td>\n      <td>20.000000</td>\n      <td>0.000000</td>\n      <td>27.000000</td>\n      <td>16.000000</td>\n      <td>36.000000</td>\n      <td>296.000000</td>\n      <td>283.000000</td>\n      <td>93.000000</td>\n      <td>...</td>\n      <td>3.000000</td>\n      <td>137.000000</td>\n      <td>24.000000</td>\n      <td>59.000000</td>\n      <td>2.000000</td>\n      <td>40.000000</td>\n      <td>20.000000</td>\n      <td>57.000000</td>\n      <td>1.000000</td>\n      <td>23.000000</td>\n    </tr>\n    <tr>\n      <th>50%</th>\n      <td>142.000000</td>\n      <td>366.000000</td>\n      <td>23.300000</td>\n      <td>1.000000</td>\n      <td>54.000000</td>\n      <td>32.000000</td>\n      <td>75.000000</td>\n      <td>587.000000</td>\n      <td>561.000000</td>\n      <td>187.000000</td>\n      <td>...</td>\n      <td>4.000000</td>\n      <td>272.000000</td>\n      <td>30.000000</td>\n      <td>65.000000</td>\n      <td>4.000000</td>\n      <td>84.000000</td>\n      <td>28.000000</td>\n      <td>67.000000</td>\n      <td>4.000000</td>\n      <td>46.000000</td>\n    </tr>\n    <tr>\n      <th>75%</th>\n      <td>151.800000</td>\n      <td>630.000000</td>\n      <td>26.800000</td>\n      <td>2.000000</td>\n      <td>92.000000</td>\n      <td>55.000000</td>\n      <td>137.000000</td>\n      <td>999.000000</td>\n      <td>955.000000</td>\n      <td>322.000000</td>\n      <td>...</td>\n      <td>5.000000</td>\n      <td>472.000000</td>\n      <td>37.000000</td>\n      <td>71.000000</td>\n      <td>6.000000</td>\n      <td>158.000000</td>\n      <td>40.000000</td>\n      <td>73.000000</td>\n      <td>6.000000</td>\n      <td>81.000000</td>\n    </tr>\n    <tr>\n      <th>max</th>\n      <td>340.600000</td>\n      <td>5261.000000</td>\n      <td>83.300000</td>\n      <td>24.000000</td>\n      <td>488.000000</td>\n      <td>316.000000</td>\n      <td>1296.000000</td>\n      <td>6016.000000</td>\n      <td>5048.000000</td>\n      <td>1932.000000</td>\n      <td>...</td>\n      <td>50.000000</td>\n      <td>3845.000000</td>\n      <td>100.000000</td>\n      <td>100.000000</td>\n      <td>100.000000</td>\n      <td>1279.000000</td>\n      <td>100.000000</td>\n      <td>100.000000</td>\n      <td>100.000000</td>\n      <td>650.000000</td>\n    </tr>\n  </tbody>\n</table>\n<p>8 rows × 28 columns</p>\n</div>"
     },
     "execution_count": 113,
     "metadata": {},
     "output_type": "execute_result"
    }
   ],
   "source": [
    "summary = val_df.describe()\n",
    "summary"
   ],
   "metadata": {
    "collapsed": false,
    "ExecuteTime": {
     "end_time": "2023-10-21T23:24:12.060103800Z",
     "start_time": "2023-10-21T23:24:07.769823800Z"
    }
   },
   "id": "75237fb570ae1e35"
  },
  {
   "cell_type": "markdown",
   "source": [
    "The next thing I will do is to plot the boxplot of each variable to visualize the outliers.\n",
    "I will use the seaborn library to plot the boxplot.\n"
   ],
   "metadata": {
    "collapsed": false
   },
   "id": "b1f06677a7560fc2"
  },
  {
   "cell_type": "markdown",
   "source": [
    "#### Damage per round"
   ],
   "metadata": {
    "collapsed": false
   },
   "id": "6c5e4e9e10fcfd89"
  },
  {
   "cell_type": "code",
   "execution_count": 121,
   "outputs": [
    {
     "name": "stdout",
     "output_type": "stream",
     "text": [
      "(84068, 38)\n"
     ]
    },
    {
     "data": {
      "text/plain": "<Figure size 640x480 with 1 Axes>",
      "image/png": "[encoded data removed]"
     },
     "metadata": {},
     "output_type": "display_data"
    }
   ],
   "source": [
    "print(val_df.shape)\n",
    "plt.boxplot(x=val_df['damage_round'])\n",
    "plt.show()"
   ],
   "metadata": {
    "collapsed": false,
    "ExecuteTime": {
     "end_time": "2023-10-21T23:27:16.468965600Z",
     "start_time": "2023-10-21T23:27:16.299164Z"
    }
   },
   "id": "5d74ccc95fd3432d"
  },
  {
   "cell_type": "markdown",
   "source": [
    "\n",
    "The boxplot shows that there are a lot of outliers in the `damage_round` variable. The outliers are the dots outside the boxplot. The boxplot also shows that the median is around 140. The boxplot also shows that the data is positively skewed.\n",
    "\n",
    "The outliers in the `damage_round` variable are the players who deal a lot of damage per round. These players are the ones who are very good at the game.\n",
    "\n",
    "The outliers to the right of the boxplot are valid data points. These are the players who deal a lot of damage per round. These players are the ones who are very good at the game.\n",
    "\n",
    "However, the outliers at the very left of the boxplot are invalid data points. Some of these players have a damage per round of 0. Which can mean that they did not play the game during the time frame the data was collected.\n",
    "\n",
    "\n",
    "These data points will be **removed** from the dataset."
   ],
   "metadata": {
    "collapsed": false
   },
   "id": "2628d1e39c115b2c"
  },
  {
   "cell_type": "code",
   "execution_count": 122,
   "outputs": [
    {
     "name": "stdout",
     "output_type": "stream",
     "text": [
      "(84065, 38)\n"
     ]
    },
    {
     "data": {
      "text/plain": "<Figure size 640x480 with 1 Axes>",
      "image/png": "[encoded data removed]"
     },
     "metadata": {},
     "output_type": "display_data"
    }
   ],
   "source": [
    "val_df = val_df[(val_df['damage_round'] > 0) & (val_df['gun1_kills'] > 0)]\n",
    "print(val_df.shape)\n",
    "plt.boxplot(x=val_df['damage_round'])\n",
    "plt.show()"
   ],
   "metadata": {
    "collapsed": false,
    "ExecuteTime": {
     "end_time": "2023-10-21T23:27:31.096029900Z",
     "start_time": "2023-10-21T23:27:30.874274200Z"
    }
   },
   "id": "71db2ae01059c488"
  },
  {
   "cell_type": "markdown",
   "source": [
    "#### Headshots"
   ],
   "metadata": {
    "collapsed": false
   },
   "id": "d5b31ede44b9b03"
  },
  {
   "cell_type": "code",
   "execution_count": 124,
   "outputs": [
    {
     "data": {
      "text/plain": "<Figure size 640x480 with 1 Axes>",
      "image/png": "[encoded data removed]"
     },
     "metadata": {},
     "output_type": "display_data"
    }
   ],
   "source": [
    "plt.boxplot(x=val_df['headshots'])\n",
    "plt.show()"
   ],
   "metadata": {
    "collapsed": false,
    "ExecuteTime": {
     "end_time": "2023-10-21T23:27:42.187976600Z",
     "start_time": "2023-10-21T23:27:41.951959100Z"
    }
   },
   "id": "19c30177c6d9bdae"
  },
  {
   "cell_type": "markdown",
   "source": [
    "The box plot shows that there are a lot of outliers in the `headshots` variable. The outliers are the dots outside the boxplot. The boxplot also shows that the median is around 30. The boxplot also shows that the data is positively skewed.\n",
    "\n",
    "Moreover, there is a single data point that is very far from the rest of the data points. This data point is an outlier. However, this data point is valid because it is possible to get a lot of headshots in a game. Moreover, this player is just very good at the game."
   ],
   "metadata": {
    "collapsed": false
   },
   "id": "1f9f16627f9955df"
  },
  {
   "cell_type": "code",
   "execution_count": null,
   "outputs": [],
   "source": [
    "val_df[val_df['headshots'] > 5000]"
   ],
   "metadata": {
    "collapsed": false,
    "ExecuteTime": {
     "start_time": "2023-10-21T23:24:07.937838200Z"
    }
   },
   "id": "bb0d7e8efcecf607"
  },
  {
   "cell_type": "markdown",
   "source": [
    "Furthermore, upon closer examination of the dataset, it is apparent that instances where the variable 'headshots' equals zero should not be dismissed as outliers. This is justified by the fact that obtaining zero headshots during gameplay is a plausible outcome, indicative of players who may not have extensive playtime during the time frame of when the data was collected."
   ],
   "metadata": {
    "collapsed": false
   },
   "id": "c5d68e93ad9c9f94"
  },
  {
   "cell_type": "code",
   "execution_count": null,
   "outputs": [],
   "source": [
    "val_df[val_df['headshots'] == 0]"
   ],
   "metadata": {
    "collapsed": false,
    "ExecuteTime": {
     "start_time": "2023-10-21T23:24:07.939835800Z"
    }
   },
   "id": "d050797f14b443dc"
  },
  {
   "cell_type": "markdown",
   "source": [
    "#### Headshot Percentage\n"
   ],
   "metadata": {
    "collapsed": false
   },
   "id": "940942798055d24"
  },
  {
   "cell_type": "code",
   "execution_count": 125,
   "outputs": [
    {
     "data": {
      "text/plain": "<Figure size 640x480 with 1 Axes>",
      "image/png": "[encoded data removed]"
     },
     "metadata": {},
     "output_type": "display_data"
    }
   ],
   "source": [
    "plt.boxplot(x=val_df['headshot_percent'])\n",
    "plt.show()"
   ],
   "metadata": {
    "collapsed": false,
    "ExecuteTime": {
     "end_time": "2023-10-21T23:27:50.588962400Z",
     "start_time": "2023-10-21T23:27:50.460382500Z"
    }
   },
   "id": "39014fd13cc31136"
  },
  {
   "cell_type": "markdown",
   "source": [],
   "metadata": {
    "collapsed": false
   },
   "id": "51b2c74459d1b0dc"
  },
  {
   "cell_type": "markdown",
   "source": [
    "Investigating the data points where the `headshot_percent` is greater than 70. These data points are still valid because it is possible to have a headshot percentage greater than 70. Moreover, these players are just very good at the game."
   ],
   "metadata": {
    "collapsed": false
   },
   "id": "c378d13cf2bb3c29"
  },
  {
   "cell_type": "code",
   "execution_count": null,
   "outputs": [],
   "source": [
    "val_df[val_df['headshot_percent'] > 70]"
   ],
   "metadata": {
    "collapsed": false,
    "ExecuteTime": {
     "start_time": "2023-10-21T23:24:07.947357100Z"
    }
   },
   "id": "472b4a8b91e062ad"
  },
  {
   "cell_type": "markdown",
   "source": [
    "Investigating the data points where the `headshot_percent` is equal to 0. These data points are still valid because it is possible to have a headshot percentage of 0. Moreover, these players were not active during the time frame the data was collected."
   ],
   "metadata": {
    "collapsed": false
   },
   "id": "1ec249299e9c7685"
  },
  {
   "cell_type": "code",
   "execution_count": null,
   "outputs": [],
   "source": [
    "val_df[val_df['headshot_percent'] == 0]"
   ],
   "metadata": {
    "collapsed": false,
    "ExecuteTime": {
     "start_time": "2023-10-21T23:24:07.950400700Z"
    }
   },
   "id": "eb2fcb75d990918b"
  },
  {
   "cell_type": "markdown",
   "source": [
    "#### Aces"
   ],
   "metadata": {
    "collapsed": false
   },
   "id": "ed7c336731b9e925"
  },
  {
   "cell_type": "code",
   "execution_count": 126,
   "outputs": [
    {
     "data": {
      "text/plain": "<Figure size 640x480 with 1 Axes>",
      "image/png": "[encoded data removed]"
     },
     "metadata": {},
     "output_type": "display_data"
    }
   ],
   "source": [
    "plt.boxplot(x=val_df['aces'])\n",
    "plt.show()"
   ],
   "metadata": {
    "collapsed": false,
    "ExecuteTime": {
     "end_time": "2023-10-21T23:28:03.146522200Z",
     "start_time": "2023-10-21T23:28:03.024030600Z"
    }
   },
   "id": "1f45e70bcd990758"
  },
  {
   "cell_type": "code",
   "execution_count": null,
   "outputs": [],
   "source": [
    "val_df[val_df['aces'] > 10]"
   ],
   "metadata": {
    "collapsed": false,
    "ExecuteTime": {
     "start_time": "2023-10-21T23:24:07.956439300Z"
    }
   },
   "id": "cb0466e8bd8240df"
  },
  {
   "cell_type": "markdown",
   "source": [
    "Investigating the data points where the `aces` is greater than 10. These data points are still valid because it is possible to have more than 10 aces. Moreover, these players are just very good at the game. \n",
    "\n",
    "Furthermore, upon closer examination of the dataset, it is apparent that instances where the variable 'aces' equals zero should not be dismissed as outliers. This is justified by the fact that obtaining zero aces during gameplay is a plausible outcome, indicative of players who may not have extensive playtime during the time frame of when the data was collected.\n"
   ],
   "metadata": {
    "collapsed": false
   },
   "id": "a1eec19c4c68b22d"
  },
  {
   "cell_type": "markdown",
   "source": [
    "#### Clutches\n"
   ],
   "metadata": {
    "collapsed": false
   },
   "id": "a9e27da3152e93b5"
  },
  {
   "cell_type": "code",
   "execution_count": 127,
   "outputs": [
    {
     "data": {
      "text/plain": "<Figure size 640x480 with 1 Axes>",
      "image/png": "[encoded data removed]"
     },
     "metadata": {},
     "output_type": "display_data"
    }
   ],
   "source": [
    "plt.boxplot(x=val_df['clutches'])\n",
    "plt.show()"
   ],
   "metadata": {
    "collapsed": false,
    "ExecuteTime": {
     "end_time": "2023-10-21T23:28:11.099179100Z",
     "start_time": "2023-10-21T23:28:10.954853500Z"
    }
   },
   "id": "52c9ef8002901b93"
  },
  {
   "cell_type": "markdown",
   "source": [
    "Investigating the data points where the `clutches` is greater than 10. These data points are still valid because it is possible to have more than 10 clutches. Moreover, these players are just very good at the game."
   ],
   "metadata": {
    "collapsed": false
   },
   "id": "e299bb0f3dbef00"
  },
  {
   "cell_type": "markdown",
   "source": [
    "#### Flawless"
   ],
   "metadata": {
    "collapsed": false
   },
   "id": "baafcc3a68814458"
  },
  {
   "cell_type": "code",
   "execution_count": 128,
   "outputs": [
    {
     "data": {
      "text/plain": "<Figure size 640x480 with 1 Axes>",
      "image/png": "[encoded data removed]"
     },
     "metadata": {},
     "output_type": "display_data"
    }
   ],
   "source": [
    "plt.boxplot(x=val_df['flawless'])\n",
    "plt.show()"
   ],
   "metadata": {
    "collapsed": false,
    "ExecuteTime": {
     "end_time": "2023-10-21T23:28:16.945668200Z",
     "start_time": "2023-10-21T23:28:16.805739800Z"
    }
   },
   "id": "96ba2b872add049f"
  },
  {
   "cell_type": "markdown",
   "source": [
    "Investigating the data points where the `flawless` is greater than 10. These data points are still valid because it is possible to have more than 10 flawless rounds. Moreover, these players are just very good at the game."
   ],
   "metadata": {
    "collapsed": false
   },
   "id": "3d9770083775e2f6"
  },
  {
   "cell_type": "markdown",
   "source": [
    "#### First Bloods"
   ],
   "metadata": {
    "collapsed": false
   },
   "id": "23d7022df8021ba1"
  },
  {
   "cell_type": "code",
   "execution_count": 129,
   "outputs": [
    {
     "data": {
      "text/plain": "<Figure size 640x480 with 1 Axes>",
      "image/png": "[encoded data removed]"
     },
     "metadata": {},
     "output_type": "display_data"
    }
   ],
   "source": [
    "plt.boxplot(x=val_df['first_bloods'])\n",
    "plt.show()"
   ],
   "metadata": {
    "collapsed": false,
    "ExecuteTime": {
     "end_time": "2023-10-21T23:28:22.220975300Z",
     "start_time": "2023-10-21T23:28:22.079568500Z"
    }
   },
   "id": "5d5c31c2586ce899"
  },
  {
   "cell_type": "markdown",
   "source": [
    "Investigating the data points where the `first_bloods` is greater than 10. These data points are still valid because it is possible to have more than 10 first bloods. Moreover, these players are just very good at the game."
   ],
   "metadata": {
    "collapsed": false
   },
   "id": "db7dc03984fb66f3"
  },
  {
   "cell_type": "markdown",
   "source": [
    "#### Kills"
   ],
   "metadata": {
    "collapsed": false
   },
   "id": "c34600d4ee22128c"
  },
  {
   "cell_type": "code",
   "execution_count": 130,
   "outputs": [
    {
     "data": {
      "text/plain": "<Figure size 640x480 with 1 Axes>",
      "image/png": "[encoded data removed]"
     },
     "metadata": {},
     "output_type": "display_data"
    }
   ],
   "source": [
    "plt.boxplot(x=val_df['kills'])\n",
    "plt.show()"
   ],
   "metadata": {
    "collapsed": false,
    "ExecuteTime": {
     "end_time": "2023-10-21T23:28:29.765368100Z",
     "start_time": "2023-10-21T23:28:29.625044200Z"
    }
   },
   "id": "6b607c0ac2b8ff53"
  },
  {
   "cell_type": "markdown",
   "source": [
    "Investigating the data points where the `kills` are greater than the 4th quartile or equal to 0. These data points are still valid because it possible to have more than 2000 kills and it is also possible to have 0 kills. Moreover, these players are just very good at the game or they were not active during the time frame the data was collected."
   ],
   "metadata": {
    "collapsed": false
   },
   "id": "c48c6ce80885cd78"
  },
  {
   "cell_type": "markdown",
   "source": [
    "#### Deaths"
   ],
   "metadata": {
    "collapsed": false
   },
   "id": "53ecfc54f06dcbc7"
  },
  {
   "cell_type": "code",
   "execution_count": 131,
   "outputs": [
    {
     "data": {
      "text/plain": "<Figure size 640x480 with 1 Axes>",
      "image/png": "[encoded data removed]"
     },
     "metadata": {},
     "output_type": "display_data"
    }
   ],
   "source": [
    "plt.boxplot(x=val_df['deaths'])\n",
    "plt.show()"
   ],
   "metadata": {
    "collapsed": false,
    "ExecuteTime": {
     "end_time": "2023-10-21T23:28:36.832539500Z",
     "start_time": "2023-10-21T23:28:36.687468400Z"
    }
   },
   "id": "aebbc6660f28f183"
  },
  {
   "cell_type": "markdown",
   "source": [
    "Investigating the data points where the `deaths` are greater than the 4th quartile or equal to 0. These data points are still valid because it possible to have more than 2000 deaths and it is also possible to have 0 deaths. Moreover, these players are just very good at the game or they were not active during the time frame the data was collected."
   ],
   "metadata": {
    "collapsed": false
   },
   "id": "29bdfe248d4962fe"
  },
  {
   "cell_type": "markdown",
   "source": [
    "#### Assists"
   ],
   "metadata": {
    "collapsed": false
   },
   "id": "f06a44fcad9904d1"
  },
  {
   "cell_type": "code",
   "execution_count": 132,
   "outputs": [
    {
     "data": {
      "text/plain": "<Figure size 640x480 with 1 Axes>",
      "image/png": "[encoded data removed]"
     },
     "metadata": {},
     "output_type": "display_data"
    }
   ],
   "source": [
    "plt.boxplot(x=val_df['assists'])\n",
    "plt.show()"
   ],
   "metadata": {
    "collapsed": false,
    "ExecuteTime": {
     "end_time": "2023-10-21T23:28:43.074530400Z",
     "start_time": "2023-10-21T23:28:42.912332700Z"
    }
   },
   "id": "3b5da4d77fd99cc3"
  },
  {
   "cell_type": "markdown",
   "source": [
    "Investigating the data points where the `assists` are greater than the 4th quartile or equal to 0. These data points are still valid because it possible to have more than 2000 assists and it is also possible to have 0 assists. Moreover, these players are just very good at the game or they were not active during the time frame the data was collected."
   ],
   "metadata": {
    "collapsed": false
   },
   "id": "e333e41fd18d5974"
  },
  {
   "cell_type": "markdown",
   "source": [
    "#### Kill-Death Ratio"
   ],
   "metadata": {
    "collapsed": false
   },
   "id": "ed16c0b07cd48f9e"
  },
  {
   "cell_type": "code",
   "execution_count": 133,
   "outputs": [
    {
     "data": {
      "text/plain": "<Figure size 640x480 with 1 Axes>",
      "image/png": "[encoded data removed]"
     },
     "metadata": {},
     "output_type": "display_data"
    }
   ],
   "source": [
    "plt.boxplot(x=val_df['kd_ratio'])\n",
    "plt.show()"
   ],
   "metadata": {
    "collapsed": false,
    "ExecuteTime": {
     "end_time": "2023-10-21T23:28:49.305723Z",
     "start_time": "2023-10-21T23:28:49.159957800Z"
    }
   },
   "id": "7701ed2e189e496f"
  },
  {
   "cell_type": "markdown",
   "source": [
    "Investigating the data points where the `kd_ratio` are greater than the 4th quartile or roughly equal to 0. These data points are still valid because it possible to have more deaths than kills and it is also possible to have more kills than deaths. Moreover, these players are just very good at the game or they were not active during the time frame the data was collected."
   ],
   "metadata": {
    "collapsed": false
   },
   "id": "326c2aa166114026"
  },
  {
   "cell_type": "code",
   "execution_count": null,
   "outputs": [],
   "source": [
    "val_df[(val_df['kd_ratio'] > 0) & (val_df['kd_ratio'] < 1)]"
   ],
   "metadata": {
    "collapsed": false,
    "ExecuteTime": {
     "start_time": "2023-10-21T23:24:07.977025800Z"
    }
   },
   "id": "8c2345a8d38750a6"
  },
  {
   "cell_type": "markdown",
   "source": [
    "#### Kills per Round"
   ],
   "metadata": {
    "collapsed": false
   },
   "id": "dd5d8f4c24ee50c4"
  },
  {
   "cell_type": "code",
   "execution_count": 134,
   "outputs": [
    {
     "data": {
      "text/plain": "<Figure size 640x480 with 1 Axes>",
      "image/png": "[encoded data removed]"
     },
     "metadata": {},
     "output_type": "display_data"
    }
   ],
   "source": [
    "plt.boxplot(x=val_df['kills_round'])\n",
    "plt.show()"
   ],
   "metadata": {
    "collapsed": false,
    "ExecuteTime": {
     "end_time": "2023-10-21T23:28:55.300126200Z",
     "start_time": "2023-10-21T23:28:55.137923600Z"
    }
   },
   "id": "8b54e3f9455baf80"
  },
  {
   "cell_type": "markdown",
   "source": [
    "#### Most Kills"
   ],
   "metadata": {
    "collapsed": false
   },
   "id": "bddc297b2908e829"
  },
  {
   "cell_type": "code",
   "execution_count": 135,
   "outputs": [
    {
     "data": {
      "text/plain": "<Figure size 640x480 with 1 Axes>",
      "image/png": "[encoded data removed]"
     },
     "metadata": {},
     "output_type": "display_data"
    }
   ],
   "source": [
    "plt.boxplot(x=val_df['most_kills'])\n",
    "plt.show()"
   ],
   "metadata": {
    "collapsed": false,
    "ExecuteTime": {
     "end_time": "2023-10-21T23:29:02.073340300Z",
     "start_time": "2023-10-21T23:29:01.936430900Z"
    }
   },
   "id": "9ddd8d8e32b765d7"
  },
  {
   "cell_type": "code",
   "execution_count": null,
   "outputs": [],
   "source": [
    "val_df[val_df['most_kills'] < 3]"
   ],
   "metadata": {
    "collapsed": false,
    "ExecuteTime": {
     "start_time": "2023-10-21T23:24:07.985061300Z"
    }
   },
   "id": "ab7eaee26fb49bb6"
  },
  {
   "cell_type": "markdown",
   "source": [
    "With this boxplot, we can see that there are a lot of outliers. The outliers are the dots outside the boxplot. The boxplot also shows that the median is around 20. The outliers are valid data points. These are the players who have a lot of kills in a single game or they were not active during the time frame the data was collected."
   ],
   "metadata": {
    "collapsed": false
   },
   "id": "b27d08748807931e"
  },
  {
   "cell_type": "markdown",
   "source": [
    "#### Score per Round"
   ],
   "metadata": {
    "collapsed": false
   },
   "id": "255da15a22ca060f"
  },
  {
   "cell_type": "code",
   "execution_count": 136,
   "outputs": [
    {
     "data": {
      "text/plain": "<Figure size 640x480 with 1 Axes>",
      "image/png": "[encoded data removed]"
     },
     "metadata": {},
     "output_type": "display_data"
    }
   ],
   "source": [
    "plt.boxplot(x=val_df['score_round'])\n",
    "plt.show()"
   ],
   "metadata": {
    "collapsed": false,
    "ExecuteTime": {
     "end_time": "2023-10-21T23:29:09.891471900Z",
     "start_time": "2023-10-21T23:29:09.759188700Z"
    }
   },
   "id": "c071fdd7c9bba332"
  },
  {
   "cell_type": "markdown",
   "source": [],
   "metadata": {
    "collapsed": false
   },
   "id": "510d9347b6f0ace0"
  },
  {
   "cell_type": "markdown",
   "source": [],
   "metadata": {
    "collapsed": false
   },
   "id": "155e2fe2f938436"
  },
  {
   "cell_type": "markdown",
   "id": "30b397a119a222b4",
   "metadata": {
    "collapsed": false,
    "ExecuteTime": {
     "end_time": "2023-10-20T12:21:01.850215Z",
     "start_time": "2023-10-20T12:21:01.261389Z"
    }
   },
   "source": [
    "## Comparing two variables"
   ]
  },
  {
   "cell_type": "markdown",
   "id": "206ba8ae6b19a28d",
   "metadata": {
    "collapsed": false
   },
   "source": [
    "### Player's most used agent vs. Player's aces\n",
    "Let's compare the player's most used agent and the player's aces."
   ]
  },
  {
   "cell_type": "code",
   "execution_count": null,
   "id": "e5b36bc8b2d0da78",
   "metadata": {
    "collapsed": false,
    "ExecuteTime": {
     "start_time": "2023-10-21T23:24:07.989589300Z"
    }
   },
   "outputs": [],
   "source": [
    "# Create a dataframe with the columns 'agent_1' and 'aces'\n",
    "agent_aces_df = val_df[['agent_1', 'aces']]\n",
    "agent_aces_df"
   ]
  },
  {
   "cell_type": "markdown",
   "id": "8753a70fc8e5d830",
   "metadata": {
    "collapsed": false,
    "ExecuteTime": {
     "end_time": "2023-10-20T12:21:01.880031Z",
     "start_time": "2023-10-20T12:21:01.422979Z"
    }
   },
   "source": [
    "Let's group the dataframe by `agent_1` and get the mean of `aces`."
   ]
  },
  {
   "cell_type": "code",
   "execution_count": null,
   "id": "5d8c27b4ff77c80a",
   "metadata": {
    "collapsed": false,
    "ExecuteTime": {
     "start_time": "2023-10-21T23:24:07.990582300Z"
    }
   },
   "outputs": [],
   "source": [
    "# Group the dataframe by 'agent_1' and get the mean of 'aces'\n",
    "agent_aces_df = agent_aces_df.groupby('agent_1').mean()\n",
    "agent_aces_df"
   ]
  },
  {
   "cell_type": "markdown",
   "id": "a44ce948e6dfa764",
   "metadata": {
    "collapsed": false,
    "ExecuteTime": {
     "end_time": "2023-10-20T12:21:01.916852Z",
     "start_time": "2023-10-20T12:21:01.433265Z"
    }
   },
   "source": [
    "Let's sort the dataframe by `aces` in descending order."
   ]
  },
  {
   "cell_type": "code",
   "execution_count": null,
   "id": "428d00aac584cd29",
   "metadata": {
    "collapsed": false,
    "ExecuteTime": {
     "start_time": "2023-10-21T23:24:07.993108800Z"
    }
   },
   "outputs": [],
   "source": [
    "# Sort the dataframe by 'aces' in descending order\n",
    "agent_aces_df = agent_aces_df.sort_values(by='aces', ascending=False)\n",
    "agent_aces_df"
   ]
  },
  {
   "cell_type": "markdown",
   "id": "1653c35790f25c1d",
   "metadata": {
    "collapsed": false,
    "ExecuteTime": {
     "end_time": "2023-10-20T12:21:01.917916Z",
     "start_time": "2023-10-20T12:21:01.500152Z"
    }
   },
   "source": [
    "Let's plot the dataframe."
   ]
  },
  {
   "cell_type": "code",
   "execution_count": null,
   "id": "2a4dda85d64f2fd7",
   "metadata": {
    "collapsed": false,
    "ExecuteTime": {
     "start_time": "2023-10-21T23:24:07.994097600Z"
    }
   },
   "outputs": [],
   "source": [
    "# Plot the dataframe\n",
    "agent_aces_df.plot.bar(figsize=(10, 5))\n",
    "plt.xlabel('Agent')\n",
    "plt.ylabel('Average Aces')\n",
    "plt.title('Average Aces vs. Most Used Agent')\n",
    "plt.show()"
   ]
  },
  {
   "cell_type": "markdown",
   "id": "e3ac8c5e0404ab98",
   "metadata": {
    "collapsed": false,
    "ExecuteTime": {
     "end_time": "2023-10-20T12:21:02.096491Z",
     "start_time": "2023-10-20T12:21:01.500679Z"
    }
   },
   "source": [
    "### Player's most used agent vs. Player's clutches\n",
    "Let's compare the player's most used agent and the player's clutches."
   ]
  },
  {
   "cell_type": "code",
   "execution_count": null,
   "id": "3bd81d3d606da243",
   "metadata": {
    "collapsed": false,
    "ExecuteTime": {
     "start_time": "2023-10-21T23:24:07.995099Z"
    }
   },
   "outputs": [],
   "source": [
    "# Create a dataframe with the columns 'agent_1' and 'clutches'\n",
    "agent_clutches_df = val_df[['agent_1', 'clutches']]\n",
    "agent_clutches_df"
   ]
  },
  {
   "cell_type": "markdown",
   "id": "eea8caf534eadb3a",
   "metadata": {
    "collapsed": false,
    "ExecuteTime": {
     "end_time": "2023-10-20T12:21:02.096825Z",
     "start_time": "2023-10-20T12:21:01.662616Z"
    }
   },
   "source": [
    "Let's group the dataframe by `agent_1` and get the mean of `clutches`."
   ]
  },
  {
   "cell_type": "code",
   "execution_count": null,
   "id": "a859ded7d4ede62e",
   "metadata": {
    "collapsed": false,
    "ExecuteTime": {
     "start_time": "2023-10-21T23:24:07.997622200Z"
    }
   },
   "outputs": [],
   "source": [
    "# Group the dataframe by 'agent_1' and get the mean of 'clutches'\n",
    "agent_clutches_df = agent_clutches_df.groupby('agent_1').mean()\n",
    "agent_clutches_df"
   ]
  },
  {
   "cell_type": "markdown",
   "id": "f16cd3fd036b41e5",
   "metadata": {
    "collapsed": false,
    "ExecuteTime": {
     "end_time": "2023-10-20T12:21:02.121791Z",
     "start_time": "2023-10-20T12:21:01.669419Z"
    }
   },
   "source": [
    "Let's sort the dataframe by `clutches` in descending order."
   ]
  },
  {
   "cell_type": "code",
   "execution_count": null,
   "id": "9fb95eb4f4dee6b2",
   "metadata": {
    "collapsed": false,
    "ExecuteTime": {
     "start_time": "2023-10-21T23:24:08.000135200Z"
    }
   },
   "outputs": [],
   "source": [
    "# Sort the dataframe by 'clutches' in descending order\n",
    "agent_clutches_df = agent_clutches_df.sort_values(by='clutches', ascending=False)\n",
    "agent_clutches_df"
   ]
  },
  {
   "cell_type": "markdown",
   "id": "80212ff381676b36",
   "metadata": {
    "collapsed": false,
    "ExecuteTime": {
     "end_time": "2023-10-20T12:21:02.122038Z",
     "start_time": "2023-10-20T12:21:01.679443Z"
    }
   },
   "source": [
    "Let's plot the dataframe."
   ]
  },
  {
   "cell_type": "code",
   "execution_count": null,
   "id": "2fde9e0cb263065",
   "metadata": {
    "collapsed": false,
    "ExecuteTime": {
     "start_time": "2023-10-21T23:24:08.002698600Z"
    }
   },
   "outputs": [],
   "source": [
    "# Plot the dataframe\n",
    "agent_clutches_df.plot.bar(figsize=(10, 5))\n",
    "plt.xlabel('Agent')\n",
    "plt.ylabel('Average Clutches')\n",
    "plt.title('Average Clutches vs. Most Used Agent')\n",
    "plt.show()"
   ]
  },
  {
   "cell_type": "markdown",
   "id": "45ec4710fc7ac7c3",
   "metadata": {
    "collapsed": false,
    "ExecuteTime": {
     "end_time": "2023-10-20T12:21:02.211146Z",
     "start_time": "2023-10-20T12:21:01.698180Z"
    }
   },
   "source": [
    "### Player's headshot percentage vs. Player's win percentage\n",
    "Let's compare the player's headshot percentage and the player's win percentage."
   ]
  },
  {
   "cell_type": "markdown",
   "id": "69be56815b93074e",
   "metadata": {
    "collapsed": false
   },
   "source": [
    "First, let's create a dataframe with the columns `headshot_percent` and `win_percent`."
   ]
  },
  {
   "cell_type": "code",
   "execution_count": null,
   "id": "ef5ca31dcc2b641c",
   "metadata": {
    "collapsed": false,
    "ExecuteTime": {
     "start_time": "2023-10-21T23:24:08.004695200Z"
    }
   },
   "outputs": [],
   "source": [
    "# Create a dataframe with the columns 'headshot_percent' and 'win_percent'\n",
    "headshot_win_df = val_df[['headshot_percent', 'win_percent']]\n",
    "headshot_win_df"
   ]
  },
  {
   "cell_type": "markdown",
   "id": "b599688b58075d3d",
   "metadata": {
    "collapsed": false,
    "ExecuteTime": {
     "end_time": "2023-10-20T12:21:02.228826Z",
     "start_time": "2023-10-20T12:21:01.920300Z"
    }
   },
   "source": [
    "Let's plot the dataframe."
   ]
  },
  {
   "cell_type": "code",
   "execution_count": null,
   "id": "ffc12838407d327d",
   "metadata": {
    "collapsed": false,
    "ExecuteTime": {
     "start_time": "2023-10-21T23:24:08.006210900Z"
    }
   },
   "outputs": [],
   "source": [
    "# Plot the dataframe\n",
    "headshot_win_df.plot.scatter(x='headshot_percent', y='win_percent', figsize=(10, 5))\n",
    "plt.xlabel('Headshot Percentage')\n",
    "plt.ylabel('Win Percentage')\n",
    "plt.title('Headshot Percentage vs. Win Percentage')\n",
    "plt.show()"
   ]
  },
  {
   "cell_type": "markdown",
   "id": "f039717d",
   "metadata": {
    "ExecuteTime": {
     "end_time": "2023-10-20T12:21:02.231348Z",
     "start_time": "2023-10-20T12:21:01.925005Z"
    }
   },
   "source": [
    "Getting the range of all variables"
   ]
  },
  {
   "cell_type": "code",
   "execution_count": null,
   "id": "da88cd4a",
   "metadata": {
    "ExecuteTime": {
     "start_time": "2023-10-21T23:24:08.008737200Z"
    }
   },
   "outputs": [],
   "source": [
    "\n",
    "variables = ['damage_round',\n",
    " 'headshots',\n",
    " 'headshot_percent',\n",
    " 'aces',\n",
    " 'clutches',\n",
    " 'flawless',\n",
    " 'first_bloods',\n",
    " 'kills',\n",
    " 'deaths',\n",
    " 'assists',\n",
    " 'kd_ratio',\n",
    " 'kills_round',\n",
    " 'most_kills',\n",
    " 'score_round',\n",
    " 'wins',\n",
    " 'win_percent',\n",
    " 'gun1_head',\n",
    " 'gun1_body',\n",
    " 'gun1_legs',\n",
    " 'gun1_kills',\n",
    " 'gun2_head',\n",
    " 'gun2_body',\n",
    " 'gun2_legs',\n",
    " 'gun2_kills',\n",
    " 'gun3_head',\n",
    " 'gun3_body',\n",
    " 'gun3_legs',\n",
    " 'gun3_kills']\n",
    "\n",
    "for var in variables:\n",
    "    range_var = val_df[var].max() - val_df[var].min()\n",
    "    print(f\"Range for {var}: {range_var}\")\n"
   ]
  },
  {
   "cell_type": "code",
   "execution_count": null,
   "outputs": [],
   "source": [
    "headshot_win_df = val_df[['kills', 'deaths']]\n",
    "headshot_win_df.plot.scatter(x='kills', y='deaths', figsize=(10, 5))\n",
    "plt.xlabel('kills ')\n",
    "plt.ylabel('deaths ')\n",
    "plt.title('title')\n",
    "plt.show()"
   ],
   "metadata": {
    "collapsed": false,
    "ExecuteTime": {
     "start_time": "2023-10-21T23:24:08.010732800Z"
    }
   },
   "id": "9e9457e04c1c392b"
  },
  {
   "cell_type": "code",
   "execution_count": null,
   "outputs": [],
   "source": [],
   "metadata": {
    "collapsed": false,
    "ExecuteTime": {
     "start_time": "2023-10-21T23:24:08.012732700Z"
    }
   },
   "id": "9a51ed03ed21030"
  }
 ],
 "metadata": {
  "kernelspec": {
   "display_name": "Python 3 (ipykernel)",
   "language": "python",
   "name": "python3"
  },
  "language_info": {
   "codemirror_mode": {
    "name": "ipython",
    "version": 3
   },
   "file_extension": ".py",
   "mimetype": "text/x-python",
   "name": "python",
   "nbconvert_exporter": "python",
   "pygments_lexer": "ipython3",
   "version": "3.11.4"
  }
 },
 "nbformat": 4,
 "nbformat_minor": 5
}
